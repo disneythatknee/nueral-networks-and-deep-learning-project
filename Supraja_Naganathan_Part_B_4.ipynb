{
 "cells": [
  {
   "cell_type": "markdown",
   "metadata": {
    "id": "Pp6KAX1UXqaK"
   },
   "source": [
    "# Question B4 (10 marks)\n",
    "\n",
    "Model degradation is a common issue faced when deploying machine learning models (including neural networks) in the real world. New data points could exhibit a different pattern from older data points due to factors such as changes in government policy or market sentiments. For instance, housing prices in Singapore have been increasing and the Singapore government has introduced 3 rounds of cooling measures over the past years (16 December 2021, 30 September 2022, 27 April 2023).\n",
    "\n",
    "In such situations, the distribution of the new data points could differ from the original data distribution which the models were trained on. Recall that machine learning models often work with the assumption that the test distribution should be similar to train distribution. When this assumption is violated, model performance will be adversely impacted.  In the last part of this assignment, we will investigate to what extent model degradation has occurred.\n"
   ]
  },
  {
   "cell_type": "markdown",
   "metadata": {
    "id": "WsfKoCAMj9uo"
   },
   "source": [
    "\n",
    "\n",
    "---\n",
    "\n",
    "\n",
    "\n",
    "---\n",
    "\n"
   ]
  },
  {
   "cell_type": "markdown",
   "metadata": {
    "id": "Rjdf67uIarDX"
   },
   "source": [
    "Your co-investigators used a linear regression model to rapidly test out several combinations of train/test splits and shared with you their findings in a brief report attached in Appendix A below. You wish to investigate whether your deep learning model corroborates with their findings."
   ]
  },
  {
   "cell_type": "code",
   "execution_count": 1,
   "metadata": {
    "id": "M3-BW2LW4Icq"
   },
   "outputs": [
    {
     "name": "stdout",
     "output_type": "stream",
     "text": [
      "Requirement already satisfied: pytorch_tabular[extra] in c:\\users\\nsupr\\anaconda3\\envs\\tensorflow\\lib\\site-packages (1.1.0)\n",
      "Requirement already satisfied: torch>=1.11.0 in c:\\users\\nsupr\\anaconda3\\envs\\tensorflow\\lib\\site-packages (from pytorch_tabular[extra]) (2.2.2)\n",
      "Requirement already satisfied: numpy>1.20.0 in c:\\users\\nsupr\\anaconda3\\envs\\tensorflow\\lib\\site-packages (from pytorch_tabular[extra]) (1.24.4)\n",
      "Requirement already satisfied: pandas>=1.1.5 in c:\\users\\nsupr\\anaconda3\\envs\\tensorflow\\lib\\site-packages (from pytorch_tabular[extra]) (2.0.3)\n",
      "Requirement already satisfied: scikit-learn>=1.3.0 in c:\\users\\nsupr\\anaconda3\\envs\\tensorflow\\lib\\site-packages (from pytorch_tabular[extra]) (1.3.2)\n",
      "Requirement already satisfied: pytorch-lightning<2.2.0,>=2.0.0 in c:\\users\\nsupr\\anaconda3\\envs\\tensorflow\\lib\\site-packages (from pytorch_tabular[extra]) (2.1.4)\n",
      "Requirement already satisfied: omegaconf>=2.3.0 in c:\\users\\nsupr\\anaconda3\\envs\\tensorflow\\lib\\site-packages (from pytorch_tabular[extra]) (2.3.0)\n",
      "Requirement already satisfied: torchmetrics<1.3.0,>=0.10.0 in c:\\users\\nsupr\\anaconda3\\envs\\tensorflow\\lib\\site-packages (from pytorch_tabular[extra]) (1.2.1)\n",
      "Requirement already satisfied: tensorboard!=2.5.0,>2.2.0 in c:\\users\\nsupr\\anaconda3\\envs\\tensorflow\\lib\\site-packages (from pytorch_tabular[extra]) (2.13.0)\n",
      "Requirement already satisfied: protobuf<4.26.0,>=3.20.0 in c:\\users\\nsupr\\anaconda3\\envs\\tensorflow\\lib\\site-packages (from pytorch_tabular[extra]) (4.24.4)\n",
      "Requirement already satisfied: pytorch-tabnet==4.1 in c:\\users\\nsupr\\anaconda3\\envs\\tensorflow\\lib\\site-packages (from pytorch_tabular[extra]) (4.1.0)\n",
      "Requirement already satisfied: PyYAML<6.1.0,>=5.4 in c:\\users\\nsupr\\anaconda3\\envs\\tensorflow\\lib\\site-packages (from pytorch_tabular[extra]) (6.0.1)\n",
      "Requirement already satisfied: matplotlib>3.1 in c:\\users\\nsupr\\anaconda3\\envs\\tensorflow\\lib\\site-packages (from pytorch_tabular[extra]) (3.7.3)\n",
      "Requirement already satisfied: ipywidgets in c:\\users\\nsupr\\anaconda3\\envs\\tensorflow\\lib\\site-packages (from pytorch_tabular[extra]) (8.1.2)\n",
      "Requirement already satisfied: einops<0.8.0,>=0.6.0 in c:\\users\\nsupr\\anaconda3\\envs\\tensorflow\\lib\\site-packages (from pytorch_tabular[extra]) (0.7.0)\n",
      "Requirement already satisfied: rich>=11.0.0 in c:\\users\\nsupr\\anaconda3\\envs\\tensorflow\\lib\\site-packages (from pytorch_tabular[extra]) (13.7.1)\n",
      "Requirement already satisfied: wandb<0.17.0,>=0.15.0 in c:\\users\\nsupr\\anaconda3\\envs\\tensorflow\\lib\\site-packages (from pytorch_tabular[extra]) (0.16.6)\n",
      "Requirement already satisfied: plotly<5.19.0,>=5.13.0 in c:\\users\\nsupr\\anaconda3\\envs\\tensorflow\\lib\\site-packages (from pytorch_tabular[extra]) (5.18.0)\n",
      "Requirement already satisfied: kaleido<0.3.0,>=0.2.0 in c:\\users\\nsupr\\anaconda3\\envs\\tensorflow\\lib\\site-packages (from pytorch_tabular[extra]) (0.2.1)\n",
      "Requirement already satisfied: captum<0.8.0,>=0.5.0 in c:\\users\\nsupr\\anaconda3\\envs\\tensorflow\\lib\\site-packages (from pytorch_tabular[extra]) (0.7.0)\n",
      "Requirement already satisfied: scipy>1.4 in c:\\users\\nsupr\\anaconda3\\envs\\tensorflow\\lib\\site-packages (from pytorch-tabnet==4.1->pytorch_tabular[extra]) (1.10.1)\n",
      "Requirement already satisfied: tqdm>=4.36 in c:\\users\\nsupr\\anaconda3\\envs\\tensorflow\\lib\\site-packages (from pytorch-tabnet==4.1->pytorch_tabular[extra]) (4.66.1)\n",
      "Requirement already satisfied: contourpy>=1.0.1 in c:\\users\\nsupr\\anaconda3\\envs\\tensorflow\\lib\\site-packages (from matplotlib>3.1->pytorch_tabular[extra]) (1.1.1)\n",
      "Requirement already satisfied: cycler>=0.10 in c:\\users\\nsupr\\anaconda3\\envs\\tensorflow\\lib\\site-packages (from matplotlib>3.1->pytorch_tabular[extra]) (0.12.1)\n",
      "Requirement already satisfied: fonttools>=4.22.0 in c:\\users\\nsupr\\anaconda3\\envs\\tensorflow\\lib\\site-packages (from matplotlib>3.1->pytorch_tabular[extra]) (4.44.1)\n",
      "Requirement already satisfied: kiwisolver>=1.0.1 in c:\\users\\nsupr\\anaconda3\\envs\\tensorflow\\lib\\site-packages (from matplotlib>3.1->pytorch_tabular[extra]) (1.4.5)\n",
      "Requirement already satisfied: packaging>=20.0 in c:\\users\\nsupr\\anaconda3\\envs\\tensorflow\\lib\\site-packages (from matplotlib>3.1->pytorch_tabular[extra]) (23.1)\n",
      "Requirement already satisfied: pillow>=6.2.0 in c:\\users\\nsupr\\anaconda3\\envs\\tensorflow\\lib\\site-packages (from matplotlib>3.1->pytorch_tabular[extra]) (10.1.0)\n",
      "Requirement already satisfied: pyparsing>=2.3.1 in c:\\users\\nsupr\\anaconda3\\envs\\tensorflow\\lib\\site-packages (from matplotlib>3.1->pytorch_tabular[extra]) (3.1.1)\n",
      "Requirement already satisfied: python-dateutil>=2.7 in c:\\users\\nsupr\\anaconda3\\envs\\tensorflow\\lib\\site-packages (from matplotlib>3.1->pytorch_tabular[extra]) (2.8.2)\n",
      "Requirement already satisfied: importlib-resources>=3.2.0 in c:\\users\\nsupr\\anaconda3\\envs\\tensorflow\\lib\\site-packages (from matplotlib>3.1->pytorch_tabular[extra]) (6.1.0)\n",
      "Requirement already satisfied: antlr4-python3-runtime==4.9.* in c:\\users\\nsupr\\anaconda3\\envs\\tensorflow\\lib\\site-packages (from omegaconf>=2.3.0->pytorch_tabular[extra]) (4.9.3)\n",
      "Requirement already satisfied: pytz>=2020.1 in c:\\users\\nsupr\\anaconda3\\envs\\tensorflow\\lib\\site-packages (from pandas>=1.1.5->pytorch_tabular[extra]) (2023.3.post1)\n",
      "Requirement already satisfied: tzdata>=2022.1 in c:\\users\\nsupr\\anaconda3\\envs\\tensorflow\\lib\\site-packages (from pandas>=1.1.5->pytorch_tabular[extra]) (2023.3)\n",
      "Requirement already satisfied: tenacity>=6.2.0 in c:\\users\\nsupr\\anaconda3\\envs\\tensorflow\\lib\\site-packages (from plotly<5.19.0,>=5.13.0->pytorch_tabular[extra]) (8.2.3)\n",
      "Requirement already satisfied: fsspec>=2022.5.0 in c:\\users\\nsupr\\anaconda3\\envs\\tensorflow\\lib\\site-packages (from fsspec[http]>=2022.5.0->pytorch-lightning<2.2.0,>=2.0.0->pytorch_tabular[extra]) (2024.3.1)\n",
      "Requirement already satisfied: typing-extensions>=4.0.0 in c:\\users\\nsupr\\anaconda3\\envs\\tensorflow\\lib\\site-packages (from pytorch-lightning<2.2.0,>=2.0.0->pytorch_tabular[extra]) (4.10.0)\n",
      "Requirement already satisfied: lightning-utilities>=0.8.0 in c:\\users\\nsupr\\anaconda3\\envs\\tensorflow\\lib\\site-packages (from pytorch-lightning<2.2.0,>=2.0.0->pytorch_tabular[extra]) (0.11.2)\n",
      "Requirement already satisfied: markdown-it-py>=2.2.0 in c:\\users\\nsupr\\anaconda3\\envs\\tensorflow\\lib\\site-packages (from rich>=11.0.0->pytorch_tabular[extra]) (3.0.0)\n",
      "Requirement already satisfied: pygments<3.0.0,>=2.13.0 in c:\\users\\nsupr\\anaconda3\\envs\\tensorflow\\lib\\site-packages (from rich>=11.0.0->pytorch_tabular[extra]) (2.15.1)\n",
      "Requirement already satisfied: joblib>=1.1.1 in c:\\users\\nsupr\\anaconda3\\envs\\tensorflow\\lib\\site-packages (from scikit-learn>=1.3.0->pytorch_tabular[extra]) (1.3.2)\n",
      "Requirement already satisfied: threadpoolctl>=2.0.0 in c:\\users\\nsupr\\anaconda3\\envs\\tensorflow\\lib\\site-packages (from scikit-learn>=1.3.0->pytorch_tabular[extra]) (3.2.0)\n",
      "Requirement already satisfied: absl-py>=0.4 in c:\\users\\nsupr\\anaconda3\\envs\\tensorflow\\lib\\site-packages (from tensorboard!=2.5.0,>2.2.0->pytorch_tabular[extra]) (2.0.0)\n",
      "Requirement already satisfied: grpcio>=1.48.2 in c:\\users\\nsupr\\anaconda3\\envs\\tensorflow\\lib\\site-packages (from tensorboard!=2.5.0,>2.2.0->pytorch_tabular[extra]) (1.59.0)\n",
      "Requirement already satisfied: google-auth<3,>=1.6.3 in c:\\users\\nsupr\\anaconda3\\envs\\tensorflow\\lib\\site-packages (from tensorboard!=2.5.0,>2.2.0->pytorch_tabular[extra]) (2.23.3)\n",
      "Requirement already satisfied: google-auth-oauthlib<1.1,>=0.5 in c:\\users\\nsupr\\anaconda3\\envs\\tensorflow\\lib\\site-packages (from tensorboard!=2.5.0,>2.2.0->pytorch_tabular[extra]) (1.0.0)\n",
      "Requirement already satisfied: markdown>=2.6.8 in c:\\users\\nsupr\\anaconda3\\envs\\tensorflow\\lib\\site-packages (from tensorboard!=2.5.0,>2.2.0->pytorch_tabular[extra]) (3.5)\n",
      "Requirement already satisfied: requests<3,>=2.21.0 in c:\\users\\nsupr\\anaconda3\\envs\\tensorflow\\lib\\site-packages (from tensorboard!=2.5.0,>2.2.0->pytorch_tabular[extra]) (2.31.0)\n",
      "Requirement already satisfied: setuptools>=41.0.0 in c:\\users\\nsupr\\anaconda3\\envs\\tensorflow\\lib\\site-packages (from tensorboard!=2.5.0,>2.2.0->pytorch_tabular[extra]) (68.0.0)\n",
      "Requirement already satisfied: tensorboard-data-server<0.8.0,>=0.7.0 in c:\\users\\nsupr\\anaconda3\\envs\\tensorflow\\lib\\site-packages (from tensorboard!=2.5.0,>2.2.0->pytorch_tabular[extra]) (0.7.2)\n",
      "Requirement already satisfied: werkzeug>=1.0.1 in c:\\users\\nsupr\\anaconda3\\envs\\tensorflow\\lib\\site-packages (from tensorboard!=2.5.0,>2.2.0->pytorch_tabular[extra]) (3.0.1)\n",
      "Requirement already satisfied: wheel>=0.26 in c:\\users\\nsupr\\anaconda3\\envs\\tensorflow\\lib\\site-packages (from tensorboard!=2.5.0,>2.2.0->pytorch_tabular[extra]) (0.41.2)\n",
      "Requirement already satisfied: filelock in c:\\users\\nsupr\\anaconda3\\envs\\tensorflow\\lib\\site-packages (from torch>=1.11.0->pytorch_tabular[extra]) (3.13.1)\n",
      "Requirement already satisfied: sympy in c:\\users\\nsupr\\anaconda3\\envs\\tensorflow\\lib\\site-packages (from torch>=1.11.0->pytorch_tabular[extra]) (1.12)\n",
      "Requirement already satisfied: networkx in c:\\users\\nsupr\\anaconda3\\envs\\tensorflow\\lib\\site-packages (from torch>=1.11.0->pytorch_tabular[extra]) (3.1)\n",
      "Requirement already satisfied: jinja2 in c:\\users\\nsupr\\anaconda3\\envs\\tensorflow\\lib\\site-packages (from torch>=1.11.0->pytorch_tabular[extra]) (3.1.2)\n",
      "Requirement already satisfied: Click!=8.0.0,>=7.1 in c:\\users\\nsupr\\anaconda3\\envs\\tensorflow\\lib\\site-packages (from wandb<0.17.0,>=0.15.0->pytorch_tabular[extra]) (8.1.7)\n",
      "Requirement already satisfied: GitPython!=3.1.29,>=1.0.0 in c:\\users\\nsupr\\anaconda3\\envs\\tensorflow\\lib\\site-packages (from wandb<0.17.0,>=0.15.0->pytorch_tabular[extra]) (3.1.43)\n",
      "Requirement already satisfied: psutil>=5.0.0 in c:\\users\\nsupr\\anaconda3\\envs\\tensorflow\\lib\\site-packages (from wandb<0.17.0,>=0.15.0->pytorch_tabular[extra]) (5.9.0)\n",
      "Requirement already satisfied: sentry-sdk>=1.0.0 in c:\\users\\nsupr\\anaconda3\\envs\\tensorflow\\lib\\site-packages (from wandb<0.17.0,>=0.15.0->pytorch_tabular[extra]) (1.45.0)\n",
      "Requirement already satisfied: docker-pycreds>=0.4.0 in c:\\users\\nsupr\\anaconda3\\envs\\tensorflow\\lib\\site-packages (from wandb<0.17.0,>=0.15.0->pytorch_tabular[extra]) (0.4.0)\n",
      "Requirement already satisfied: setproctitle in c:\\users\\nsupr\\anaconda3\\envs\\tensorflow\\lib\\site-packages (from wandb<0.17.0,>=0.15.0->pytorch_tabular[extra]) (1.3.3)\n",
      "Requirement already satisfied: appdirs>=1.4.3 in c:\\users\\nsupr\\anaconda3\\envs\\tensorflow\\lib\\site-packages (from wandb<0.17.0,>=0.15.0->pytorch_tabular[extra]) (1.4.4)\n",
      "Requirement already satisfied: comm>=0.1.3 in c:\\users\\nsupr\\anaconda3\\envs\\tensorflow\\lib\\site-packages (from ipywidgets->pytorch_tabular[extra]) (0.2.2)\n",
      "Requirement already satisfied: ipython>=6.1.0 in c:\\users\\nsupr\\anaconda3\\envs\\tensorflow\\lib\\site-packages (from ipywidgets->pytorch_tabular[extra]) (8.12.2)\n",
      "Requirement already satisfied: traitlets>=4.3.1 in c:\\users\\nsupr\\anaconda3\\envs\\tensorflow\\lib\\site-packages (from ipywidgets->pytorch_tabular[extra]) (5.7.1)\n",
      "Requirement already satisfied: widgetsnbextension~=4.0.10 in c:\\users\\nsupr\\anaconda3\\envs\\tensorflow\\lib\\site-packages (from ipywidgets->pytorch_tabular[extra]) (4.0.10)\n",
      "Requirement already satisfied: jupyterlab-widgets~=3.0.10 in c:\\users\\nsupr\\anaconda3\\envs\\tensorflow\\lib\\site-packages (from ipywidgets->pytorch_tabular[extra]) (3.0.10)\n",
      "Requirement already satisfied: colorama in c:\\users\\nsupr\\anaconda3\\envs\\tensorflow\\lib\\site-packages (from Click!=8.0.0,>=7.1->wandb<0.17.0,>=0.15.0->pytorch_tabular[extra]) (0.4.6)\n",
      "Requirement already satisfied: six>=1.4.0 in c:\\users\\nsupr\\anaconda3\\envs\\tensorflow\\lib\\site-packages (from docker-pycreds>=0.4.0->wandb<0.17.0,>=0.15.0->pytorch_tabular[extra]) (1.16.0)\n",
      "Requirement already satisfied: aiohttp!=4.0.0a0,!=4.0.0a1 in c:\\users\\nsupr\\anaconda3\\envs\\tensorflow\\lib\\site-packages (from fsspec[http]>=2022.5.0->pytorch-lightning<2.2.0,>=2.0.0->pytorch_tabular[extra]) (3.9.5)\n",
      "Requirement already satisfied: gitdb<5,>=4.0.1 in c:\\users\\nsupr\\anaconda3\\envs\\tensorflow\\lib\\site-packages (from GitPython!=3.1.29,>=1.0.0->wandb<0.17.0,>=0.15.0->pytorch_tabular[extra]) (4.0.11)\n",
      "Requirement already satisfied: cachetools<6.0,>=2.0.0 in c:\\users\\nsupr\\anaconda3\\envs\\tensorflow\\lib\\site-packages (from google-auth<3,>=1.6.3->tensorboard!=2.5.0,>2.2.0->pytorch_tabular[extra]) (5.3.2)\n",
      "Requirement already satisfied: pyasn1-modules>=0.2.1 in c:\\users\\nsupr\\anaconda3\\envs\\tensorflow\\lib\\site-packages (from google-auth<3,>=1.6.3->tensorboard!=2.5.0,>2.2.0->pytorch_tabular[extra]) (0.3.0)\n",
      "Requirement already satisfied: rsa<5,>=3.1.4 in c:\\users\\nsupr\\anaconda3\\envs\\tensorflow\\lib\\site-packages (from google-auth<3,>=1.6.3->tensorboard!=2.5.0,>2.2.0->pytorch_tabular[extra]) (4.9)\n",
      "Requirement already satisfied: requests-oauthlib>=0.7.0 in c:\\users\\nsupr\\anaconda3\\envs\\tensorflow\\lib\\site-packages (from google-auth-oauthlib<1.1,>=0.5->tensorboard!=2.5.0,>2.2.0->pytorch_tabular[extra]) (1.3.1)\n",
      "Requirement already satisfied: zipp>=3.1.0 in c:\\users\\nsupr\\anaconda3\\envs\\tensorflow\\lib\\site-packages (from importlib-resources>=3.2.0->matplotlib>3.1->pytorch_tabular[extra]) (3.11.0)\n",
      "Requirement already satisfied: backcall in c:\\users\\nsupr\\anaconda3\\envs\\tensorflow\\lib\\site-packages (from ipython>=6.1.0->ipywidgets->pytorch_tabular[extra]) (0.2.0)\n",
      "Requirement already satisfied: decorator in c:\\users\\nsupr\\anaconda3\\envs\\tensorflow\\lib\\site-packages (from ipython>=6.1.0->ipywidgets->pytorch_tabular[extra]) (5.1.1)\n",
      "Requirement already satisfied: jedi>=0.16 in c:\\users\\nsupr\\anaconda3\\envs\\tensorflow\\lib\\site-packages (from ipython>=6.1.0->ipywidgets->pytorch_tabular[extra]) (0.18.1)\n",
      "Requirement already satisfied: matplotlib-inline in c:\\users\\nsupr\\anaconda3\\envs\\tensorflow\\lib\\site-packages (from ipython>=6.1.0->ipywidgets->pytorch_tabular[extra]) (0.1.6)\n",
      "Requirement already satisfied: pickleshare in c:\\users\\nsupr\\anaconda3\\envs\\tensorflow\\lib\\site-packages (from ipython>=6.1.0->ipywidgets->pytorch_tabular[extra]) (0.7.5)\n",
      "Requirement already satisfied: prompt-toolkit!=3.0.37,<3.1.0,>=3.0.30 in c:\\users\\nsupr\\anaconda3\\envs\\tensorflow\\lib\\site-packages (from ipython>=6.1.0->ipywidgets->pytorch_tabular[extra]) (3.0.36)\n",
      "Requirement already satisfied: stack-data in c:\\users\\nsupr\\anaconda3\\envs\\tensorflow\\lib\\site-packages (from ipython>=6.1.0->ipywidgets->pytorch_tabular[extra]) (0.2.0)\n",
      "Requirement already satisfied: importlib-metadata>=4.4 in c:\\users\\nsupr\\anaconda3\\envs\\tensorflow\\lib\\site-packages (from markdown>=2.6.8->tensorboard!=2.5.0,>2.2.0->pytorch_tabular[extra]) (6.8.0)\n",
      "Requirement already satisfied: mdurl~=0.1 in c:\\users\\nsupr\\anaconda3\\envs\\tensorflow\\lib\\site-packages (from markdown-it-py>=2.2.0->rich>=11.0.0->pytorch_tabular[extra]) (0.1.2)\n",
      "Requirement already satisfied: charset-normalizer<4,>=2 in c:\\users\\nsupr\\anaconda3\\envs\\tensorflow\\lib\\site-packages (from requests<3,>=2.21.0->tensorboard!=2.5.0,>2.2.0->pytorch_tabular[extra]) (3.3.1)\n",
      "Requirement already satisfied: idna<4,>=2.5 in c:\\users\\nsupr\\anaconda3\\envs\\tensorflow\\lib\\site-packages (from requests<3,>=2.21.0->tensorboard!=2.5.0,>2.2.0->pytorch_tabular[extra]) (3.4)\n",
      "Requirement already satisfied: urllib3<3,>=1.21.1 in c:\\users\\nsupr\\anaconda3\\envs\\tensorflow\\lib\\site-packages (from requests<3,>=2.21.0->tensorboard!=2.5.0,>2.2.0->pytorch_tabular[extra]) (2.0.7)\n",
      "Requirement already satisfied: certifi>=2017.4.17 in c:\\users\\nsupr\\anaconda3\\envs\\tensorflow\\lib\\site-packages (from requests<3,>=2.21.0->tensorboard!=2.5.0,>2.2.0->pytorch_tabular[extra]) (2023.7.22)\n",
      "Requirement already satisfied: MarkupSafe>=2.1.1 in c:\\users\\nsupr\\anaconda3\\envs\\tensorflow\\lib\\site-packages (from werkzeug>=1.0.1->tensorboard!=2.5.0,>2.2.0->pytorch_tabular[extra]) (2.1.1)\n",
      "Requirement already satisfied: mpmath>=0.19 in c:\\users\\nsupr\\anaconda3\\envs\\tensorflow\\lib\\site-packages (from sympy->torch>=1.11.0->pytorch_tabular[extra]) (1.3.0)\n",
      "Requirement already satisfied: aiosignal>=1.1.2 in c:\\users\\nsupr\\anaconda3\\envs\\tensorflow\\lib\\site-packages (from aiohttp!=4.0.0a0,!=4.0.0a1->fsspec[http]>=2022.5.0->pytorch-lightning<2.2.0,>=2.0.0->pytorch_tabular[extra]) (1.3.1)\n",
      "Requirement already satisfied: attrs>=17.3.0 in c:\\users\\nsupr\\anaconda3\\envs\\tensorflow\\lib\\site-packages (from aiohttp!=4.0.0a0,!=4.0.0a1->fsspec[http]>=2022.5.0->pytorch-lightning<2.2.0,>=2.0.0->pytorch_tabular[extra]) (23.1.0)\n",
      "Requirement already satisfied: frozenlist>=1.1.1 in c:\\users\\nsupr\\anaconda3\\envs\\tensorflow\\lib\\site-packages (from aiohttp!=4.0.0a0,!=4.0.0a1->fsspec[http]>=2022.5.0->pytorch-lightning<2.2.0,>=2.0.0->pytorch_tabular[extra]) (1.4.1)\n",
      "Requirement already satisfied: multidict<7.0,>=4.5 in c:\\users\\nsupr\\anaconda3\\envs\\tensorflow\\lib\\site-packages (from aiohttp!=4.0.0a0,!=4.0.0a1->fsspec[http]>=2022.5.0->pytorch-lightning<2.2.0,>=2.0.0->pytorch_tabular[extra]) (6.0.5)\n",
      "Requirement already satisfied: yarl<2.0,>=1.0 in c:\\users\\nsupr\\anaconda3\\envs\\tensorflow\\lib\\site-packages (from aiohttp!=4.0.0a0,!=4.0.0a1->fsspec[http]>=2022.5.0->pytorch-lightning<2.2.0,>=2.0.0->pytorch_tabular[extra]) (1.9.4)\n",
      "Requirement already satisfied: async-timeout<5.0,>=4.0 in c:\\users\\nsupr\\anaconda3\\envs\\tensorflow\\lib\\site-packages (from aiohttp!=4.0.0a0,!=4.0.0a1->fsspec[http]>=2022.5.0->pytorch-lightning<2.2.0,>=2.0.0->pytorch_tabular[extra]) (4.0.3)\n",
      "Requirement already satisfied: smmap<6,>=3.0.1 in c:\\users\\nsupr\\anaconda3\\envs\\tensorflow\\lib\\site-packages (from gitdb<5,>=4.0.1->GitPython!=3.1.29,>=1.0.0->wandb<0.17.0,>=0.15.0->pytorch_tabular[extra]) (5.0.1)\n",
      "Requirement already satisfied: parso<0.9.0,>=0.8.0 in c:\\users\\nsupr\\anaconda3\\envs\\tensorflow\\lib\\site-packages (from jedi>=0.16->ipython>=6.1.0->ipywidgets->pytorch_tabular[extra]) (0.8.3)\n",
      "Requirement already satisfied: wcwidth in c:\\users\\nsupr\\anaconda3\\envs\\tensorflow\\lib\\site-packages (from prompt-toolkit!=3.0.37,<3.1.0,>=3.0.30->ipython>=6.1.0->ipywidgets->pytorch_tabular[extra]) (0.2.5)\n",
      "Requirement already satisfied: pyasn1<0.6.0,>=0.4.6 in c:\\users\\nsupr\\anaconda3\\envs\\tensorflow\\lib\\site-packages (from pyasn1-modules>=0.2.1->google-auth<3,>=1.6.3->tensorboard!=2.5.0,>2.2.0->pytorch_tabular[extra]) (0.5.0)\n",
      "Requirement already satisfied: oauthlib>=3.0.0 in c:\\users\\nsupr\\anaconda3\\envs\\tensorflow\\lib\\site-packages (from requests-oauthlib>=0.7.0->google-auth-oauthlib<1.1,>=0.5->tensorboard!=2.5.0,>2.2.0->pytorch_tabular[extra]) (3.2.2)\n",
      "Requirement already satisfied: executing in c:\\users\\nsupr\\anaconda3\\envs\\tensorflow\\lib\\site-packages (from stack-data->ipython>=6.1.0->ipywidgets->pytorch_tabular[extra]) (0.8.3)\n",
      "Requirement already satisfied: asttokens in c:\\users\\nsupr\\anaconda3\\envs\\tensorflow\\lib\\site-packages (from stack-data->ipython>=6.1.0->ipywidgets->pytorch_tabular[extra]) (2.0.5)\n",
      "Requirement already satisfied: pure-eval in c:\\users\\nsupr\\anaconda3\\envs\\tensorflow\\lib\\site-packages (from stack-data->ipython>=6.1.0->ipywidgets->pytorch_tabular[extra]) (0.2.2)\n"
     ]
    },
    {
     "name": "stdout",
     "output_type": "stream",
     "text": [
      "Requirement already satisfied: alibi-detect in c:\\users\\nsupr\\appdata\\roaming\\python\\python38\\site-packages (0.12.0)\n",
      "Requirement already satisfied: matplotlib<4.0.0,>=3.0.0 in c:\\users\\nsupr\\anaconda3\\envs\\tensorflow\\lib\\site-packages (from alibi-detect) (3.7.3)\n",
      "Requirement already satisfied: numpy<2.0.0,>=1.16.2 in c:\\users\\nsupr\\anaconda3\\envs\\tensorflow\\lib\\site-packages (from alibi-detect) (1.24.4)\n",
      "Requirement already satisfied: pandas<3.0.0,>=1.0.0 in c:\\users\\nsupr\\anaconda3\\envs\\tensorflow\\lib\\site-packages (from alibi-detect) (2.0.3)\n",
      "Requirement already satisfied: Pillow<11.0.0,>=5.4.1 in c:\\users\\nsupr\\anaconda3\\envs\\tensorflow\\lib\\site-packages (from alibi-detect) (10.1.0)\n",
      "Requirement already satisfied: opencv-python<5.0.0,>=3.2.0 in c:\\users\\nsupr\\appdata\\roaming\\python\\python38\\site-packages (from alibi-detect) (4.9.0.80)\n",
      "Requirement already satisfied: scipy<2.0.0,>=1.3.0 in c:\\users\\nsupr\\anaconda3\\envs\\tensorflow\\lib\\site-packages (from alibi-detect) (1.10.1)\n",
      "Requirement already satisfied: scikit-image<0.23,>=0.19 in c:\\users\\nsupr\\appdata\\roaming\\python\\python38\\site-packages (from alibi-detect) (0.21.0)\n",
      "Requirement already satisfied: scikit-learn<2.0.0,>=0.20.2 in c:\\users\\nsupr\\anaconda3\\envs\\tensorflow\\lib\\site-packages (from alibi-detect) (1.3.2)\n",
      "Requirement already satisfied: transformers<5.0.0,>=4.0.0 in c:\\users\\nsupr\\appdata\\roaming\\python\\python38\\site-packages (from alibi-detect) (4.40.0)\n",
      "Requirement already satisfied: dill<0.4.0,>=0.3.0 in c:\\users\\nsupr\\anaconda3\\envs\\tensorflow\\lib\\site-packages (from alibi-detect) (0.3.8)\n",
      "Requirement already satisfied: tqdm<5.0.0,>=4.28.1 in c:\\users\\nsupr\\anaconda3\\envs\\tensorflow\\lib\\site-packages (from alibi-detect) (4.66.1)\n",
      "Requirement already satisfied: requests<3.0.0,>=2.21.0 in c:\\users\\nsupr\\anaconda3\\envs\\tensorflow\\lib\\site-packages (from alibi-detect) (2.31.0)\n",
      "Requirement already satisfied: pydantic<3.0.0,>=1.8.0 in c:\\users\\nsupr\\anaconda3\\envs\\tensorflow\\lib\\site-packages (from alibi-detect) (2.7.0)\n",
      "Requirement already satisfied: toml<1.0.0,>=0.10.1 in c:\\users\\nsupr\\anaconda3\\envs\\tensorflow\\lib\\site-packages (from alibi-detect) (0.10.2)\n",
      "Requirement already satisfied: catalogue<3.0.0,>=2.0.0 in c:\\users\\nsupr\\anaconda3\\envs\\tensorflow\\lib\\site-packages (from alibi-detect) (2.0.10)\n",
      "Requirement already satisfied: numba!=0.54.0,<0.60.0,>=0.50.0 in c:\\users\\nsupr\\anaconda3\\envs\\tensorflow\\lib\\site-packages (from alibi-detect) (0.58.1)\n",
      "Requirement already satisfied: typing-extensions>=3.7.4.3 in c:\\users\\nsupr\\anaconda3\\envs\\tensorflow\\lib\\site-packages (from alibi-detect) (4.10.0)\n",
      "Requirement already satisfied: contourpy>=1.0.1 in c:\\users\\nsupr\\anaconda3\\envs\\tensorflow\\lib\\site-packages (from matplotlib<4.0.0,>=3.0.0->alibi-detect) (1.1.1)\n",
      "Requirement already satisfied: cycler>=0.10 in c:\\users\\nsupr\\anaconda3\\envs\\tensorflow\\lib\\site-packages (from matplotlib<4.0.0,>=3.0.0->alibi-detect) (0.12.1)\n",
      "Requirement already satisfied: fonttools>=4.22.0 in c:\\users\\nsupr\\anaconda3\\envs\\tensorflow\\lib\\site-packages (from matplotlib<4.0.0,>=3.0.0->alibi-detect) (4.44.1)\n",
      "Requirement already satisfied: kiwisolver>=1.0.1 in c:\\users\\nsupr\\anaconda3\\envs\\tensorflow\\lib\\site-packages (from matplotlib<4.0.0,>=3.0.0->alibi-detect) (1.4.5)\n",
      "Requirement already satisfied: packaging>=20.0 in c:\\users\\nsupr\\anaconda3\\envs\\tensorflow\\lib\\site-packages (from matplotlib<4.0.0,>=3.0.0->alibi-detect) (23.1)\n",
      "Requirement already satisfied: pyparsing>=2.3.1 in c:\\users\\nsupr\\anaconda3\\envs\\tensorflow\\lib\\site-packages (from matplotlib<4.0.0,>=3.0.0->alibi-detect) (3.1.1)\n",
      "Requirement already satisfied: python-dateutil>=2.7 in c:\\users\\nsupr\\anaconda3\\envs\\tensorflow\\lib\\site-packages (from matplotlib<4.0.0,>=3.0.0->alibi-detect) (2.8.2)\n",
      "Requirement already satisfied: importlib-resources>=3.2.0 in c:\\users\\nsupr\\anaconda3\\envs\\tensorflow\\lib\\site-packages (from matplotlib<4.0.0,>=3.0.0->alibi-detect) (6.1.0)\n",
      "Requirement already satisfied: llvmlite<0.42,>=0.41.0dev0 in c:\\users\\nsupr\\anaconda3\\envs\\tensorflow\\lib\\site-packages (from numba!=0.54.0,<0.60.0,>=0.50.0->alibi-detect) (0.41.1)\n",
      "Requirement already satisfied: importlib-metadata in c:\\users\\nsupr\\anaconda3\\envs\\tensorflow\\lib\\site-packages (from numba!=0.54.0,<0.60.0,>=0.50.0->alibi-detect) (6.8.0)\n",
      "Requirement already satisfied: pytz>=2020.1 in c:\\users\\nsupr\\anaconda3\\envs\\tensorflow\\lib\\site-packages (from pandas<3.0.0,>=1.0.0->alibi-detect) (2023.3.post1)\n",
      "Requirement already satisfied: tzdata>=2022.1 in c:\\users\\nsupr\\anaconda3\\envs\\tensorflow\\lib\\site-packages (from pandas<3.0.0,>=1.0.0->alibi-detect) (2023.3)\n",
      "Requirement already satisfied: annotated-types>=0.4.0 in c:\\users\\nsupr\\anaconda3\\envs\\tensorflow\\lib\\site-packages (from pydantic<3.0.0,>=1.8.0->alibi-detect) (0.6.0)\n",
      "Requirement already satisfied: pydantic-core==2.18.1 in c:\\users\\nsupr\\anaconda3\\envs\\tensorflow\\lib\\site-packages (from pydantic<3.0.0,>=1.8.0->alibi-detect) (2.18.1)\n",
      "Requirement already satisfied: charset-normalizer<4,>=2 in c:\\users\\nsupr\\anaconda3\\envs\\tensorflow\\lib\\site-packages (from requests<3.0.0,>=2.21.0->alibi-detect) (3.3.1)\n",
      "Requirement already satisfied: idna<4,>=2.5 in c:\\users\\nsupr\\anaconda3\\envs\\tensorflow\\lib\\site-packages (from requests<3.0.0,>=2.21.0->alibi-detect) (3.4)\n",
      "Requirement already satisfied: urllib3<3,>=1.21.1 in c:\\users\\nsupr\\anaconda3\\envs\\tensorflow\\lib\\site-packages (from requests<3.0.0,>=2.21.0->alibi-detect) (2.0.7)\n",
      "Requirement already satisfied: certifi>=2017.4.17 in c:\\users\\nsupr\\anaconda3\\envs\\tensorflow\\lib\\site-packages (from requests<3.0.0,>=2.21.0->alibi-detect) (2023.7.22)\n",
      "Requirement already satisfied: networkx>=2.8 in c:\\users\\nsupr\\anaconda3\\envs\\tensorflow\\lib\\site-packages (from scikit-image<0.23,>=0.19->alibi-detect) (3.1)\n",
      "Requirement already satisfied: imageio>=2.27 in c:\\users\\nsupr\\appdata\\roaming\\python\\python38\\site-packages (from scikit-image<0.23,>=0.19->alibi-detect) (2.34.0)\n",
      "Requirement already satisfied: tifffile>=2022.8.12 in c:\\users\\nsupr\\anaconda3\\envs\\tensorflow\\lib\\site-packages (from scikit-image<0.23,>=0.19->alibi-detect) (2023.7.10)\n",
      "Requirement already satisfied: PyWavelets>=1.1.1 in c:\\users\\nsupr\\anaconda3\\envs\\tensorflow\\lib\\site-packages (from scikit-image<0.23,>=0.19->alibi-detect) (1.4.1)\n",
      "Requirement already satisfied: lazy_loader>=0.2 in c:\\users\\nsupr\\anaconda3\\envs\\tensorflow\\lib\\site-packages (from scikit-image<0.23,>=0.19->alibi-detect) (0.4)\n",
      "Requirement already satisfied: joblib>=1.1.1 in c:\\users\\nsupr\\anaconda3\\envs\\tensorflow\\lib\\site-packages (from scikit-learn<2.0.0,>=0.20.2->alibi-detect) (1.3.2)\n",
      "Requirement already satisfied: threadpoolctl>=2.0.0 in c:\\users\\nsupr\\anaconda3\\envs\\tensorflow\\lib\\site-packages (from scikit-learn<2.0.0,>=0.20.2->alibi-detect) (3.2.0)\n",
      "Requirement already satisfied: colorama in c:\\users\\nsupr\\anaconda3\\envs\\tensorflow\\lib\\site-packages (from tqdm<5.0.0,>=4.28.1->alibi-detect) (0.4.6)\n",
      "Requirement already satisfied: filelock in c:\\users\\nsupr\\anaconda3\\envs\\tensorflow\\lib\\site-packages (from transformers<5.0.0,>=4.0.0->alibi-detect) (3.13.1)\n",
      "Requirement already satisfied: huggingface-hub<1.0,>=0.19.3 in c:\\users\\nsupr\\appdata\\roaming\\python\\python38\\site-packages (from transformers<5.0.0,>=4.0.0->alibi-detect) (0.22.2)\n",
      "Requirement already satisfied: pyyaml>=5.1 in c:\\users\\nsupr\\anaconda3\\envs\\tensorflow\\lib\\site-packages (from transformers<5.0.0,>=4.0.0->alibi-detect) (6.0.1)\n",
      "Requirement already satisfied: regex!=2019.12.17 in c:\\users\\nsupr\\anaconda3\\envs\\tensorflow\\lib\\site-packages (from transformers<5.0.0,>=4.0.0->alibi-detect) (2024.4.16)\n",
      "Requirement already satisfied: tokenizers<0.20,>=0.19 in c:\\users\\nsupr\\appdata\\roaming\\python\\python38\\site-packages (from transformers<5.0.0,>=4.0.0->alibi-detect) (0.19.1)\n",
      "Requirement already satisfied: safetensors>=0.4.1 in c:\\users\\nsupr\\anaconda3\\envs\\tensorflow\\lib\\site-packages (from transformers<5.0.0,>=4.0.0->alibi-detect) (0.4.3)\n",
      "Requirement already satisfied: fsspec>=2023.5.0 in c:\\users\\nsupr\\anaconda3\\envs\\tensorflow\\lib\\site-packages (from huggingface-hub<1.0,>=0.19.3->transformers<5.0.0,>=4.0.0->alibi-detect) (2024.3.1)\n",
      "Requirement already satisfied: zipp>=3.1.0 in c:\\users\\nsupr\\anaconda3\\envs\\tensorflow\\lib\\site-packages (from importlib-resources>=3.2.0->matplotlib<4.0.0,>=3.0.0->alibi-detect) (3.11.0)\n",
      "Requirement already satisfied: six>=1.5 in c:\\users\\nsupr\\anaconda3\\envs\\tensorflow\\lib\\site-packages (from python-dateutil>=2.7->matplotlib<4.0.0,>=3.0.0->alibi-detect) (1.16.0)\n"
     ]
    }
   ],
   "source": [
    "!pip install pytorch_tabular[extra]\n",
    "!pip install alibi-detect --user"
   ]
  },
  {
   "cell_type": "code",
   "execution_count": 2,
   "metadata": {
    "id": "E7dD3Ihi4GF9"
   },
   "outputs": [],
   "source": [
    "SEED = 42\n",
    "\n",
    "import os\n",
    "\n",
    "import random\n",
    "random.seed(SEED)\n",
    "\n",
    "import numpy as np\n",
    "np.random.seed(SEED)\n",
    "\n",
    "import pandas as pd\n",
    "\n",
    "from alibi_detect.cd import TabularDrift"
   ]
  },
  {
   "cell_type": "markdown",
   "metadata": {
    "id": "xJjXNMOqcHVJ"
   },
   "source": [
    "1.Evaluate your model from B1 on data from year 2022 and report the test R2."
   ]
  },
  {
   "cell_type": "code",
   "execution_count": 3,
   "metadata": {
    "id": "fOUcXL5OXASY"
   },
   "outputs": [],
   "source": [
    "df = pd.read_csv('hdb_price_prediction.csv')\n",
    "\n",
    "# TODO: Enter your code here\n",
    "df = df.drop(['full_address', 'nearest_stn'], axis=1)\n",
    "train = df[df.year < 2020]\n",
    "val = df[df.year == 2020]\n",
    "test_2022 = df[df.year == 2022]\n",
    "test_2023 = df[df.year == 2023]"
   ]
  },
  {
   "cell_type": "code",
   "execution_count": 9,
   "metadata": {
    "scrolled": true
   },
   "outputs": [
    {
     "data": {
      "text/html": [
       "<pre style=\"white-space:pre;overflow-x:auto;line-height:normal;font-family:Menlo,'DejaVu Sans Mono',consolas,'Courier New',monospace\"><span style=\"color: #008080; text-decoration-color: #008080; font-weight: bold\">2024</span>-<span style=\"color: #008080; text-decoration-color: #008080; font-weight: bold\">04</span>-<span style=\"color: #008080; text-decoration-color: #008080; font-weight: bold\">21</span> <span style=\"color: #00ff00; text-decoration-color: #00ff00; font-weight: bold\">09:57:15</span>,<span style=\"color: #008080; text-decoration-color: #008080; font-weight: bold\">845</span> - <span style=\"font-weight: bold\">{</span>pytorch_tabular.tabular_model:<span style=\"color: #008080; text-decoration-color: #008080; font-weight: bold\">140</span><span style=\"font-weight: bold\">}</span> - INFO - Experiment Tracking is turned off           \n",
       "</pre>\n"
      ],
      "text/plain": [
       "\u001b[1;36m2024\u001b[0m-\u001b[1;36m04\u001b[0m-\u001b[1;36m21\u001b[0m \u001b[1;92m09:57:15\u001b[0m,\u001b[1;36m845\u001b[0m - \u001b[1m{\u001b[0mpytorch_tabular.tabular_model:\u001b[1;36m140\u001b[0m\u001b[1m}\u001b[0m - INFO - Experiment Tracking is turned off           \n"
      ]
     },
     "metadata": {},
     "output_type": "display_data"
    },
    {
     "name": "stderr",
     "output_type": "stream",
     "text": [
      "Seed set to 42\n"
     ]
    },
    {
     "data": {
      "text/html": [
       "<pre style=\"white-space:pre;overflow-x:auto;line-height:normal;font-family:Menlo,'DejaVu Sans Mono',consolas,'Courier New',monospace\"><span style=\"color: #008080; text-decoration-color: #008080; font-weight: bold\">2024</span>-<span style=\"color: #008080; text-decoration-color: #008080; font-weight: bold\">04</span>-<span style=\"color: #008080; text-decoration-color: #008080; font-weight: bold\">21</span> <span style=\"color: #00ff00; text-decoration-color: #00ff00; font-weight: bold\">09:57:15</span>,<span style=\"color: #008080; text-decoration-color: #008080; font-weight: bold\">913</span> - <span style=\"font-weight: bold\">{</span>pytorch_tabular.tabular_model:<span style=\"color: #008080; text-decoration-color: #008080; font-weight: bold\">524</span><span style=\"font-weight: bold\">}</span> - INFO - Preparing the DataLoaders                   \n",
       "</pre>\n"
      ],
      "text/plain": [
       "\u001b[1;36m2024\u001b[0m-\u001b[1;36m04\u001b[0m-\u001b[1;36m21\u001b[0m \u001b[1;92m09:57:15\u001b[0m,\u001b[1;36m913\u001b[0m - \u001b[1m{\u001b[0mpytorch_tabular.tabular_model:\u001b[1;36m524\u001b[0m\u001b[1m}\u001b[0m - INFO - Preparing the DataLoaders                   \n"
      ]
     },
     "metadata": {},
     "output_type": "display_data"
    },
    {
     "data": {
      "text/html": [
       "<pre style=\"white-space:pre;overflow-x:auto;line-height:normal;font-family:Menlo,'DejaVu Sans Mono',consolas,'Courier New',monospace\"><span style=\"color: #008080; text-decoration-color: #008080; font-weight: bold\">2024</span>-<span style=\"color: #008080; text-decoration-color: #008080; font-weight: bold\">04</span>-<span style=\"color: #008080; text-decoration-color: #008080; font-weight: bold\">21</span> <span style=\"color: #00ff00; text-decoration-color: #00ff00; font-weight: bold\">09:57:15</span>,<span style=\"color: #008080; text-decoration-color: #008080; font-weight: bold\">947</span> - <span style=\"font-weight: bold\">{</span>pytorch_tabular.tabular_datamodul<span style=\"color: #00ff00; text-decoration-color: #00ff00; font-weight: bold\">e:499</span><span style=\"font-weight: bold\">}</span> - INFO - Setting up the datamodule for          \n",
       "regression task                                                                                                    \n",
       "</pre>\n"
      ],
      "text/plain": [
       "\u001b[1;36m2024\u001b[0m-\u001b[1;36m04\u001b[0m-\u001b[1;36m21\u001b[0m \u001b[1;92m09:57:15\u001b[0m,\u001b[1;36m947\u001b[0m - \u001b[1m{\u001b[0mpytorch_tabular.tabular_datamodul\u001b[1;92me:499\u001b[0m\u001b[1m}\u001b[0m - INFO - Setting up the datamodule for          \n",
       "regression task                                                                                                    \n"
      ]
     },
     "metadata": {},
     "output_type": "display_data"
    },
    {
     "data": {
      "text/html": [
       "<pre style=\"white-space:pre;overflow-x:auto;line-height:normal;font-family:Menlo,'DejaVu Sans Mono',consolas,'Courier New',monospace\"><span style=\"color: #008080; text-decoration-color: #008080; font-weight: bold\">2024</span>-<span style=\"color: #008080; text-decoration-color: #008080; font-weight: bold\">04</span>-<span style=\"color: #008080; text-decoration-color: #008080; font-weight: bold\">21</span> <span style=\"color: #00ff00; text-decoration-color: #00ff00; font-weight: bold\">09:57:16</span>,<span style=\"color: #008080; text-decoration-color: #008080; font-weight: bold\">203</span> - <span style=\"font-weight: bold\">{</span>pytorch_tabular.tabular_model:<span style=\"color: #008080; text-decoration-color: #008080; font-weight: bold\">574</span><span style=\"font-weight: bold\">}</span> - INFO - Preparing the Model: CategoryEmbeddingModel \n",
       "</pre>\n"
      ],
      "text/plain": [
       "\u001b[1;36m2024\u001b[0m-\u001b[1;36m04\u001b[0m-\u001b[1;36m21\u001b[0m \u001b[1;92m09:57:16\u001b[0m,\u001b[1;36m203\u001b[0m - \u001b[1m{\u001b[0mpytorch_tabular.tabular_model:\u001b[1;36m574\u001b[0m\u001b[1m}\u001b[0m - INFO - Preparing the Model: CategoryEmbeddingModel \n"
      ]
     },
     "metadata": {},
     "output_type": "display_data"
    },
    {
     "data": {
      "text/html": [
       "<pre style=\"white-space:pre;overflow-x:auto;line-height:normal;font-family:Menlo,'DejaVu Sans Mono',consolas,'Courier New',monospace\"><span style=\"color: #008080; text-decoration-color: #008080; font-weight: bold\">2024</span>-<span style=\"color: #008080; text-decoration-color: #008080; font-weight: bold\">04</span>-<span style=\"color: #008080; text-decoration-color: #008080; font-weight: bold\">21</span> <span style=\"color: #00ff00; text-decoration-color: #00ff00; font-weight: bold\">09:57:16</span>,<span style=\"color: #008080; text-decoration-color: #008080; font-weight: bold\">365</span> - <span style=\"font-weight: bold\">{</span>pytorch_tabular.tabular_model:<span style=\"color: #008080; text-decoration-color: #008080; font-weight: bold\">340</span><span style=\"font-weight: bold\">}</span> - INFO - Preparing the Trainer                       \n",
       "</pre>\n"
      ],
      "text/plain": [
       "\u001b[1;36m2024\u001b[0m-\u001b[1;36m04\u001b[0m-\u001b[1;36m21\u001b[0m \u001b[1;92m09:57:16\u001b[0m,\u001b[1;36m365\u001b[0m - \u001b[1m{\u001b[0mpytorch_tabular.tabular_model:\u001b[1;36m340\u001b[0m\u001b[1m}\u001b[0m - INFO - Preparing the Trainer                       \n"
      ]
     },
     "metadata": {},
     "output_type": "display_data"
    },
    {
     "name": "stderr",
     "output_type": "stream",
     "text": [
      "GPU available: False, used: False\n",
      "TPU available: False, using: 0 TPU cores\n",
      "IPU available: False, using: 0 IPUs\n",
      "HPU available: False, using: 0 HPUs\n"
     ]
    },
    {
     "data": {
      "text/html": [
       "<pre style=\"white-space:pre;overflow-x:auto;line-height:normal;font-family:Menlo,'DejaVu Sans Mono',consolas,'Courier New',monospace\"><span style=\"color: #008080; text-decoration-color: #008080; font-weight: bold\">2024</span>-<span style=\"color: #008080; text-decoration-color: #008080; font-weight: bold\">04</span>-<span style=\"color: #008080; text-decoration-color: #008080; font-weight: bold\">21</span> <span style=\"color: #00ff00; text-decoration-color: #00ff00; font-weight: bold\">09:57:17</span>,<span style=\"color: #008080; text-decoration-color: #008080; font-weight: bold\">034</span> - <span style=\"font-weight: bold\">{</span>pytorch_tabular.tabular_model:<span style=\"color: #008080; text-decoration-color: #008080; font-weight: bold\">630</span><span style=\"font-weight: bold\">}</span> - INFO - Auto LR Find Started                        \n",
       "</pre>\n"
      ],
      "text/plain": [
       "\u001b[1;36m2024\u001b[0m-\u001b[1;36m04\u001b[0m-\u001b[1;36m21\u001b[0m \u001b[1;92m09:57:17\u001b[0m,\u001b[1;36m034\u001b[0m - \u001b[1m{\u001b[0mpytorch_tabular.tabular_model:\u001b[1;36m630\u001b[0m\u001b[1m}\u001b[0m - INFO - Auto LR Find Started                        \n"
      ]
     },
     "metadata": {},
     "output_type": "display_data"
    },
    {
     "name": "stderr",
     "output_type": "stream",
     "text": [
      "C:\\Users\\nsupr\\anaconda3\\envs\\tensorflow\\lib\\site-packages\\pytorch_lightning\\callbacks\\model_checkpoint.py:639: Checkpoint directory C:\\Users\\nsupr\\CZ4042 NN & DL Assignment\\saved_models exists and is not empty.\n",
      "C:\\Users\\nsupr\\anaconda3\\envs\\tensorflow\\lib\\site-packages\\pytorch_lightning\\trainer\\connectors\\data_connector.py:441: The 'train_dataloader' does not have many workers which may be a bottleneck. Consider increasing the value of the `num_workers` argument` to `num_workers=7` in the `DataLoader` to improve performance.\n",
      "C:\\Users\\nsupr\\anaconda3\\envs\\tensorflow\\lib\\site-packages\\pytorch_lightning\\trainer\\connectors\\data_connector.py:441: The 'val_dataloader' does not have many workers which may be a bottleneck. Consider increasing the value of the `num_workers` argument` to `num_workers=7` in the `DataLoader` to improve performance.\n"
     ]
    },
    {
     "data": {
      "application/vnd.jupyter.widget-view+json": {
       "model_id": "d8381c470c96443fb0314a43a46eaf0b",
       "version_major": 2,
       "version_minor": 0
      },
      "text/plain": [
       "Finding best initial lr:   0%|          | 0/100 [00:00<?, ?it/s]"
      ]
     },
     "metadata": {},
     "output_type": "display_data"
    },
    {
     "name": "stderr",
     "output_type": "stream",
     "text": [
      "`Trainer.fit` stopped: `max_steps=100` reached.\n",
      "Learning rate set to 0.5754399373371567\n",
      "Restoring states from the checkpoint path at C:\\Users\\nsupr\\CZ4042 NN & DL Assignment\\.lr_find_b1b1b8bd-9984-44ed-8aa7-e17c64f68ed9.ckpt\n",
      "Restored all states from the checkpoint at C:\\Users\\nsupr\\CZ4042 NN & DL Assignment\\.lr_find_b1b1b8bd-9984-44ed-8aa7-e17c64f68ed9.ckpt\n"
     ]
    },
    {
     "data": {
      "text/html": [
       "<pre style=\"white-space:pre;overflow-x:auto;line-height:normal;font-family:Menlo,'DejaVu Sans Mono',consolas,'Courier New',monospace\"><span style=\"color: #008080; text-decoration-color: #008080; font-weight: bold\">2024</span>-<span style=\"color: #008080; text-decoration-color: #008080; font-weight: bold\">04</span>-<span style=\"color: #008080; text-decoration-color: #008080; font-weight: bold\">21</span> <span style=\"color: #00ff00; text-decoration-color: #00ff00; font-weight: bold\">09:57:24</span>,<span style=\"color: #008080; text-decoration-color: #008080; font-weight: bold\">106</span> - <span style=\"font-weight: bold\">{</span>pytorch_tabular.tabular_model:<span style=\"color: #008080; text-decoration-color: #008080; font-weight: bold\">643</span><span style=\"font-weight: bold\">}</span> - INFO - Suggested LR: <span style=\"color: #008080; text-decoration-color: #008080; font-weight: bold\">0.5754399373371567</span>. For plot  \n",
       "and detailed analysis, use `find_learning_rate` method.                                                            \n",
       "</pre>\n"
      ],
      "text/plain": [
       "\u001b[1;36m2024\u001b[0m-\u001b[1;36m04\u001b[0m-\u001b[1;36m21\u001b[0m \u001b[1;92m09:57:24\u001b[0m,\u001b[1;36m106\u001b[0m - \u001b[1m{\u001b[0mpytorch_tabular.tabular_model:\u001b[1;36m643\u001b[0m\u001b[1m}\u001b[0m - INFO - Suggested LR: \u001b[1;36m0.5754399373371567\u001b[0m. For plot  \n",
       "and detailed analysis, use `find_learning_rate` method.                                                            \n"
      ]
     },
     "metadata": {},
     "output_type": "display_data"
    },
    {
     "data": {
      "text/html": [
       "<pre style=\"white-space:pre;overflow-x:auto;line-height:normal;font-family:Menlo,'DejaVu Sans Mono',consolas,'Courier New',monospace\"><span style=\"color: #008080; text-decoration-color: #008080; font-weight: bold\">2024</span>-<span style=\"color: #008080; text-decoration-color: #008080; font-weight: bold\">04</span>-<span style=\"color: #008080; text-decoration-color: #008080; font-weight: bold\">21</span> <span style=\"color: #00ff00; text-decoration-color: #00ff00; font-weight: bold\">09:57:24</span>,<span style=\"color: #008080; text-decoration-color: #008080; font-weight: bold\">112</span> - <span style=\"font-weight: bold\">{</span>pytorch_tabular.tabular_model:<span style=\"color: #008080; text-decoration-color: #008080; font-weight: bold\">652</span><span style=\"font-weight: bold\">}</span> - INFO - Training Started                            \n",
       "</pre>\n"
      ],
      "text/plain": [
       "\u001b[1;36m2024\u001b[0m-\u001b[1;36m04\u001b[0m-\u001b[1;36m21\u001b[0m \u001b[1;92m09:57:24\u001b[0m,\u001b[1;36m112\u001b[0m - \u001b[1m{\u001b[0mpytorch_tabular.tabular_model:\u001b[1;36m652\u001b[0m\u001b[1m}\u001b[0m - INFO - Training Started                            \n"
      ]
     },
     "metadata": {},
     "output_type": "display_data"
    },
    {
     "data": {
      "text/html": [
       "<pre style=\"white-space:pre;overflow-x:auto;line-height:normal;font-family:Menlo,'DejaVu Sans Mono',consolas,'Courier New',monospace\">┏━━━┳━━━━━━━━━━━━━━━━━━┳━━━━━━━━━━━━━━━━━━━━━━━━━━━┳━━━━━━━━┓\n",
       "┃<span style=\"color: #800080; text-decoration-color: #800080; font-weight: bold\">   </span>┃<span style=\"color: #800080; text-decoration-color: #800080; font-weight: bold\"> Name             </span>┃<span style=\"color: #800080; text-decoration-color: #800080; font-weight: bold\"> Type                      </span>┃<span style=\"color: #800080; text-decoration-color: #800080; font-weight: bold\"> Params </span>┃\n",
       "┡━━━╇━━━━━━━━━━━━━━━━━━╇━━━━━━━━━━━━━━━━━━━━━━━━━━━╇━━━━━━━━┩\n",
       "│<span style=\"color: #7f7f7f; text-decoration-color: #7f7f7f\"> 0 </span>│ _backbone        │ CategoryEmbeddingBackbone │  2.9 K │\n",
       "│<span style=\"color: #7f7f7f; text-decoration-color: #7f7f7f\"> 1 </span>│ _embedding_layer │ Embedding1dLayer          │  1.5 K │\n",
       "│<span style=\"color: #7f7f7f; text-decoration-color: #7f7f7f\"> 2 </span>│ head             │ LinearHead                │     51 │\n",
       "│<span style=\"color: #7f7f7f; text-decoration-color: #7f7f7f\"> 3 </span>│ loss             │ MSELoss                   │      0 │\n",
       "└───┴──────────────────┴───────────────────────────┴────────┘\n",
       "</pre>\n"
      ],
      "text/plain": [
       "┏━━━┳━━━━━━━━━━━━━━━━━━┳━━━━━━━━━━━━━━━━━━━━━━━━━━━┳━━━━━━━━┓\n",
       "┃\u001b[1;35m \u001b[0m\u001b[1;35m \u001b[0m\u001b[1;35m \u001b[0m┃\u001b[1;35m \u001b[0m\u001b[1;35mName            \u001b[0m\u001b[1;35m \u001b[0m┃\u001b[1;35m \u001b[0m\u001b[1;35mType                     \u001b[0m\u001b[1;35m \u001b[0m┃\u001b[1;35m \u001b[0m\u001b[1;35mParams\u001b[0m\u001b[1;35m \u001b[0m┃\n",
       "┡━━━╇━━━━━━━━━━━━━━━━━━╇━━━━━━━━━━━━━━━━━━━━━━━━━━━╇━━━━━━━━┩\n",
       "│\u001b[2m \u001b[0m\u001b[2m0\u001b[0m\u001b[2m \u001b[0m│ _backbone        │ CategoryEmbeddingBackbone │  2.9 K │\n",
       "│\u001b[2m \u001b[0m\u001b[2m1\u001b[0m\u001b[2m \u001b[0m│ _embedding_layer │ Embedding1dLayer          │  1.5 K │\n",
       "│\u001b[2m \u001b[0m\u001b[2m2\u001b[0m\u001b[2m \u001b[0m│ head             │ LinearHead                │     51 │\n",
       "│\u001b[2m \u001b[0m\u001b[2m3\u001b[0m\u001b[2m \u001b[0m│ loss             │ MSELoss                   │      0 │\n",
       "└───┴──────────────────┴───────────────────────────┴────────┘\n"
      ]
     },
     "metadata": {},
     "output_type": "display_data"
    },
    {
     "data": {
      "text/html": [
       "<pre style=\"white-space:pre;overflow-x:auto;line-height:normal;font-family:Menlo,'DejaVu Sans Mono',consolas,'Courier New',monospace\"><span style=\"font-weight: bold\">Trainable params</span>: 4.5 K                                                                                            \n",
       "<span style=\"font-weight: bold\">Non-trainable params</span>: 0                                                                                            \n",
       "<span style=\"font-weight: bold\">Total params</span>: 4.5 K                                                                                                \n",
       "<span style=\"font-weight: bold\">Total estimated model params size (MB)</span>: 0                                                                          \n",
       "</pre>\n"
      ],
      "text/plain": [
       "\u001b[1mTrainable params\u001b[0m: 4.5 K                                                                                            \n",
       "\u001b[1mNon-trainable params\u001b[0m: 0                                                                                            \n",
       "\u001b[1mTotal params\u001b[0m: 4.5 K                                                                                                \n",
       "\u001b[1mTotal estimated model params size (MB)\u001b[0m: 0                                                                          \n"
      ]
     },
     "metadata": {},
     "output_type": "display_data"
    },
    {
     "data": {
      "application/vnd.jupyter.widget-view+json": {
       "model_id": "214ae6fc04594025a56845d1aa7d07a7",
       "version_major": 2,
       "version_minor": 0
      },
      "text/plain": [
       "Output()"
      ]
     },
     "metadata": {},
     "output_type": "display_data"
    },
    {
     "data": {
      "text/html": [
       "<pre style=\"white-space:pre;overflow-x:auto;line-height:normal;font-family:Menlo,'DejaVu Sans Mono',consolas,'Courier New',monospace\"></pre>\n"
      ],
      "text/plain": []
     },
     "metadata": {},
     "output_type": "display_data"
    },
    {
     "data": {
      "text/html": [
       "<pre style=\"white-space:pre;overflow-x:auto;line-height:normal;font-family:Menlo,'DejaVu Sans Mono',consolas,'Courier New',monospace\">\n",
       "</pre>\n"
      ],
      "text/plain": [
       "\n"
      ]
     },
     "metadata": {},
     "output_type": "display_data"
    },
    {
     "data": {
      "text/html": [
       "<pre style=\"white-space:pre;overflow-x:auto;line-height:normal;font-family:Menlo,'DejaVu Sans Mono',consolas,'Courier New',monospace\"><span style=\"color: #008080; text-decoration-color: #008080; font-weight: bold\">2024</span>-<span style=\"color: #008080; text-decoration-color: #008080; font-weight: bold\">04</span>-<span style=\"color: #008080; text-decoration-color: #008080; font-weight: bold\">21</span> <span style=\"color: #00ff00; text-decoration-color: #00ff00; font-weight: bold\">09:57:52</span>,<span style=\"color: #008080; text-decoration-color: #008080; font-weight: bold\">818</span> - <span style=\"font-weight: bold\">{</span>pytorch_tabular.tabular_model:<span style=\"color: #008080; text-decoration-color: #008080; font-weight: bold\">663</span><span style=\"font-weight: bold\">}</span> - INFO - Training the model completed                \n",
       "</pre>\n"
      ],
      "text/plain": [
       "\u001b[1;36m2024\u001b[0m-\u001b[1;36m04\u001b[0m-\u001b[1;36m21\u001b[0m \u001b[1;92m09:57:52\u001b[0m,\u001b[1;36m818\u001b[0m - \u001b[1m{\u001b[0mpytorch_tabular.tabular_model:\u001b[1;36m663\u001b[0m\u001b[1m}\u001b[0m - INFO - Training the model completed                \n"
      ]
     },
     "metadata": {},
     "output_type": "display_data"
    },
    {
     "data": {
      "text/html": [
       "<pre style=\"white-space:pre;overflow-x:auto;line-height:normal;font-family:Menlo,'DejaVu Sans Mono',consolas,'Courier New',monospace\"><span style=\"color: #008080; text-decoration-color: #008080; font-weight: bold\">2024</span>-<span style=\"color: #008080; text-decoration-color: #008080; font-weight: bold\">04</span>-<span style=\"color: #008080; text-decoration-color: #008080; font-weight: bold\">21</span> <span style=\"color: #00ff00; text-decoration-color: #00ff00; font-weight: bold\">09:57:52</span>,<span style=\"color: #008080; text-decoration-color: #008080; font-weight: bold\">822</span> - <span style=\"font-weight: bold\">{</span>pytorch_tabular.tabular_model:<span style=\"color: #008080; text-decoration-color: #008080; font-weight: bold\">1489</span><span style=\"font-weight: bold\">}</span> - INFO - Loading the best model                     \n",
       "</pre>\n"
      ],
      "text/plain": [
       "\u001b[1;36m2024\u001b[0m-\u001b[1;36m04\u001b[0m-\u001b[1;36m21\u001b[0m \u001b[1;92m09:57:52\u001b[0m,\u001b[1;36m822\u001b[0m - \u001b[1m{\u001b[0mpytorch_tabular.tabular_model:\u001b[1;36m1489\u001b[0m\u001b[1m}\u001b[0m - INFO - Loading the best model                     \n"
      ]
     },
     "metadata": {},
     "output_type": "display_data"
    },
    {
     "data": {
      "application/vnd.jupyter.widget-view+json": {
       "model_id": "64bdfc9784bc495f88e399f6edf77e29",
       "version_major": 2,
       "version_minor": 0
      },
      "text/plain": [
       "Output()"
      ]
     },
     "metadata": {},
     "output_type": "display_data"
    },
    {
     "name": "stderr",
     "output_type": "stream",
     "text": [
      "C:\\Users\\nsupr\\anaconda3\\envs\\tensorflow\\lib\\site-packages\\pytorch_lightning\\trainer\\connectors\\data_connector.py:441: The 'test_dataloader' does not have many workers which may be a bottleneck. Consider increasing the value of the `num_workers` argument` to `num_workers=7` in the `DataLoader` to improve performance.\n"
     ]
    },
    {
     "data": {
      "text/html": [
       "<pre style=\"white-space:pre;overflow-x:auto;line-height:normal;font-family:Menlo,'DejaVu Sans Mono',consolas,'Courier New',monospace\">┏━━━━━━━━━━━━━━━━━━━━━━━━━━━┳━━━━━━━━━━━━━━━━━━━━━━━━━━━┓\n",
       "┃<span style=\"font-weight: bold\">        Test metric        </span>┃<span style=\"font-weight: bold\">       DataLoader 0        </span>┃\n",
       "┡━━━━━━━━━━━━━━━━━━━━━━━━━━━╇━━━━━━━━━━━━━━━━━━━━━━━━━━━┩\n",
       "│<span style=\"color: #008080; text-decoration-color: #008080\">         test_loss         </span>│<span style=\"color: #800080; text-decoration-color: #800080\">       16876774400.0       </span>│\n",
       "│<span style=\"color: #008080; text-decoration-color: #008080\">  test_mean_squared_error  </span>│<span style=\"color: #800080; text-decoration-color: #800080\">       16876774400.0       </span>│\n",
       "└───────────────────────────┴───────────────────────────┘\n",
       "</pre>\n"
      ],
      "text/plain": [
       "┏━━━━━━━━━━━━━━━━━━━━━━━━━━━┳━━━━━━━━━━━━━━━━━━━━━━━━━━━┓\n",
       "┃\u001b[1m \u001b[0m\u001b[1m       Test metric       \u001b[0m\u001b[1m \u001b[0m┃\u001b[1m \u001b[0m\u001b[1m      DataLoader 0       \u001b[0m\u001b[1m \u001b[0m┃\n",
       "┡━━━━━━━━━━━━━━━━━━━━━━━━━━━╇━━━━━━━━━━━━━━━━━━━━━━━━━━━┩\n",
       "│\u001b[36m \u001b[0m\u001b[36m        test_loss        \u001b[0m\u001b[36m \u001b[0m│\u001b[35m \u001b[0m\u001b[35m      16876774400.0      \u001b[0m\u001b[35m \u001b[0m│\n",
       "│\u001b[36m \u001b[0m\u001b[36m test_mean_squared_error \u001b[0m\u001b[36m \u001b[0m│\u001b[35m \u001b[0m\u001b[35m      16876774400.0      \u001b[0m\u001b[35m \u001b[0m│\n",
       "└───────────────────────────┴───────────────────────────┘\n"
      ]
     },
     "metadata": {},
     "output_type": "display_data"
    },
    {
     "data": {
      "text/html": [
       "<pre style=\"white-space:pre;overflow-x:auto;line-height:normal;font-family:Menlo,'DejaVu Sans Mono',consolas,'Courier New',monospace\"></pre>\n"
      ],
      "text/plain": []
     },
     "metadata": {},
     "output_type": "display_data"
    },
    {
     "data": {
      "text/html": [
       "<pre style=\"white-space:pre;overflow-x:auto;line-height:normal;font-family:Menlo,'DejaVu Sans Mono',consolas,'Courier New',monospace\">\n",
       "</pre>\n"
      ],
      "text/plain": [
       "\n"
      ]
     },
     "metadata": {},
     "output_type": "display_data"
    }
   ],
   "source": [
    "from pytorch_tabular.config import DataConfig, TrainerConfig, OptimizerConfig\n",
    "from pytorch_tabular.models import CategoryEmbeddingModelConfig\n",
    "from pytorch_tabular import TabularModel\n",
    "\n",
    "continuous_cols = [\"dist_to_nearest_stn\", \"dist_to_dhoby\", \"degree_centrality\", \"eigenvector_centrality\", \"remaining_lease_years\", \"floor_area_sqm\"]\n",
    "categorical_cols = [ \"month\", \"town\", \"flat_model_type\", \"storey_range\"]\n",
    "\n",
    "data_config_2022 = DataConfig(\n",
    "    target=['resale_price'],\n",
    "    continuous_cols=continuous_cols,\n",
    "    categorical_cols=categorical_cols,\n",
    ")\n",
    "\n",
    "trainer_config_2022 = TrainerConfig(\n",
    "    auto_lr_find=True,\n",
    "    batch_size=1024,\n",
    "    max_epochs=50,\n",
    ")\n",
    "\n",
    "model_config_2022 = CategoryEmbeddingModelConfig(\n",
    "    task=\"regression\",\n",
    "    layers=50,\n",
    ")\n",
    "\n",
    "optimizer_2022 = OptimizerConfig()\n",
    "\n",
    "tab_model_2022 = TabularModel(\n",
    "    data_config=data_config_2022,\n",
    "    model_config=model_config_2022,\n",
    "    optimizer_config=optimizer_2022,\n",
    "    trainer_config=trainer_config_2022,\n",
    ")\n",
    "\n",
    "tab_model_2022.fit(train=train, validation=val)\n",
    "result_2022 = tab_model_2022.evaluate(test_2022)\n",
    "pred_df_2022 = tab_model_2022.predict(test_2022)\n"
   ]
  },
  {
   "cell_type": "code",
   "execution_count": 10,
   "metadata": {},
   "outputs": [
    {
     "name": "stdout",
     "output_type": "stream",
     "text": [
      "16876774400.0\n"
     ]
    },
    {
     "ename": "KeyError",
     "evalue": "'resale_price'",
     "output_type": "error",
     "traceback": [
      "\u001b[1;31m---------------------------------------------------------------------------\u001b[0m",
      "\u001b[1;31mKeyError\u001b[0m                                  Traceback (most recent call last)",
      "File \u001b[1;32m~\\anaconda3\\envs\\tensorflow\\lib\\site-packages\\pandas\\core\\indexes\\base.py:3653\u001b[0m, in \u001b[0;36mIndex.get_loc\u001b[1;34m(self, key)\u001b[0m\n\u001b[0;32m   3652\u001b[0m \u001b[38;5;28;01mtry\u001b[39;00m:\n\u001b[1;32m-> 3653\u001b[0m     \u001b[38;5;28;01mreturn\u001b[39;00m \u001b[38;5;28;43mself\u001b[39;49m\u001b[38;5;241;43m.\u001b[39;49m\u001b[43m_engine\u001b[49m\u001b[38;5;241;43m.\u001b[39;49m\u001b[43mget_loc\u001b[49m\u001b[43m(\u001b[49m\u001b[43mcasted_key\u001b[49m\u001b[43m)\u001b[49m\n\u001b[0;32m   3654\u001b[0m \u001b[38;5;28;01mexcept\u001b[39;00m \u001b[38;5;167;01mKeyError\u001b[39;00m \u001b[38;5;28;01mas\u001b[39;00m err:\n",
      "File \u001b[1;32m~\\anaconda3\\envs\\tensorflow\\lib\\site-packages\\pandas\\_libs\\index.pyx:147\u001b[0m, in \u001b[0;36mpandas._libs.index.IndexEngine.get_loc\u001b[1;34m()\u001b[0m\n",
      "File \u001b[1;32m~\\anaconda3\\envs\\tensorflow\\lib\\site-packages\\pandas\\_libs\\index.pyx:176\u001b[0m, in \u001b[0;36mpandas._libs.index.IndexEngine.get_loc\u001b[1;34m()\u001b[0m\n",
      "File \u001b[1;32mpandas\\_libs\\hashtable_class_helper.pxi:7080\u001b[0m, in \u001b[0;36mpandas._libs.hashtable.PyObjectHashTable.get_item\u001b[1;34m()\u001b[0m\n",
      "File \u001b[1;32mpandas\\_libs\\hashtable_class_helper.pxi:7088\u001b[0m, in \u001b[0;36mpandas._libs.hashtable.PyObjectHashTable.get_item\u001b[1;34m()\u001b[0m\n",
      "\u001b[1;31mKeyError\u001b[0m: 'resale_price'",
      "\nThe above exception was the direct cause of the following exception:\n",
      "\u001b[1;31mKeyError\u001b[0m                                  Traceback (most recent call last)",
      "Cell \u001b[1;32mIn[10], line 7\u001b[0m\n\u001b[0;32m      4\u001b[0m mse \u001b[38;5;241m=\u001b[39m np\u001b[38;5;241m.\u001b[39msqrt(\u001b[38;5;28mfloat\u001b[39m(result_2022[\u001b[38;5;241m0\u001b[39m][\u001b[38;5;124m'\u001b[39m\u001b[38;5;124mtest_mean_squared_error\u001b[39m\u001b[38;5;124m'\u001b[39m]))\n\u001b[0;32m      6\u001b[0m pred_2022 \u001b[38;5;241m=\u001b[39m pred_df_2022[\u001b[38;5;124m\"\u001b[39m\u001b[38;5;124mresale_price_prediction\u001b[39m\u001b[38;5;124m\"\u001b[39m]\u001b[38;5;241m.\u001b[39mvalues\u001b[38;5;241m.\u001b[39mtolist()\n\u001b[1;32m----> 7\u001b[0m y_2022 \u001b[38;5;241m=\u001b[39m \u001b[43mpred_df_2022\u001b[49m\u001b[43m[\u001b[49m\u001b[38;5;124;43m'\u001b[39;49m\u001b[38;5;124;43mresale_price\u001b[39;49m\u001b[38;5;124;43m'\u001b[39;49m\u001b[43m]\u001b[49m\u001b[38;5;241m.\u001b[39mvalues\u001b[38;5;241m.\u001b[39mtolist()\n\u001b[0;32m      9\u001b[0m rsquared \u001b[38;5;241m=\u001b[39m r2_score(y_2022, pred_2022)\n\u001b[0;32m     10\u001b[0m \u001b[38;5;28mprint\u001b[39m(\u001b[38;5;124mf\u001b[39m\u001b[38;5;124m\"\u001b[39m\u001b[38;5;124mtest loss: \u001b[39m\u001b[38;5;132;01m{\u001b[39;00mresult_2022[\u001b[38;5;241m0\u001b[39m][\u001b[38;5;124m'\u001b[39m\u001b[38;5;124mtest_loss\u001b[39m\u001b[38;5;124m'\u001b[39m]\u001b[38;5;132;01m}\u001b[39;00m\u001b[38;5;124m\"\u001b[39m)\n",
      "File \u001b[1;32m~\\anaconda3\\envs\\tensorflow\\lib\\site-packages\\pandas\\core\\frame.py:3761\u001b[0m, in \u001b[0;36mDataFrame.__getitem__\u001b[1;34m(self, key)\u001b[0m\n\u001b[0;32m   3759\u001b[0m \u001b[38;5;28;01mif\u001b[39;00m \u001b[38;5;28mself\u001b[39m\u001b[38;5;241m.\u001b[39mcolumns\u001b[38;5;241m.\u001b[39mnlevels \u001b[38;5;241m>\u001b[39m \u001b[38;5;241m1\u001b[39m:\n\u001b[0;32m   3760\u001b[0m     \u001b[38;5;28;01mreturn\u001b[39;00m \u001b[38;5;28mself\u001b[39m\u001b[38;5;241m.\u001b[39m_getitem_multilevel(key)\n\u001b[1;32m-> 3761\u001b[0m indexer \u001b[38;5;241m=\u001b[39m \u001b[38;5;28;43mself\u001b[39;49m\u001b[38;5;241;43m.\u001b[39;49m\u001b[43mcolumns\u001b[49m\u001b[38;5;241;43m.\u001b[39;49m\u001b[43mget_loc\u001b[49m\u001b[43m(\u001b[49m\u001b[43mkey\u001b[49m\u001b[43m)\u001b[49m\n\u001b[0;32m   3762\u001b[0m \u001b[38;5;28;01mif\u001b[39;00m is_integer(indexer):\n\u001b[0;32m   3763\u001b[0m     indexer \u001b[38;5;241m=\u001b[39m [indexer]\n",
      "File \u001b[1;32m~\\anaconda3\\envs\\tensorflow\\lib\\site-packages\\pandas\\core\\indexes\\base.py:3655\u001b[0m, in \u001b[0;36mIndex.get_loc\u001b[1;34m(self, key)\u001b[0m\n\u001b[0;32m   3653\u001b[0m     \u001b[38;5;28;01mreturn\u001b[39;00m \u001b[38;5;28mself\u001b[39m\u001b[38;5;241m.\u001b[39m_engine\u001b[38;5;241m.\u001b[39mget_loc(casted_key)\n\u001b[0;32m   3654\u001b[0m \u001b[38;5;28;01mexcept\u001b[39;00m \u001b[38;5;167;01mKeyError\u001b[39;00m \u001b[38;5;28;01mas\u001b[39;00m err:\n\u001b[1;32m-> 3655\u001b[0m     \u001b[38;5;28;01mraise\u001b[39;00m \u001b[38;5;167;01mKeyError\u001b[39;00m(key) \u001b[38;5;28;01mfrom\u001b[39;00m \u001b[38;5;21;01merr\u001b[39;00m\n\u001b[0;32m   3656\u001b[0m \u001b[38;5;28;01mexcept\u001b[39;00m \u001b[38;5;167;01mTypeError\u001b[39;00m:\n\u001b[0;32m   3657\u001b[0m     \u001b[38;5;66;03m# If we have a listlike key, _check_indexing_error will raise\u001b[39;00m\n\u001b[0;32m   3658\u001b[0m     \u001b[38;5;66;03m#  InvalidIndexError. Otherwise we fall through and re-raise\u001b[39;00m\n\u001b[0;32m   3659\u001b[0m     \u001b[38;5;66;03m#  the TypeError.\u001b[39;00m\n\u001b[0;32m   3660\u001b[0m     \u001b[38;5;28mself\u001b[39m\u001b[38;5;241m.\u001b[39m_check_indexing_error(key)\n",
      "\u001b[1;31mKeyError\u001b[0m: 'resale_price'"
     ]
    }
   ],
   "source": [
    "from sklearn.metrics import r2_score\n",
    "\n",
    "print(f\"{result_2022[0]['test_mean_squared_error']}\")\n",
    "mse = np.sqrt(float(result_2022[0]['test_mean_squared_error']))\n",
    "\n",
    "pred_2022 = pred_df_2022[\"resale_price_prediction\"].values.tolist()\n",
    "y_2022 = pred_df_2022['resale_price'].values.tolist()\n",
    "\n",
    "rsquared = r2_score(y_2022, pred_2022)\n",
    "print(f\"test loss: {result_2022[0]['test_loss']}\")\n",
    "print(f\"RMSE: {mse}\")\n",
    "print(f\"R Squared: {rsquared}\")"
   ]
  },
  {
   "cell_type": "markdown",
   "metadata": {
    "id": "Gsbs0iMiaUy-"
   },
   "source": [
    "2.Evaluate your model from B1 on data from year 2023 and report the test R2."
   ]
  },
  {
   "cell_type": "code",
   "execution_count": null,
   "metadata": {
    "id": "B4FLRQfBaRS-"
   },
   "outputs": [],
   "source": [
    "# TODO: Enter your code here"
   ]
  },
  {
   "cell_type": "markdown",
   "metadata": {
    "id": "11mU8sxcaSAP"
   },
   "source": [
    "3.Did model degradation occur for the deep learning model?\n"
   ]
  },
  {
   "cell_type": "code",
   "execution_count": null,
   "metadata": {
    "id": "nviGacm6aSlf"
   },
   "outputs": [],
   "source": [
    "# YOUR ANSWER HERE"
   ]
  },
  {
   "cell_type": "markdown",
   "metadata": {},
   "source": []
  },
  {
   "cell_type": "markdown",
   "metadata": {
    "id": "KyiP8gBAcABD"
   },
   "source": [
    "\n",
    "\n",
    "---\n",
    "\n",
    "\n",
    "\n",
    "---\n",
    "\n"
   ]
  },
  {
   "cell_type": "markdown",
   "metadata": {
    "id": "ruldtSTDcYzt"
   },
   "source": [
    "4.Model degradation could be caused by [various data distribution shifts](https://huyenchip.com/2022/02/07/data-distribution-shifts-and-monitoring.html#data-shift-types): covariate shift (features), label shift and/or concept drift (altered relationship between features and labels).\n",
    "There are various conflicting terminologies in the [literature](https://www.sciencedirect.com/science/article/pii/S0950705122002854#tbl1). Let’s stick to this reference for this assignment.\n",
    "\n",
    "> Using the **Alibi Detect** library, apply the **TabularDrift** function with the training data (year 2019 and before) used as the reference and **detect which features have drifted** in the 2023 test dataset. Before running the statistical tests, ensure you **sample 1000 data points** each from the train and test data. Do not use the whole train/test data. (Hint: use this example as a guide https://docs.seldon.io/projects/alibi-detect/en/stable/examples/cd_chi2ks_adult.html)\n"
   ]
  },
  {
   "cell_type": "code",
   "execution_count": null,
   "metadata": {
    "id": "nGbdZc3ocYbB"
   },
   "outputs": [],
   "source": [
    "# YOUR CODE HERE"
   ]
  },
  {
   "cell_type": "markdown",
   "metadata": {
    "id": "Xmj3qq3PkJUf"
   },
   "source": [
    "5.Assuming that the flurry of housing measures have made an impact on the relationship between all the features and resale_price (i.e. P(Y|X) changes), which type of data distribution shift possibly led to model degradation?\n"
   ]
  },
  {
   "cell_type": "code",
   "execution_count": null,
   "metadata": {
    "id": "5UOsX4JqkZ9S"
   },
   "outputs": [],
   "source": [
    "# YOUR ANSWER HERE"
   ]
  },
  {
   "cell_type": "markdown",
   "metadata": {},
   "source": []
  },
  {
   "cell_type": "markdown",
   "metadata": {
    "id": "DM2OoOJdkZj1"
   },
   "source": [
    "6.From your analysis via TabularDrift, which features contribute to this shift?\n"
   ]
  },
  {
   "cell_type": "code",
   "execution_count": null,
   "metadata": {
    "id": "V3licBjskdLL"
   },
   "outputs": [],
   "source": [
    "# YOUR ANSWER HERE"
   ]
  },
  {
   "cell_type": "markdown",
   "metadata": {},
   "source": []
  },
  {
   "cell_type": "markdown",
   "metadata": {
    "id": "yB3fSvKskhEJ"
   },
   "source": [
    "7.Suggest 1 way to address model degradation and implement it, showing improved test R2 for year 2023.\n"
   ]
  },
  {
   "cell_type": "code",
   "execution_count": null,
   "metadata": {
    "id": "EqFinZObcYXu"
   },
   "outputs": [],
   "source": [
    "# YOUR CODE HERE"
   ]
  },
  {
   "cell_type": "code",
   "execution_count": null,
   "metadata": {},
   "outputs": [],
   "source": []
  },
  {
   "cell_type": "markdown",
   "metadata": {
    "id": "wQG9hZvAaq5g"
   },
   "source": [
    "### Appendix A\n",
    "\n"
   ]
  },
  {
   "cell_type": "markdown",
   "metadata": {
    "id": "G_ARi2OxbDuZ"
   },
   "source": [
    "Here are our results from a linear regression model. We used StandardScaler for continuous variables and OneHotEncoder for categorical variables.\n",
    "\n",
    "While 2021 data can be predicted well, test R2 dropped rapidly for 2022 and 2023.\n",
    "\n",
    "| Training set | Test set | Test R2 |\n",
    "|--------------|----------|---------|\n",
    "| Year <= 2020 | 2021     | 0.76    |\n",
    "| Year <= 2020 | **2022**     | 0.41    |\n",
    "| Year <= 2020 | **2023**     | **0.10**   |\n",
    "\n"
   ]
  },
  {
   "cell_type": "markdown",
   "metadata": {
    "id": "vmv91FqgbI8h"
   },
   "source": [
    "Similarly, a model trained on 2017 data can predict 2018-2021 well (with slight degradation in performance for 2021), but drops drastically in 2022 and 2023.\n",
    "\n",
    "| Training set | Test set | Test R2 |\n",
    "|--------------|----------|---------|\n",
    "| 2017         | 2018     | 0.90    |\n",
    "|              | 2019     | 0.89    |\n",
    "|              | 2020     | 0.87    |\n",
    "|              | 2021     | 0.72    |\n",
    "|              | **2022**     | **0.37**    |\n",
    "|              | **2023**     | **0.09**    |"
   ]
  },
  {
   "cell_type": "markdown",
   "metadata": {
    "id": "ayKGs106bI6S"
   },
   "source": [
    "With the test set fixed at year 2021, training on data from 2017-2020 still works well on the test data, with minimal degradation. Training sets closer to year 2021 generally do better.\n",
    "\n",
    "| Training set | Test set | Test R2 |\n",
    "|--------------|----------|---------|\n",
    "| 2020         | 2021     | 0.81    |\n",
    "| 2019         | 2021     | 0.75    |\n",
    "| 2018         | 2021     | 0.73    |\n",
    "| 2017         | 2021     | 0.72    |"
   ]
  }
 ],
 "metadata": {
  "colab": {
   "authorship_tag": "ABX9TyNWUKTcEICJ0j/YcXkGkr53",
   "collapsed_sections": [
    "wQG9hZvAaq5g"
   ],
   "provenance": []
  },
  "kernelspec": {
   "display_name": "Python 3 (ipykernel)",
   "language": "python",
   "name": "python3"
  },
  "language_info": {
   "codemirror_mode": {
    "name": "ipython",
    "version": 3
   },
   "file_extension": ".py",
   "mimetype": "text/x-python",
   "name": "python",
   "nbconvert_exporter": "python",
   "pygments_lexer": "ipython3",
   "version": "3.8.18"
  }
 },
 "nbformat": 4,
 "nbformat_minor": 1
}
