{
 "cells": [
  {
   "cell_type": "markdown",
   "metadata": {},
   "source": [
    "Find the optimal number of hidden neurons for first hidden layer of the 4-layer network (3 hidden layers, output layer) designed in Question 1 and 2"
   ]
  },
  {
   "cell_type": "markdown",
   "metadata": {},
   "source": [
    "#### Plot the mean cross-validation accuracies on the final epoch for different combinations of depth and widths using a scatter plot. Limit the search space of the combos to {[64], [128], [256], [64, 64], [128, 128], [256, 256], [64, 128], [128, 64], [128, 256], [64, 256], [256, 128], [256, 64], [64, 64, 64], [128, 128, 128], [256, 256, 256], [64, 128, 256], [64, 256, 256], [128, 64, 64], [128, 128, 64], [256, 128, 64], [256, 256, 128]}. Continue using 5-fold cross validation on training dataset. Select the optimal number of neurons for the hidden layer. State the rationale for your selection.\n",
    "\n",
    "This might take a while to run, approximately 30 - 60 min, so plan your time carefully."
   ]
  },
  {
   "cell_type": "markdown",
   "metadata": {},
   "source": [
    "1.Firstly, we import relevant libraries."
   ]
  },
  {
   "cell_type": "code",
   "execution_count": 1,
   "metadata": {},
   "outputs": [
    {
     "name": "stderr",
     "output_type": "stream",
     "text": [
      "Matplotlib is building the font cache; this may take a moment.\n"
     ]
    }
   ],
   "source": [
    "import tqdm\n",
    "import time\n",
    "import random\n",
    "import numpy as np\n",
    "import pandas as pd\n",
    "import matplotlib.pyplot as plt\n",
    "\n",
    "import torch\n",
    "from torch import nn\n",
    "from torch.utils.data import Dataset\n",
    "from torch.utils.data import DataLoader\n",
    "\n",
    "from scipy.io import wavfile as wav\n",
    "\n",
    "from sklearn import preprocessing\n",
    "from sklearn.model_selection import KFold\n",
    "from sklearn.model_selection import train_test_split\n",
    "from sklearn.metrics import f1_score, precision_score, recall_score, confusion_matrix\n",
    "from common_utils import set_seed\n",
    "\n",
    "# setting seed\n",
    "SEED = 42\n",
    "set_seed(SEED)"
   ]
  },
  {
   "cell_type": "markdown",
   "metadata": {},
   "source": [
    "2.To reduce repeated code, place your\n",
    "\n",
    "- network (MLP defined in QA1)\n",
    "- torch datasets (CustomDataset defined in QA1)\n",
    "- loss function (loss_fn defined in QA1)\n",
    "\n",
    "in a separate file called **common_utils.py**\n",
    "\n",
    "Import them into this file. You will not be repenalised for any error in QA1 here as the code in QA1 will not be remarked.\n",
    "\n",
    "The following code cell will not be marked."
   ]
  },
  {
   "cell_type": "code",
   "execution_count": 2,
   "metadata": {},
   "outputs": [
    {
     "name": "stdout",
     "output_type": "stream",
     "text": [
      "label\n",
      "pos    6202\n",
      "neg    5855\n",
      "Name: count, dtype: int64\n"
     ]
    }
   ],
   "source": [
    "# YOUR CODE HERE\n",
    "from common_utils import split_dataset\n",
    "# Import Dataset & Conduct Train-test split\n",
    "\n",
    "# Loading the dataset from a CSV file.\n",
    "df = pd.read_csv('simplified.csv')\n",
    "set_seed(SEED)\n",
    "\n",
    "# Extracting the 'label' from the 'filename' column.\n",
    "# It appears the label is embedded in the filename and is the penultimate (second last) item when split by '_'.\n",
    "df['label'] = df['filename'].str.split('_').str[-2]\n",
    "\n",
    "# Checking the distribution of the labels.\n",
    "print(df['label'].value_counts())\n",
    "\n",
    "# Splitting the dataset into training and testing sets:\n",
    "# The split is done in a 70:30 ratio, and the random_state ensures reproducibility.\n",
    "X_train, y_train, X_test, y_test = split_dataset(df, ['filename','label'], test_size=0.3, random_state=SEED)\n",
    "\n",
    "# We do not do preprocessing here as we will be doing 5-fold CV here. We should be applying scaling within each fold of the cross-validation, rather than fitting a scaler on the entire training dataset beforehand. \n",
    "# In each fold of the 5-fold cross-validation, a portion of our training set becomes the \"validation\" set, so the scaling parameters might be slightly different for each fold.\n",
    "\n",
    "# Declare a global dictionary to store epoch accuracies for different neurons in the first hidden layer\n",
    "global_epoch_accuracies = {}"
   ]
  },
  {
   "cell_type": "code",
   "execution_count": null,
   "metadata": {},
   "outputs": [],
   "source": []
  },
  {
   "cell_type": "markdown",
   "metadata": {},
   "source": [
    "3.Perform hyperparameter tuning for the different neurons with 5-fold cross validation."
   ]
  },
  {
   "cell_type": "code",
   "execution_count": 6,
   "metadata": {},
   "outputs": [],
   "source": [
    "import time\n",
    "from tqdm import tqdm\n",
    "\n",
    "\n",
    "def train(model, X_train_scaled, y_train2, X_val_scaled, y_val2, batch_size):\n",
    "    # Initialize dataset and dataloaders using the provided scaled training and validation sets\n",
    "    train_dataloader, val_dataloader = generate_cv_dataloaders(X_train_scaled, y_train2, X_val_scaled, y_val2, batch_size)\n",
    "    \n",
    "    # Set up the optimizer with learning rate of 0.001\n",
    "    lr = 0.001\n",
    "    optimizer = torch.optim.Adam(model.parameters(), lr)\n",
    "    # Set up the binary cross-entropy loss function\n",
    "    loss_fn = nn.BCELoss()\n",
    "    \n",
    "    # Initialize the early stopping mechanism with a patience of 3 (number of epochs without improvement)\n",
    "    early_stopper = EarlyStopper(patience=3)\n",
    "\n",
    "    # Lists to store train accuracies, train losses, test accuracies, test losses and epoch times\n",
    "    train_accuracies = []\n",
    "    train_losses = []\n",
    "    test_accuracies = []\n",
    "    test_losses = []\n",
    "    times = []\n",
    "\n",
    "    # Training loop for up to 100 epochs\n",
    "    for epoch in tqdm(range(100)):\n",
    "        # Record start time of the epoch\n",
    "        start_time = time.time()\n",
    "        # Set model to training mode\n",
    "        model.train()\n",
    "        # Initialize variables for calculating training accuracy and loss\n",
    "        correct_train = 0\n",
    "        total_train = 0\n",
    "        train_loss = 0.0\n",
    "        \n",
    "        # Loop through each batch in the training set\n",
    "        for batch in train_dataloader:\n",
    "            # Split the batch into data and target\n",
    "            data, target = batch\n",
    "            # Reset gradients to zero\n",
    "            optimizer.zero_grad()\n",
    "            \n",
    "            # Forward pass: compute model's predictions\n",
    "            output = model(data)\n",
    "            # Calculate the loss between the predictions and the ground truth\n",
    "            loss = loss_fn(output, target.float())\n",
    "            # Backward pass: compute the gradient of the loss wrt model parameters\n",
    "            loss.backward()\n",
    "            # Update the model parameters using the computed gradients\n",
    "            optimizer.step()\n",
    "            \n",
    "            # Update train loss\n",
    "            train_loss += loss.item()\n",
    "            # Convert model's predictions to binary (0 or 1)\n",
    "            predicted = torch.round(output)\n",
    "            # Update the number of total and correctly predicted samples\n",
    "            total_train += target.size(0)\n",
    "            correct_train += (predicted == target).sum().item()\n",
    "        \n",
    "        # Compute training accuracy and update the list\n",
    "        train_accuracy = correct_train / total_train\n",
    "        train_accuracies.append(train_accuracy)\n",
    "        # Update the train losses list\n",
    "        train_losses.append(train_loss)\n",
    "        \n",
    "        # Set model to evaluation mode for validation\n",
    "        model.eval()\n",
    "        # Initialize variables for calculating validation loss and accuracy\n",
    "        val_loss = 0.0\n",
    "        correct_val = 0\n",
    "        total_val = 0\n",
    "        \n",
    "        # Disable gradient computation for efficiency during validation\n",
    "        with torch.no_grad():\n",
    "            # Loop through each batch in the validation set\n",
    "            for batch in val_dataloader:\n",
    "                data, target = batch\n",
    "                output = model(data)\n",
    "                loss = loss_fn(output, target.float())\n",
    "                val_loss += loss.item()\n",
    "                \n",
    "                # Convert model's predictions to binary (0 or 1)\n",
    "                predicted = torch.round(output)\n",
    "                # Update the number of total and correctly predicted samples\n",
    "                correct_predictions = (predicted == target).sum().item()\n",
    "                total_val += target.size(0)\n",
    "                correct_val += correct_predictions\n",
    "\n",
    "        # Compute validation accuracy and update the list\n",
    "        test_accuracy = correct_val / total_val\n",
    "        test_accuracies.append(test_accuracy)\n",
    "        # Update the validation losses list\n",
    "        test_losses.append(val_loss)\n",
    "                \n",
    "        # Check if early stopping should be triggered based on validation loss\n",
    "        if early_stopper.early_stop(val_loss):\n",
    "            # Record the end time of the epoch\n",
    "            end_time = time.time()\n",
    "            # Compute the elapsed time for the epoch\n",
    "            elapsed_time = end_time - start_time\n",
    "            # Update the list of epoch times\n",
    "            times.append(elapsed_time)\n",
    "            # Print a message indicating early stopping was triggered\n",
    "            print(f\"Early stopping triggered at epoch {epoch+1}!\")\n",
    "            break\n",
    "        \n",
    "        # Record the end time of the epoch if not early-stopped\n",
    "        end_time = time.time()\n",
    "        # Compute the elapsed time for the epoch\n",
    "        elapsed_time = end_time - start_time\n",
    "        # Update the list of epoch times\n",
    "        times.append(elapsed_time)\n",
    "            \n",
    "    # Return the recorded metrics: train accuracies, train losses, test accuracies, test losses, and epoch times\n",
    "    return train_accuracies, train_losses, test_accuracies, test_losses, times"
   ]
  },
  {
   "cell_type": "code",
   "execution_count": 11,
   "metadata": {},
   "outputs": [
    {
     "name": "stdout",
     "output_type": "stream",
     "text": [
      "============ Testing with num_neurons: 64 in the first hidden layer ============\n",
      "Processing fold 1...\n"
     ]
    },
    {
     "name": "stderr",
     "output_type": "stream",
     "text": [
      " 22%|█████████████████▊                                                               | 22/100 [00:11<00:39,  2.00it/s]\n"
     ]
    },
    {
     "name": "stdout",
     "output_type": "stream",
     "text": [
      "Early stopping triggered at epoch 23!\n",
      "Accuracy at the final epoch for fold 1: 0.6979\n",
      "Processing fold 2...\n"
     ]
    },
    {
     "name": "stderr",
     "output_type": "stream",
     "text": [
      " 27%|█████████████████████▊                                                           | 27/100 [00:12<00:34,  2.09it/s]\n"
     ]
    },
    {
     "name": "stdout",
     "output_type": "stream",
     "text": [
      "Early stopping triggered at epoch 28!\n",
      "Accuracy at the final epoch for fold 2: 0.6996\n",
      "Processing fold 3...\n"
     ]
    },
    {
     "name": "stderr",
     "output_type": "stream",
     "text": [
      " 31%|█████████████████████████                                                        | 31/100 [00:15<00:34,  2.02it/s]\n"
     ]
    },
    {
     "name": "stdout",
     "output_type": "stream",
     "text": [
      "Early stopping triggered at epoch 32!\n",
      "Accuracy at the final epoch for fold 3: 0.7133\n",
      "Processing fold 4...\n"
     ]
    },
    {
     "name": "stderr",
     "output_type": "stream",
     "text": [
      " 25%|████████████████████▎                                                            | 25/100 [00:12<00:36,  2.03it/s]\n"
     ]
    },
    {
     "name": "stdout",
     "output_type": "stream",
     "text": [
      "Early stopping triggered at epoch 26!\n",
      "Accuracy at the final epoch for fold 4: 0.6884\n",
      "Processing fold 5...\n"
     ]
    },
    {
     "name": "stderr",
     "output_type": "stream",
     "text": [
      " 29%|███████████████████████▍                                                         | 29/100 [00:14<00:34,  2.04it/s]"
     ]
    },
    {
     "name": "stdout",
     "output_type": "stream",
     "text": [
      "Early stopping triggered at epoch 30!\n",
      "Accuracy at the final epoch for fold 5: 0.7066\n",
      "\n",
      "Mean cross-validation accuracy on final epoch for 64 neurons in the first hidden layer: 0.7012\n",
      "Mean time taken for final epoch for 64 neurons in the first hidden layer: 0.4651 seconds\n",
      "\n",
      "============ Testing with num_neurons: 128 in the first hidden layer ============\n"
     ]
    },
    {
     "name": "stderr",
     "output_type": "stream",
     "text": [
      "\n"
     ]
    },
    {
     "name": "stdout",
     "output_type": "stream",
     "text": [
      "Processing fold 1...\n"
     ]
    },
    {
     "name": "stderr",
     "output_type": "stream",
     "text": [
      " 31%|█████████████████████████                                                        | 31/100 [00:16<00:35,  1.94it/s]\n"
     ]
    },
    {
     "name": "stdout",
     "output_type": "stream",
     "text": [
      "Early stopping triggered at epoch 32!\n",
      "Accuracy at the final epoch for fold 1: 0.7512\n",
      "Processing fold 2...\n"
     ]
    },
    {
     "name": "stderr",
     "output_type": "stream",
     "text": [
      " 26%|█████████████████████                                                            | 26/100 [00:13<00:37,  1.96it/s]\n"
     ]
    },
    {
     "name": "stdout",
     "output_type": "stream",
     "text": [
      "Early stopping triggered at epoch 27!\n",
      "Accuracy at the final epoch for fold 2: 0.7115\n",
      "Processing fold 3...\n"
     ]
    },
    {
     "name": "stderr",
     "output_type": "stream",
     "text": [
      " 17%|█████████████▊                                                                   | 17/100 [00:09<00:44,  1.87it/s]\n"
     ]
    },
    {
     "name": "stdout",
     "output_type": "stream",
     "text": [
      "Early stopping triggered at epoch 18!\n",
      "Accuracy at the final epoch for fold 3: 0.6872\n",
      "Processing fold 4...\n"
     ]
    },
    {
     "name": "stderr",
     "output_type": "stream",
     "text": [
      " 25%|████████████████████▎                                                            | 25/100 [00:13<00:39,  1.92it/s]\n"
     ]
    },
    {
     "name": "stdout",
     "output_type": "stream",
     "text": [
      "Early stopping triggered at epoch 26!\n",
      "Accuracy at the final epoch for fold 4: 0.734\n",
      "Processing fold 5...\n"
     ]
    },
    {
     "name": "stderr",
     "output_type": "stream",
     "text": [
      " 24%|███████████████████▍                                                             | 24/100 [00:12<00:39,  1.94it/s]"
     ]
    },
    {
     "name": "stdout",
     "output_type": "stream",
     "text": [
      "Early stopping triggered at epoch 25!\n",
      "Accuracy at the final epoch for fold 5: 0.7226\n",
      "\n",
      "Mean cross-validation accuracy on final epoch for 128 neurons in the first hidden layer: 0.7213\n",
      "Mean time taken for final epoch for 128 neurons in the first hidden layer: 0.5647 seconds\n",
      "\n",
      "============ Testing with num_neurons: 256 in the first hidden layer ============\n"
     ]
    },
    {
     "name": "stderr",
     "output_type": "stream",
     "text": [
      "\n"
     ]
    },
    {
     "name": "stdout",
     "output_type": "stream",
     "text": [
      "Processing fold 1...\n"
     ]
    },
    {
     "name": "stderr",
     "output_type": "stream",
     "text": [
      " 20%|████████████████▏                                                                | 20/100 [00:11<00:44,  1.81it/s]\n"
     ]
    },
    {
     "name": "stdout",
     "output_type": "stream",
     "text": [
      "Early stopping triggered at epoch 21!\n",
      "Accuracy at the final epoch for fold 1: 0.7281\n",
      "Processing fold 2...\n"
     ]
    },
    {
     "name": "stderr",
     "output_type": "stream",
     "text": [
      " 26%|█████████████████████                                                            | 26/100 [00:14<00:40,  1.82it/s]\n"
     ]
    },
    {
     "name": "stdout",
     "output_type": "stream",
     "text": [
      "Early stopping triggered at epoch 27!\n",
      "Accuracy at the final epoch for fold 2: 0.75\n",
      "Processing fold 3...\n"
     ]
    },
    {
     "name": "stderr",
     "output_type": "stream",
     "text": [
      " 19%|███████████████▍                                                                 | 19/100 [00:10<00:46,  1.74it/s]\n"
     ]
    },
    {
     "name": "stdout",
     "output_type": "stream",
     "text": [
      "Early stopping triggered at epoch 20!\n",
      "Accuracy at the final epoch for fold 3: 0.7103\n",
      "Processing fold 4...\n"
     ]
    },
    {
     "name": "stderr",
     "output_type": "stream",
     "text": [
      " 24%|███████████████████▍                                                             | 24/100 [00:13<00:43,  1.76it/s]\n"
     ]
    },
    {
     "name": "stdout",
     "output_type": "stream",
     "text": [
      "Early stopping triggered at epoch 25!\n",
      "Accuracy at the final epoch for fold 4: 0.7387\n",
      "Processing fold 5...\n"
     ]
    },
    {
     "name": "stderr",
     "output_type": "stream",
     "text": [
      " 28%|██████████████████████▋                                                          | 28/100 [00:14<00:36,  1.97it/s]"
     ]
    },
    {
     "name": "stdout",
     "output_type": "stream",
     "text": [
      "Early stopping triggered at epoch 29!\n",
      "Accuracy at the final epoch for fold 5: 0.7629\n",
      "\n",
      "Mean cross-validation accuracy on final epoch for 256 neurons in the first hidden layer: 0.738\n",
      "Mean time taken for final epoch for 256 neurons in the first hidden layer: 0.5331 seconds\n",
      "\n"
     ]
    },
    {
     "name": "stderr",
     "output_type": "stream",
     "text": [
      "\n"
     ]
    }
   ],
   "source": [
    "from common_utils import generate_cv_folds_for_num_neurons, MLP, generate_cv_dataloaders, EarlyStopper\n",
    "\n",
    "def find_optimal_hyperparameter(X_train, y_train, parameters, mode, batch_size):\n",
    "    # Access the global variable to store epoch accuracies\n",
    "    global global_epoch_accuracies\n",
    "\n",
    "    # Dictionaries to store cross-validation accuracies and times\n",
    "    cross_validation_accuracies = {}\n",
    "    cross_validation_times = {}\n",
    "\n",
    "    # Iterate through the specified parameters\n",
    "    for param in parameters:\n",
    "        print(f\"============ Testing with {mode}: {param} in the first hidden layer ============\")\n",
    "        \n",
    "        # Initialize the dictionary key for this number of neurons in the first hidden layer\n",
    "        global_epoch_accuracies[param] = []\n",
    "\n",
    "        # Lists to store cross-validation accuracies and times for this parameter\n",
    "        cv_accuracies = []\n",
    "        cv_times = []\n",
    "\n",
    "        # Generate cross-validation folds for the current no of neurons in the first hidden layer\n",
    "        X_train_scaled_dict, X_val_scaled_dict, y_train_dict, y_val_dict = generate_cv_folds_for_num_neurons(parameters, X_train, y_train)\n",
    "\n",
    "        # Iterate through the 5-fold cross-validation\n",
    "        for i in range(5):\n",
    "            print(f\"Processing fold {i+1}...\")\n",
    "            \n",
    "            # Define the neural network architecture for the current parameter\n",
    "            no_features = X_train_scaled_dict[param][0].shape[1]\n",
    "            no_hidden = param  # Number of hidden neurons in the first layer is the parameter we are tuning\n",
    "            no_labels = 1\n",
    "            \n",
    "            model = MLP(no_features, no_hidden, no_labels)\n",
    "\n",
    "            # Train the model and get accuracies, losses, and times\n",
    "            train_accuracies, train_losses, test_accuracies, test_losses, times = train(\n",
    "                model, X_train_scaled_dict[param][i], y_train_dict[param][i], X_val_scaled_dict[param][i], y_val_dict[param][i], batch_size\n",
    "            )\n",
    "            \n",
    "            # Store the test accuracies for each epoch\n",
    "            global_epoch_accuracies[param].append(test_accuracies)\n",
    "            \n",
    "            print(f\"Accuracy at the final epoch for fold {i + 1}: {round(test_accuracies[-1],4)}\")\n",
    "            cv_accuracies.append(test_accuracies[-1])\n",
    "            cv_times.append(times[-1])\n",
    "\n",
    "        print()\n",
    "        \n",
    "        # Calculate and print the mean cross-validation accuracy for this parameter\n",
    "        cross_validation_accuracies[param] = sum(cv_accuracies) / len(cv_accuracies)\n",
    "        print(f\"Mean cross-validation accuracy on final epoch for {param} neurons in the first hidden layer: {round(cross_validation_accuracies[param],4)}\")\n",
    "        \n",
    "        # Calculate and print the mean time taken for the last epoch for this parameter\n",
    "        cross_validation_times[param] = sum(cv_times) / len(cv_times)\n",
    "        print(f\"Mean time taken for final epoch for {param} neurons in the first hidden layer: {round(cross_validation_times[param],4)} seconds\")\n",
    "        print()\n",
    "\n",
    "    return cross_validation_accuracies, cross_validation_times\n",
    "'''\n",
    "optimal_bs = 256. Fill your optimal batch size in the following code.\n",
    "'''\n",
    "# YOUR CODE HERE\n",
    "\n",
    "# Set a random seed\n",
    "\n",
    "set_seed(SEED)\n",
    "\n",
    "# Specify the optimal batch size\n",
    "optimal_bs = 256\n",
    "\n",
    "# Specify the number of neurons to tune\n",
    "num_neurons = [64, 128, 256]\n",
    "\n",
    "# Call the hyperparameter tuning function with specified parameters\n",
    "cross_validation_accuracies, cross_validation_times = find_optimal_hyperparameter(X_train.to_numpy(), y_train, num_neurons, 'num_neurons', optimal_bs)\n",
    "\n",
    "# Please note that the next time you run this notebook cell, the results will be different as time taken depends on CPU speed and other factors."
   ]
  },
  {
   "cell_type": "code",
   "execution_count": null,
   "metadata": {},
   "outputs": [],
   "source": []
  },
  {
   "cell_type": "markdown",
   "metadata": {},
   "source": [
    "4.Plot the mean cross-validation accuracies on the final epoch for different combinations of depth and widths using a scatter plot. Limit the search space of the combos to {[64], [128], [256], [64, 64], [128, 128], [256, 256], [64, 128], [128, 64], [128, 256], [64, 256], [256, 128], [256, 64], [64, 64, 64], [128, 128, 128], [256, 256, 256], [64, 128, 256], [64, 256, 256], [128, 64, 64], [128, 128, 64], [256, 128, 64], [256, 256, 128]}."
   ]
  },
  {
   "cell_type": "code",
   "execution_count": 17,
   "metadata": {},
   "outputs": [
    {
     "data": {
      "image/png": "[encoded data removed]",
      "text/plain": [
       "<Figure size 1000x600 with 1 Axes>"
      ]
     },
     "metadata": {},
     "output_type": "display_data"
    },
    {
     "data": {
      "text/html": [
       "<div>\n",
       "<style scoped>\n",
       "    .dataframe tbody tr th:only-of-type {\n",
       "        vertical-align: middle;\n",
       "    }\n",
       "\n",
       "    .dataframe tbody tr th {\n",
       "        vertical-align: top;\n",
       "    }\n",
       "\n",
       "    .dataframe thead th {\n",
       "        text-align: right;\n",
       "    }\n",
       "</style>\n",
       "<table border=\"1\" class=\"dataframe\">\n",
       "  <thead>\n",
       "    <tr style=\"text-align: right;\">\n",
       "      <th></th>\n",
       "      <th>Number of Neurons in Hidden Layer</th>\n",
       "      <th>Mean CV Time On Last Epoch (seconds)</th>\n",
       "      <th>Mean CV Accuracy On Last Epoch</th>\n",
       "    </tr>\n",
       "  </thead>\n",
       "  <tbody>\n",
       "    <tr>\n",
       "      <th>0</th>\n",
       "      <td>64</td>\n",
       "      <td>0.4651</td>\n",
       "      <td>0.7012</td>\n",
       "    </tr>\n",
       "    <tr>\n",
       "      <th>1</th>\n",
       "      <td>128</td>\n",
       "      <td>0.5647</td>\n",
       "      <td>0.7213</td>\n",
       "    </tr>\n",
       "    <tr>\n",
       "      <th>2</th>\n",
       "      <td>256</td>\n",
       "      <td>0.5331</td>\n",
       "      <td>0.7380</td>\n",
       "    </tr>\n",
       "  </tbody>\n",
       "</table>\n",
       "</div>"
      ],
      "text/plain": [
       "   Number of Neurons in Hidden Layer  Mean CV Time On Last Epoch (seconds)  Mean CV Accuracy On Last Epoch\n",
       "0                                 64                                0.4651                          0.7012\n",
       "1                                128                                0.5647                          0.7213\n",
       "2                                256                                0.5331                          0.7380"
      ]
     },
     "metadata": {},
     "output_type": "display_data"
    }
   ],
   "source": [
    "# YOUR CODE HERE\n",
    "\n",
    "# Plot the mean cross-validation accuracies against the number of neurons in the hidden layer using a scatter plot.\n",
    "\n",
    "# Get the keys and values for plotting\n",
    "neurons = list(cross_validation_accuracies.keys())\n",
    "accuracies = list(cross_validation_accuracies.values())\n",
    "\n",
    "# Create a scatter plot\n",
    "plt.figure(figsize=(10, 6))\n",
    "plt.scatter(neurons, accuracies, c='red', marker='o')\n",
    "\n",
    "# Labeling and titling the graph\n",
    "plt.xlabel('Number of Neurons in Hidden Layer')\n",
    "plt.ylabel('Mean Cross-Validation Accuracy')\n",
    "plt.title('Mean Cross-Validation Accuracy vs. Number of Neurons in Hidden Layer')\n",
    "plt.xticks(neurons)  # Set x-ticks to be the actual numbers of neurons considered\n",
    "\n",
    "# Annotate each point with its accuracy value\n",
    "for i, txt in enumerate(accuracies):\n",
    "    if i == 2:\n",
    "        plt.annotate(round(txt, 4), (neurons[i], accuracies[i]), textcoords=\"offset points\", xytext=(0, -20), ha='center')\n",
    "    else:\n",
    "        plt.annotate(round(txt, 4), (neurons[i], accuracies[i]), textcoords=\"offset points\", xytext=(0, 10), ha='center')\n",
    "\n",
    "# Show the graph\n",
    "plt.show()\n",
    "\n",
    "# Create DataFrame for displaying data\n",
    "data = {\n",
    "    'Number of Neurons in Hidden Layer': list(cross_validation_times.keys()),\n",
    "    'Mean CV Time On Last Epoch (seconds)': list(cross_validation_times.values()),\n",
    "    'Mean CV Accuracy On Last Epoch': list(cross_validation_accuracies.values())\n",
    "}\n",
    "\n",
    "df = pd.DataFrame(data)\n",
    "pd.set_option('display.width', 200)  # set the display width for columns\n",
    "\n",
    "# Round specified columns to 4 decimal places\n",
    "df['Mean CV Time On Last Epoch (seconds)'] = df['Mean CV Time On Last Epoch (seconds)'].round(4)\n",
    "df['Mean CV Accuracy On Last Epoch'] = df['Mean CV Accuracy On Last Epoch'].round(4)\n",
    "\n",
    "# Display DataFrame\n",
    "display(df)\n",
    "\n",
    "# Note: Results may vary in subsequent runs due to factors like CPU speed.\n"
   ]
  },
  {
   "cell_type": "markdown",
   "metadata": {},
   "source": [
    "5.Select the optimal combination for the depth and width. State the rationale for your selection."
   ]
  },
  {
   "cell_type": "code",
   "execution_count": 18,
   "metadata": {},
   "outputs": [
    {
     "name": "stdout",
     "output_type": "stream",
     "text": [
      "Optimal number of neurons in the first hidden layer: 256\n",
      "\n",
      "Reason: \n",
      "• When we optimize the model, our primary goal is to reach the maximum accuracy. The experiments consistently increased the mean cross-validation accuracy on the final epoch by increasing the number of neurons in the first hidden layer from 64 to 256. Out of all the configurations studied, the setup with 256 neurons had the highest accuracy, at 0.7380. \n",
      "\n",
      "• We have incorporated various strategies and architectures, like dropout layers, to safeguard our model against overfitting. Additionally, with the use of early stopping during training and implementing cross-validation, we have measures in place to ensure the model's robustness and its generalizability to unseen data. With these strategies, the increased complexity of our model \n",
      "with more neurons becomes both justifiable and beneficial, allowing us to harness a more complex model to capture intricate patterns in the data without a high risk of overfitting.\n",
      "\n",
      "• When balancing model complexity and computational resources, it's evident that an increase in the number of neurons does lead to a slightly higher computational time. However, the incremental increase in time, from 0.2712 seconds for 64 neurons to 0.3183 seconds for 256 neurons, is relatively minor, especially when contrasted with the significant improvement in accuracy: from 0.7012 \n",
      "with 64 neurons to 0.7380 with 256 neurons.\n",
      "\n",
      "• Even though there is an increase in computational time as we transition from 64 to 256 neurons, the marginal difference in training time is outweighed by the considerable enhancement in model accuracy. This makes the choice of 256 neurons in the first hidden layer as the optimal configuration both judicious and favorable for our application.\n",
      "\n"
     ]
    }
   ],
   "source": [
    "optimal_neurons = 256\n",
    "reason = '''\n",
    "• When we optimize the model, our primary goal is to reach the maximum accuracy. The experiments consistently increased the mean cross-validation accuracy on the final epoch by increasing the number of neurons in the first hidden layer from 64 to 256. Out of all the configurations studied, the setup with 256 neurons had the highest accuracy, at 0.7380. \n",
    "\n",
    "• We have incorporated various strategies and architectures, like dropout layers, to safeguard our model against overfitting. Additionally, with the use of early stopping during training and implementing cross-validation, we have measures in place to ensure the model's robustness and its generalizability to unseen data. With these strategies, the increased complexity of our model \n",
    "with more neurons becomes both justifiable and beneficial, allowing us to harness a more complex model to capture intricate patterns in the data without a high risk of overfitting.\n",
    "\n",
    "• When balancing model complexity and computational resources, it's evident that an increase in the number of neurons does lead to a slightly higher computational time. However, the incremental increase in time, from 0.2712 seconds for 64 neurons to 0.3183 seconds for 256 neurons, is relatively minor, especially when contrasted with the significant improvement in accuracy: from 0.7012 \n",
    "with 64 neurons to 0.7380 with 256 neurons.\n",
    "\n",
    "• Even though there is an increase in computational time as we transition from 64 to 256 neurons, the marginal difference in training time is outweighed by the considerable enhancement in model accuracy. This makes the choice of 256 neurons in the first hidden layer as the optimal configuration both judicious and favorable for our application.\n",
    "'''\n",
    "# YOUR CODE HERE\n",
    "\n",
    "print(f\"Optimal number of neurons in the first hidden layer: {optimal_neurons}\")\n",
    "print()\n",
    "print(f\"Reason: {reason}\")"
   ]
  },
  {
   "cell_type": "code",
   "execution_count": null,
   "metadata": {},
   "outputs": [],
   "source": []
  },
  {
   "cell_type": "markdown",
   "metadata": {},
   "source": [
    "6.Plot the train and test accuracies against training epochs with the optimal number of neurons using a line plot.\n"
   ]
  },
  {
   "cell_type": "code",
   "execution_count": 19,
   "metadata": {},
   "outputs": [
    {
     "name": "stdout",
     "output_type": "stream",
     "text": [
      "Training the model with optimal number of neurons: 256...\n",
      "This will stop at 26 epochs (~ 20 secs)...\n",
      "\n"
     ]
    },
    {
     "name": "stderr",
     "output_type": "stream",
     "text": [
      " 25%|████████████████████▎                                                            | 25/100 [00:18<00:54,  1.39it/s]"
     ]
    },
    {
     "name": "stdout",
     "output_type": "stream",
     "text": [
      "Early stopping triggered at epoch 26!\n",
      "Training completed!\n",
      "\n",
      "Training Accuracies:\n",
      "Epoch 10: 0.7339\n",
      "Epoch 20: 0.8279\n",
      "Epoch 26: 0.8580\n",
      "\n",
      "Test Accuracies:\n",
      "Epoch 10: 0.7048\n",
      "Epoch 20: 0.7546\n",
      "Epoch 26: 0.7617\n"
     ]
    },
    {
     "name": "stderr",
     "output_type": "stream",
     "text": [
      "\n"
     ]
    },
    {
     "data": {
      "image/png": "[encoded data removed]",
      "text/plain": [
       "<Figure size 1000x600 with 1 Axes>"
      ]
     },
     "metadata": {},
     "output_type": "display_data"
    }
   ],
   "source": [
    "# YOUR CODE HERE\n",
    "from common_utils import preprocess_dataset\n",
    "\n",
    "# Now, use the full training dataset and train the model using the optimal number of neurons and test it on the test set:\n",
    "set_seed(SEED)\n",
    "optimal_neurons = 256\n",
    "no_input_features = X_train.shape[1]\n",
    "no_hidden = optimal_neurons\n",
    "no_labels = 1\n",
    "batch_size = 256\n",
    "model_optimal = MLP(no_input_features, no_hidden, no_labels)\n",
    "# Saved the trained model for usage in A4\n",
    "torch.save(model_optimal.state_dict(), 'a3_model.pth')\n",
    "\n",
    "X_train_scaled, X_test_scaled = preprocess_dataset(X_train, X_test)\n",
    "\n",
    "# Assuming train_accuracies and test_accuracies are lists containing accuracy values for each epoch\n",
    "print(f'Training the model with optimal number of neurons: {optimal_neurons}...')\n",
    "print('This will stop at 26 epochs (~ 20 secs)...')\n",
    "print()\n",
    "train_accuracies, train_losses, test_accuracies, test_losses , _ = train(\n",
    "    model_optimal, X_train_scaled, y_train, X_test_scaled, y_test, batch_size\n",
    ")\n",
    "print('Training completed!')\n",
    "\n",
    "# Print training accuracies every 10 epochs and the last epoch\n",
    "print(\"\\nTraining Accuracies:\")\n",
    "for i, accuracy in enumerate(train_accuracies, 1):  # Enumerate starts the count from 1 here\n",
    "    if i % 10 == 0 or i == len(train_accuracies):\n",
    "        print(f\"Epoch {i}: {accuracy:.4f}\")\n",
    "\n",
    "# Print testing accuracies every 10 epochs and the last epoch\n",
    "print(\"\\nTest Accuracies:\")\n",
    "for i, accuracy in enumerate(test_accuracies, 1):\n",
    "    if i % 10 == 0 or i == len(test_accuracies):\n",
    "        print(f\"Epoch {i}: {accuracy:.4f}\")\n",
    "\n",
    "# Create a line plot\n",
    "plt.figure(figsize=(10, 6))\n",
    "\n",
    "# Plotting the training accuracies\n",
    "plt.plot(range(len(train_accuracies)), train_accuracies, label='Train Accuracy', color='b')\n",
    "\n",
    "# Plotting the test accuracies\n",
    "plt.plot(range(len(test_accuracies)), test_accuracies, label='Test Accuracy', color='r')\n",
    "\n",
    "# Labeling and titling the graph\n",
    "plt.xlabel('Epochs')\n",
    "plt.ylabel('Accuracy')\n",
    "plt.title('Train and Test Accuracies vs. Epochs')\n",
    "plt.legend()\n",
    "\n",
    "# Show the graph\n",
    "plt.show()\n",
    "\n",
    "\n",
    "#---------------------------------------#\n",
    "# Comments:\n",
    "# • Convergence and Learning: The training accuracy showed significant improvement as epochs progressed, starting from 0.7349 in the 10th epoch and reaching 0.8573 by the 26th epoch. \n",
    "#   This consistent rise in training accuracy indicates that the model efficiently adapted its weights over time, improving its performance on the training dataset.\n",
    "\n",
    "# • Generalization: The test accuracy demonstrated a similar upward trajectory, rising from 0.7051 in the 10th epoch to 0.7593 by the 26th epoch. Howver, the test and training accuracies did not remain closely \n",
    "#   aligned throughout the training process, underscoring the model's inability to generalize well to new, unseen data. Particularly in the final epoch, the test accuracy (0.7593) is nearly 0.1 away from \n",
    "#   to the training accuracy (0.8573), further emphasizing the model's moderate generalization capabilities.\n",
    "\n",
    "# • Early Stopping: The training was halted on the 26th epoch, suggesting that the early stopping criterion was activated. This mechanism is pivotal in averting potential overfitting by ensuring the model \n",
    "#   doesn't become overly specialized to the training data, which could compromise performance on the test dataset. The fact that the model stopped training at this point indicates that subsequent \n",
    "#   epochs might not have yielded notable advancements or could have even deteriorated the model's capacity to generalize.\n",
    "#---------------------------------------#"
   ]
  },
  {
   "cell_type": "markdown",
   "metadata": {},
   "source": [
    "7.As you've astutely observed, we're facing a significant challenge in enumerating all possible combinations of widths and depths and searching over them. Given the circumstances, could you explore and implement a more efficient method for searching through these combinations that could significantly reduce the computational time but achieve similar search results?"
   ]
  },
  {
   "cell_type": "code",
   "execution_count": 15,
   "metadata": {},
   "outputs": [
    {
     "name": "stdout",
     "output_type": "stream",
     "text": [
      "\n",
      "o Grid Search: In grid search, you define a grid of hyperparameters (widths and depths in your case) and evaluate each combination. This is done by iterating over all combinations in a systematic manner. While it covers all possible combinations, it can be computationally expensive if the search space is large. However, it's more efficient than brute force enumeration because it allows you to specify a grid that covers a wide range of values without testing every single combination.\n",
      "o Random Search: Random search randomly samples hyperparameter combinations from the search space. This method can be more efficient than grid search, especially when the search space is large. It can quickly explore a wide range of hyperparameters without exhaustively testing all combinations. However, it's important to set the number of random samples appropriately to balance exploration and exploitation.\n",
      "\n"
     ]
    }
   ],
   "source": [
    "# YOUR CODE HERE\n",
    "answer = '''\n",
    "o Grid Search: In grid search, you define a grid of hyperparameters (widths and depths in your case) and evaluate each combination. This is done by iterating over all combinations in a systematic manner. While it covers all possible combinations, it can be computationally expensive if the search space is large. However, it's more efficient than brute force enumeration because it allows you to specify a grid that covers a wide range of values without testing every single combination.\n",
    "o Random Search: Random search randomly samples hyperparameter combinations from the search space. This method can be more efficient than grid search, especially when the search space is large. It can quickly explore a wide range of hyperparameters without exhaustively testing all combinations. However, it's important to set the number of random samples appropriately to balance exploration and exploitation.\n",
    "'''\n",
    "\n",
    "print(answer)"
   ]
  },
  {
   "cell_type": "code",
   "execution_count": 16,
   "metadata": {},
   "outputs": [
    {
     "name": "stdout",
     "output_type": "stream",
     "text": [
      "Randomly sampled combinations:\n",
      "Combination 1: Width=128, Depth=3\n",
      "Combination 2: Width=64, Depth=6\n",
      "Combination 3: Width=64, Depth=4\n",
      "Combination 4: Width=128, Depth=6\n",
      "Combination 5: Width=64, Depth=3\n",
      "Combination 6: Width=16, Depth=3\n",
      "Combination 7: Width=128, Depth=3\n",
      "Combination 8: Width=128, Depth=5\n",
      "Combination 9: Width=32, Depth=5\n",
      "Combination 10: Width=16, Depth=4\n"
     ]
    }
   ],
   "source": [
    "import random\n",
    "\n",
    "# Define the search space for widths and depths\n",
    "widths_space = [16, 32, 64, 128]\n",
    "depths_space = [3, 4, 5, 6]\n",
    "\n",
    "# Number of random samples\n",
    "num_samples = 10\n",
    "\n",
    "# Randomly sample combinations\n",
    "random_combinations = []\n",
    "for _ in range(num_samples):\n",
    "    width = random.choice(widths_space)\n",
    "    depth = random.choice(depths_space)\n",
    "    random_combinations.append((width, depth))\n",
    "\n",
    "# Print the randomly sampled combinations\n",
    "print(\"Randomly sampled combinations:\")\n",
    "for i, (width, depth) in enumerate(random_combinations, 1):\n",
    "    print(f\"Combination {i}: Width={width}, Depth={depth}\")\n"
   ]
  },
  {
   "cell_type": "code",
   "execution_count": null,
   "metadata": {},
   "outputs": [],
   "source": []
  }
 ],
 "metadata": {
  "kernelspec": {
   "display_name": "Python 3 (ipykernel)",
   "language": "python",
   "name": "python3"
  },
  "language_info": {
   "codemirror_mode": {
    "name": "ipython",
    "version": 3
   },
   "file_extension": ".py",
   "mimetype": "text/x-python",
   "name": "python",
   "nbconvert_exporter": "python",
   "pygments_lexer": "ipython3",
   "version": "3.8.18"
  }
 },
 "nbformat": 4,
 "nbformat_minor": 2
}
