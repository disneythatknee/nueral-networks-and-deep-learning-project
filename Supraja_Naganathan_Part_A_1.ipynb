{
 "cells": [
  {
   "cell_type": "markdown",
   "metadata": {},
   "source": [
    "# Question A1 (15 marks)"
   ]
  },
  {
   "cell_type": "markdown",
   "metadata": {},
   "source": [
    "#### Design a feedforward deep neural network (DNN) which consists of **three** hidden layers of 128 neurons each with ReLU activation function, and an output layer with sigmoid activation function. Apply dropout of probability **0.2** to each of the hidden layers."
   ]
  },
  {
   "cell_type": "code",
   "execution_count": 1,
   "metadata": {},
   "outputs": [
    {
     "name": "stderr",
     "output_type": "stream",
     "text": [
      "C:\\Users\\nsupr\\anaconda3\\lib\\site-packages\\pandas\\core\\computation\\expressions.py:20: UserWarning: Pandas requires version '2.7.3' or newer of 'numexpr' (version '2.7.1' currently installed).\n",
      "  from pandas.core.computation.check import NUMEXPR_INSTALLED\n"
     ]
    }
   ],
   "source": [
    "import common_utils"
   ]
  },
  {
   "cell_type": "code",
   "execution_count": 4,
   "metadata": {},
   "outputs": [],
   "source": [
    "import tqdm\n",
    "import time\n",
    "import random\n",
    "import numpy as np\n",
    "import pandas as pd\n",
    "import matplotlib.pyplot as plt\n",
    "\n",
    "import torch\n",
    "from torch import nn\n",
    "from torch.utils.data import Dataset\n",
    "from torch.utils.data import DataLoader\n",
    "\n",
    "from scipy.io import wavfile as wav\n",
    "\n",
    "from sklearn import preprocessing\n",
    "from sklearn.model_selection import KFold\n",
    "from sklearn.model_selection import train_test_split\n",
    "from sklearn.metrics import f1_score, precision_score, recall_score, confusion_matrix\n",
    "\n",
    "from common_utils import set_seed\n",
    "\n",
    "# setting seed\n",
    "set_seed()"
   ]
  },
  {
   "cell_type": "code",
   "execution_count": null,
   "metadata": {},
   "outputs": [],
   "source": []
  },
  {
   "cell_type": "markdown",
   "metadata": {},
   "source": [
    "1.Define the model class."
   ]
  },
  {
   "cell_type": "code",
   "execution_count": 6,
   "metadata": {},
   "outputs": [],
   "source": [
    "\"\"\"\n",
    "to build: \n",
    "- 3 hidden layers of 128 nuerons each with ReLU activation\n",
    "- 1 output layer with sigmoid activation function\n",
    "- apply dropout of prob 0.2 to each of the hidden layers\n",
    "\"\"\"\n",
    "\n",
    "class MLP(nn.Module):\n",
    "    # initialize the model parameters\n",
    "    def __init__(self, no_features, no_hidden, no_labels):\n",
    "        super().__init__() # call the parent class constructor\n",
    "        self.mlp_stack = nn.Sequential(\n",
    "            # YOUR CODE HERE\n",
    "            \n",
    "            # 1st hidden layer - Input layer\n",
    "            nn.Linear(no_features, no_hidden),\n",
    "            nn.ReLU(),\n",
    "            nn.Dropout(0.2),\n",
    "            \n",
    "            # First Hidden Layer -> Second hidden layer\n",
    "            nn.Linear(no_hidden, no_hidden),\n",
    "            nn.ReLU(),\n",
    "            nn.Dropout(0.2),\n",
    "            \n",
    "            # Second hidden layer -> Third hidden layer\n",
    "            nn.Linear(no_hidden, no_hidden),\n",
    "            nn.ReLU(),\n",
    "            nn.Dropout(0.2),\n",
    "            \n",
    "            # Third hidden layer -> Output layer with sigmoid activation function\n",
    "            nn.Linear(no_hidden, no_labels),\n",
    "            nn.Sigmoid()\n",
    "        )\n",
    "        \n",
    "        \n",
    "\n",
    "    # YOUR CODE HERE\n",
    "    def forward(self, x):\n",
    "        # get the output by passing the input through the mlp_stack\n",
    "        return self.mlp_stack(x)"
   ]
  },
  {
   "cell_type": "code",
   "execution_count": null,
   "metadata": {},
   "outputs": [],
   "source": []
  },
  {
   "cell_type": "code",
   "execution_count": null,
   "metadata": {},
   "outputs": [],
   "source": []
  },
  {
   "cell_type": "markdown",
   "metadata": {},
   "source": [
    "#### Divide the dataset into a 75:25 ratio for training and testing. Use **appropriate** scaling of input features. We solely assume that there are only two datasets here: training & test."
   ]
  },
  {
   "cell_type": "markdown",
   "metadata": {},
   "source": [
    "2.Split the dataset and do preprocessing."
   ]
  },
  {
   "cell_type": "code",
   "execution_count": 8,
   "metadata": {},
   "outputs": [],
   "source": [
    "from common_utils import split_dataset, preprocess_dataset\n",
    "\n",
    "def preprocess(df):\n",
    "    # YOUR CODE HERE\n",
    "    \"\"\"\n",
    "    columns_to_drop = filename, label because it contains the required output: neg/pos\n",
    "    because we don't want to give the model access to the information it is trying to predict\n",
    "    training:testing is 7:3 so test_size = 0.3\n",
    "    split_dataset function returns: df_train2, y_train2, df_test2, y_test2\n",
    "    assumption: no random_state specified hence is set random_state = 0\n",
    "    \"\"\"\n",
    "    \n",
    "    X_train, y_train, X_test, y_test = split_dataset(df, ['filename', 'label'], 0.3, 0)\n",
    "    \n",
    "    #return requires scaled X_train (X_train_scaled) and X_test values (X_test_scaled)\n",
    "    X_train_scaled, X_test_scaled = preprocess_dataset(X_train, X_test)\n",
    "    \n",
    "    return X_train_scaled, y_train, X_test_scaled, y_test\n",
    "\n",
    "df = pd.read_csv('simplified.csv')\n",
    "df['label'] = df['filename'].str.split('_').str[-2]\n",
    "\n",
    "df['label'].value_counts()\n",
    "\n",
    "X_train_scaled, y_train, X_test_scaled, y_test = preprocess(df)\n",
    "\n",
    "\"\"\"\n",
    "Explanation on why we used StandardScaler for preprocessing and why it's appropriate:\n",
    "\n",
    "Utilizing the StandardScaler for preprocessing is appropriate for our neural network model, especially when the dataset contains diverse features with different scales, like in the \n",
    "National Speech Corpus. Neural networks tend to perform optimally when input data is standardized. Features with larger scales can disproportionately impact the training, causing slower \n",
    "convergence. With StandardScaler, all features are standardized to have a mean of 0 and a standard deviation of 1. This ensures that each feature has a consistent influence during \n",
    "training, leading to faster and more stable convergence. Given the diverse features in our project, such as MFCCs and chromagrams, this standardization is crucial for balanced training.\n",
    "\"\"\""
   ]
  },
  {
   "cell_type": "code",
   "execution_count": 11,
   "metadata": {},
   "outputs": [
    {
     "data": {
      "text/html": [
       "<div>\n",
       "<style scoped>\n",
       "    .dataframe tbody tr th:only-of-type {\n",
       "        vertical-align: middle;\n",
       "    }\n",
       "\n",
       "    .dataframe tbody tr th {\n",
       "        vertical-align: top;\n",
       "    }\n",
       "\n",
       "    .dataframe thead th {\n",
       "        text-align: right;\n",
       "    }\n",
       "</style>\n",
       "<table border=\"1\" class=\"dataframe\">\n",
       "  <thead>\n",
       "    <tr style=\"text-align: right;\">\n",
       "      <th></th>\n",
       "      <th>filename</th>\n",
       "      <th>tempo</th>\n",
       "      <th>total_beats</th>\n",
       "      <th>average_beats</th>\n",
       "      <th>chroma_stft_mean</th>\n",
       "      <th>chroma_stft_var</th>\n",
       "      <th>chroma_cq_mean</th>\n",
       "      <th>chroma_cq_var</th>\n",
       "      <th>chroma_cens_mean</th>\n",
       "      <th>chroma_cens_var</th>\n",
       "      <th>...</th>\n",
       "      <th>mfcc15_mean</th>\n",
       "      <th>mfcc15_var</th>\n",
       "      <th>mfcc16_mean</th>\n",
       "      <th>mfcc16_var</th>\n",
       "      <th>mfcc17_mean</th>\n",
       "      <th>mfcc17_var</th>\n",
       "      <th>mfcc18_mean</th>\n",
       "      <th>mfcc18_var</th>\n",
       "      <th>mfcc19_mean</th>\n",
       "      <th>mfcc19_var</th>\n",
       "    </tr>\n",
       "  </thead>\n",
       "  <tbody>\n",
       "    <tr>\n",
       "      <th>0</th>\n",
       "      <td>app_3001_4001_phnd_neg_0000.wav</td>\n",
       "      <td>184.570312</td>\n",
       "      <td>623</td>\n",
       "      <td>69.222222</td>\n",
       "      <td>0.515281</td>\n",
       "      <td>0.093347</td>\n",
       "      <td>0.443441</td>\n",
       "      <td>0.082742</td>\n",
       "      <td>0.249143</td>\n",
       "      <td>0.021261</td>\n",
       "      <td>...</td>\n",
       "      <td>-10.669799</td>\n",
       "      <td>63.340282</td>\n",
       "      <td>1.811605</td>\n",
       "      <td>58.117188</td>\n",
       "      <td>-3.286546</td>\n",
       "      <td>54.268448</td>\n",
       "      <td>-2.719069</td>\n",
       "      <td>59.548176</td>\n",
       "      <td>-4.559987</td>\n",
       "      <td>70.774803</td>\n",
       "    </tr>\n",
       "    <tr>\n",
       "      <th>1</th>\n",
       "      <td>app_3001_4001_phnd_neg_0001.wav</td>\n",
       "      <td>151.999081</td>\n",
       "      <td>521</td>\n",
       "      <td>74.428571</td>\n",
       "      <td>0.487201</td>\n",
       "      <td>0.094461</td>\n",
       "      <td>0.542182</td>\n",
       "      <td>0.073359</td>\n",
       "      <td>0.274423</td>\n",
       "      <td>0.008025</td>\n",
       "      <td>...</td>\n",
       "      <td>-5.666375</td>\n",
       "      <td>90.256195</td>\n",
       "      <td>1.573594</td>\n",
       "      <td>105.070496</td>\n",
       "      <td>-0.742024</td>\n",
       "      <td>82.417496</td>\n",
       "      <td>-1.961745</td>\n",
       "      <td>119.312355</td>\n",
       "      <td>1.513660</td>\n",
       "      <td>101.014572</td>\n",
       "    </tr>\n",
       "    <tr>\n",
       "      <th>2</th>\n",
       "      <td>app_3001_4001_phnd_neg_0002.wav</td>\n",
       "      <td>112.347147</td>\n",
       "      <td>1614</td>\n",
       "      <td>146.727273</td>\n",
       "      <td>0.444244</td>\n",
       "      <td>0.099268</td>\n",
       "      <td>0.442014</td>\n",
       "      <td>0.083224</td>\n",
       "      <td>0.264430</td>\n",
       "      <td>0.013410</td>\n",
       "      <td>...</td>\n",
       "      <td>-5.502390</td>\n",
       "      <td>73.079750</td>\n",
       "      <td>0.202623</td>\n",
       "      <td>72.040550</td>\n",
       "      <td>-4.021009</td>\n",
       "      <td>73.844353</td>\n",
       "      <td>-5.916223</td>\n",
       "      <td>103.834824</td>\n",
       "      <td>-2.939086</td>\n",
       "      <td>113.598824</td>\n",
       "    </tr>\n",
       "    <tr>\n",
       "      <th>3</th>\n",
       "      <td>app_3001_4001_phnd_neg_0003.wav</td>\n",
       "      <td>107.666016</td>\n",
       "      <td>2060</td>\n",
       "      <td>158.461538</td>\n",
       "      <td>0.454156</td>\n",
       "      <td>0.100834</td>\n",
       "      <td>0.424370</td>\n",
       "      <td>0.084435</td>\n",
       "      <td>0.257672</td>\n",
       "      <td>0.016938</td>\n",
       "      <td>...</td>\n",
       "      <td>-8.812989</td>\n",
       "      <td>93.791893</td>\n",
       "      <td>-0.429413</td>\n",
       "      <td>60.002579</td>\n",
       "      <td>-4.013513</td>\n",
       "      <td>82.544540</td>\n",
       "      <td>-5.858006</td>\n",
       "      <td>84.402092</td>\n",
       "      <td>0.686969</td>\n",
       "      <td>90.126389</td>\n",
       "    </tr>\n",
       "    <tr>\n",
       "      <th>4</th>\n",
       "      <td>app_3001_4001_phnd_neg_0004.wav</td>\n",
       "      <td>75.999540</td>\n",
       "      <td>66</td>\n",
       "      <td>33.000000</td>\n",
       "      <td>0.478780</td>\n",
       "      <td>0.100000</td>\n",
       "      <td>0.414859</td>\n",
       "      <td>0.089313</td>\n",
       "      <td>0.252143</td>\n",
       "      <td>0.019757</td>\n",
       "      <td>...</td>\n",
       "      <td>-6.584204</td>\n",
       "      <td>64.973305</td>\n",
       "      <td>0.744403</td>\n",
       "      <td>68.908516</td>\n",
       "      <td>-6.354805</td>\n",
       "      <td>66.414391</td>\n",
       "      <td>-6.555534</td>\n",
       "      <td>47.852840</td>\n",
       "      <td>-4.809713</td>\n",
       "      <td>73.033966</td>\n",
       "    </tr>\n",
       "    <tr>\n",
       "      <th>...</th>\n",
       "      <td>...</td>\n",
       "      <td>...</td>\n",
       "      <td>...</td>\n",
       "      <td>...</td>\n",
       "      <td>...</td>\n",
       "      <td>...</td>\n",
       "      <td>...</td>\n",
       "      <td>...</td>\n",
       "      <td>...</td>\n",
       "      <td>...</td>\n",
       "      <td>...</td>\n",
       "      <td>...</td>\n",
       "      <td>...</td>\n",
       "      <td>...</td>\n",
       "      <td>...</td>\n",
       "      <td>...</td>\n",
       "      <td>...</td>\n",
       "      <td>...</td>\n",
       "      <td>...</td>\n",
       "      <td>...</td>\n",
       "      <td>...</td>\n",
       "    </tr>\n",
       "    <tr>\n",
       "      <th>12052</th>\n",
       "      <td>app_3057_4113_phnd_pos_0022.wav</td>\n",
       "      <td>86.132812</td>\n",
       "      <td>1605</td>\n",
       "      <td>160.500000</td>\n",
       "      <td>0.549566</td>\n",
       "      <td>0.078633</td>\n",
       "      <td>0.438854</td>\n",
       "      <td>0.078327</td>\n",
       "      <td>0.258500</td>\n",
       "      <td>0.016511</td>\n",
       "      <td>...</td>\n",
       "      <td>-12.779257</td>\n",
       "      <td>67.892044</td>\n",
       "      <td>3.546391</td>\n",
       "      <td>49.891026</td>\n",
       "      <td>-3.597707</td>\n",
       "      <td>70.953079</td>\n",
       "      <td>-2.672421</td>\n",
       "      <td>62.369473</td>\n",
       "      <td>-3.812236</td>\n",
       "      <td>47.410625</td>\n",
       "    </tr>\n",
       "    <tr>\n",
       "      <th>12053</th>\n",
       "      <td>app_3057_4113_phnd_pos_0023.wav</td>\n",
       "      <td>184.570312</td>\n",
       "      <td>3037</td>\n",
       "      <td>168.722222</td>\n",
       "      <td>0.584372</td>\n",
       "      <td>0.074350</td>\n",
       "      <td>0.478900</td>\n",
       "      <td>0.078894</td>\n",
       "      <td>0.258216</td>\n",
       "      <td>0.016658</td>\n",
       "      <td>...</td>\n",
       "      <td>-9.979423</td>\n",
       "      <td>63.430107</td>\n",
       "      <td>3.869859</td>\n",
       "      <td>52.517521</td>\n",
       "      <td>-1.637068</td>\n",
       "      <td>59.811417</td>\n",
       "      <td>-3.041467</td>\n",
       "      <td>55.640205</td>\n",
       "      <td>-5.101839</td>\n",
       "      <td>43.080894</td>\n",
       "    </tr>\n",
       "    <tr>\n",
       "      <th>12054</th>\n",
       "      <td>app_3057_4113_phnd_pos_0024.wav</td>\n",
       "      <td>143.554688</td>\n",
       "      <td>1549</td>\n",
       "      <td>129.083333</td>\n",
       "      <td>0.541845</td>\n",
       "      <td>0.088258</td>\n",
       "      <td>0.441677</td>\n",
       "      <td>0.080670</td>\n",
       "      <td>0.261484</td>\n",
       "      <td>0.014959</td>\n",
       "      <td>...</td>\n",
       "      <td>-11.238145</td>\n",
       "      <td>79.961853</td>\n",
       "      <td>3.689087</td>\n",
       "      <td>68.597672</td>\n",
       "      <td>-1.665412</td>\n",
       "      <td>70.761398</td>\n",
       "      <td>0.218386</td>\n",
       "      <td>86.220604</td>\n",
       "      <td>-4.678007</td>\n",
       "      <td>85.629585</td>\n",
       "    </tr>\n",
       "    <tr>\n",
       "      <th>12055</th>\n",
       "      <td>app_3057_4113_phnd_pos_0025.wav</td>\n",
       "      <td>143.554688</td>\n",
       "      <td>8820</td>\n",
       "      <td>284.516129</td>\n",
       "      <td>0.532886</td>\n",
       "      <td>0.089102</td>\n",
       "      <td>0.469113</td>\n",
       "      <td>0.077342</td>\n",
       "      <td>0.265298</td>\n",
       "      <td>0.012950</td>\n",
       "      <td>...</td>\n",
       "      <td>-10.302938</td>\n",
       "      <td>80.636742</td>\n",
       "      <td>2.619849</td>\n",
       "      <td>63.592182</td>\n",
       "      <td>-0.559597</td>\n",
       "      <td>62.905022</td>\n",
       "      <td>0.256377</td>\n",
       "      <td>56.687534</td>\n",
       "      <td>-3.086725</td>\n",
       "      <td>62.594326</td>\n",
       "    </tr>\n",
       "    <tr>\n",
       "      <th>12056</th>\n",
       "      <td>app_3057_4113_phnd_pos_0026.wav</td>\n",
       "      <td>161.499023</td>\n",
       "      <td>11617</td>\n",
       "      <td>305.710526</td>\n",
       "      <td>0.542927</td>\n",
       "      <td>0.086831</td>\n",
       "      <td>0.453742</td>\n",
       "      <td>0.079466</td>\n",
       "      <td>0.257759</td>\n",
       "      <td>0.016893</td>\n",
       "      <td>...</td>\n",
       "      <td>-10.718580</td>\n",
       "      <td>72.062149</td>\n",
       "      <td>2.075150</td>\n",
       "      <td>64.020851</td>\n",
       "      <td>-2.384962</td>\n",
       "      <td>62.014175</td>\n",
       "      <td>-1.276020</td>\n",
       "      <td>55.155994</td>\n",
       "      <td>-4.978727</td>\n",
       "      <td>51.976971</td>\n",
       "    </tr>\n",
       "  </tbody>\n",
       "</table>\n",
       "<p>12057 rows × 78 columns</p>\n",
       "</div>"
      ],
      "text/plain": [
       "                              filename       tempo  total_beats  \\\n",
       "0      app_3001_4001_phnd_neg_0000.wav  184.570312          623   \n",
       "1      app_3001_4001_phnd_neg_0001.wav  151.999081          521   \n",
       "2      app_3001_4001_phnd_neg_0002.wav  112.347147         1614   \n",
       "3      app_3001_4001_phnd_neg_0003.wav  107.666016         2060   \n",
       "4      app_3001_4001_phnd_neg_0004.wav   75.999540           66   \n",
       "...                                ...         ...          ...   \n",
       "12052  app_3057_4113_phnd_pos_0022.wav   86.132812         1605   \n",
       "12053  app_3057_4113_phnd_pos_0023.wav  184.570312         3037   \n",
       "12054  app_3057_4113_phnd_pos_0024.wav  143.554688         1549   \n",
       "12055  app_3057_4113_phnd_pos_0025.wav  143.554688         8820   \n",
       "12056  app_3057_4113_phnd_pos_0026.wav  161.499023        11617   \n",
       "\n",
       "       average_beats  chroma_stft_mean  chroma_stft_var  chroma_cq_mean  \\\n",
       "0          69.222222          0.515281         0.093347        0.443441   \n",
       "1          74.428571          0.487201         0.094461        0.542182   \n",
       "2         146.727273          0.444244         0.099268        0.442014   \n",
       "3         158.461538          0.454156         0.100834        0.424370   \n",
       "4          33.000000          0.478780         0.100000        0.414859   \n",
       "...              ...               ...              ...             ...   \n",
       "12052     160.500000          0.549566         0.078633        0.438854   \n",
       "12053     168.722222          0.584372         0.074350        0.478900   \n",
       "12054     129.083333          0.541845         0.088258        0.441677   \n",
       "12055     284.516129          0.532886         0.089102        0.469113   \n",
       "12056     305.710526          0.542927         0.086831        0.453742   \n",
       "\n",
       "       chroma_cq_var  chroma_cens_mean  chroma_cens_var  ...  mfcc15_mean  \\\n",
       "0           0.082742          0.249143         0.021261  ...   -10.669799   \n",
       "1           0.073359          0.274423         0.008025  ...    -5.666375   \n",
       "2           0.083224          0.264430         0.013410  ...    -5.502390   \n",
       "3           0.084435          0.257672         0.016938  ...    -8.812989   \n",
       "4           0.089313          0.252143         0.019757  ...    -6.584204   \n",
       "...              ...               ...              ...  ...          ...   \n",
       "12052       0.078327          0.258500         0.016511  ...   -12.779257   \n",
       "12053       0.078894          0.258216         0.016658  ...    -9.979423   \n",
       "12054       0.080670          0.261484         0.014959  ...   -11.238145   \n",
       "12055       0.077342          0.265298         0.012950  ...   -10.302938   \n",
       "12056       0.079466          0.257759         0.016893  ...   -10.718580   \n",
       "\n",
       "       mfcc15_var  mfcc16_mean  mfcc16_var  mfcc17_mean  mfcc17_var  \\\n",
       "0       63.340282     1.811605   58.117188    -3.286546   54.268448   \n",
       "1       90.256195     1.573594  105.070496    -0.742024   82.417496   \n",
       "2       73.079750     0.202623   72.040550    -4.021009   73.844353   \n",
       "3       93.791893    -0.429413   60.002579    -4.013513   82.544540   \n",
       "4       64.973305     0.744403   68.908516    -6.354805   66.414391   \n",
       "...           ...          ...         ...          ...         ...   \n",
       "12052   67.892044     3.546391   49.891026    -3.597707   70.953079   \n",
       "12053   63.430107     3.869859   52.517521    -1.637068   59.811417   \n",
       "12054   79.961853     3.689087   68.597672    -1.665412   70.761398   \n",
       "12055   80.636742     2.619849   63.592182    -0.559597   62.905022   \n",
       "12056   72.062149     2.075150   64.020851    -2.384962   62.014175   \n",
       "\n",
       "       mfcc18_mean  mfcc18_var  mfcc19_mean  mfcc19_var  \n",
       "0        -2.719069   59.548176    -4.559987   70.774803  \n",
       "1        -1.961745  119.312355     1.513660  101.014572  \n",
       "2        -5.916223  103.834824    -2.939086  113.598824  \n",
       "3        -5.858006   84.402092     0.686969   90.126389  \n",
       "4        -6.555534   47.852840    -4.809713   73.033966  \n",
       "...            ...         ...          ...         ...  \n",
       "12052    -2.672421   62.369473    -3.812236   47.410625  \n",
       "12053    -3.041467   55.640205    -5.101839   43.080894  \n",
       "12054     0.218386   86.220604    -4.678007   85.629585  \n",
       "12055     0.256377   56.687534    -3.086725   62.594326  \n",
       "12056    -1.276020   55.155994    -4.978727   51.976971  \n",
       "\n",
       "[12057 rows x 78 columns]"
      ]
     },
     "execution_count": 11,
     "metadata": {},
     "output_type": "execute_result"
    }
   ],
   "source": [
    "# read data\n",
    "df = pd.read_csv('simplified.csv')\n",
    "df"
   ]
  },
  {
   "cell_type": "code",
   "execution_count": 12,
   "metadata": {},
   "outputs": [
    {
     "name": "stdout",
     "output_type": "stream",
     "text": [
      "<class 'pandas.core.frame.DataFrame'>\n",
      "RangeIndex: 12057 entries, 0 to 12056\n",
      "Data columns (total 78 columns):\n",
      " #   Column               Non-Null Count  Dtype  \n",
      "---  ------               --------------  -----  \n",
      " 0   filename             12057 non-null  object \n",
      " 1   tempo                12057 non-null  float64\n",
      " 2   total_beats          12057 non-null  int64  \n",
      " 3   average_beats        12057 non-null  float64\n",
      " 4   chroma_stft_mean     12057 non-null  float64\n",
      " 5   chroma_stft_var      12057 non-null  float64\n",
      " 6   chroma_cq_mean       12057 non-null  float64\n",
      " 7   chroma_cq_var        12057 non-null  float64\n",
      " 8   chroma_cens_mean     12057 non-null  float64\n",
      " 9   chroma_cens_var      12057 non-null  float64\n",
      " 10  melspectrogram_mean  12057 non-null  float64\n",
      " 11  melspectrogram_var   12057 non-null  float64\n",
      " 12  mfcc_mean            12057 non-null  float64\n",
      " 13  mfcc_var             12057 non-null  float64\n",
      " 14  mfcc_delta_mean      12057 non-null  float64\n",
      " 15  mfcc_delta_var       12057 non-null  float64\n",
      " 16  rmse_mean            12057 non-null  float64\n",
      " 17  rmse_var             12057 non-null  float64\n",
      " 18  cent_mean            12057 non-null  float64\n",
      " 19  cent_var             12057 non-null  float64\n",
      " 20  spec_bw_mean         12057 non-null  float64\n",
      " 21  spec_bw_var          12057 non-null  float64\n",
      " 22  contrast_mean        12057 non-null  float64\n",
      " 23  contrast_var         12057 non-null  float64\n",
      " 24  rolloff_mean         12057 non-null  float64\n",
      " 25  rolloff_var          12057 non-null  float64\n",
      " 26  poly_mean            12057 non-null  float64\n",
      " 27  poly_var             12057 non-null  float64\n",
      " 28  tonnetz_mean         12057 non-null  float64\n",
      " 29  tonnetz_var          12057 non-null  float64\n",
      " 30  zcr_mean             12057 non-null  float64\n",
      " 31  zcr_var              12057 non-null  float64\n",
      " 32  harm_mean            12057 non-null  float64\n",
      " 33  harm_var             12057 non-null  float64\n",
      " 34  perc_mean            12057 non-null  float64\n",
      " 35  perc_var             12057 non-null  float64\n",
      " 36  frame_mean           12057 non-null  float64\n",
      " 37  frame_var            12057 non-null  float64\n",
      " 38  mfcc0_mean           12057 non-null  float64\n",
      " 39  mfcc0_var            12057 non-null  float64\n",
      " 40  mfcc1_mean           12057 non-null  float64\n",
      " 41  mfcc1_var            12057 non-null  float64\n",
      " 42  mfcc2_mean           12057 non-null  float64\n",
      " 43  mfcc2_var            12057 non-null  float64\n",
      " 44  mfcc3_mean           12057 non-null  float64\n",
      " 45  mfcc3_var            12057 non-null  float64\n",
      " 46  mfcc4_mean           12057 non-null  float64\n",
      " 47  mfcc4_var            12057 non-null  float64\n",
      " 48  mfcc5_mean           12057 non-null  float64\n",
      " 49  mfcc5_var            12057 non-null  float64\n",
      " 50  mfcc6_mean           12057 non-null  float64\n",
      " 51  mfcc6_var            12057 non-null  float64\n",
      " 52  mfcc7_mean           12057 non-null  float64\n",
      " 53  mfcc7_var            12057 non-null  float64\n",
      " 54  mfcc8_mean           12057 non-null  float64\n",
      " 55  mfcc8_var            12057 non-null  float64\n",
      " 56  mfcc9_mean           12057 non-null  float64\n",
      " 57  mfcc9_var            12057 non-null  float64\n",
      " 58  mfcc10_mean          12057 non-null  float64\n",
      " 59  mfcc10_var           12057 non-null  float64\n",
      " 60  mfcc11_mean          12057 non-null  float64\n",
      " 61  mfcc11_var           12057 non-null  float64\n",
      " 62  mfcc12_mean          12057 non-null  float64\n",
      " 63  mfcc12_var           12057 non-null  float64\n",
      " 64  mfcc13_mean          12057 non-null  float64\n",
      " 65  mfcc13_var           12057 non-null  float64\n",
      " 66  mfcc14_mean          12057 non-null  float64\n",
      " 67  mfcc14_var           12057 non-null  float64\n",
      " 68  mfcc15_mean          12057 non-null  float64\n",
      " 69  mfcc15_var           12057 non-null  float64\n",
      " 70  mfcc16_mean          12057 non-null  float64\n",
      " 71  mfcc16_var           12057 non-null  float64\n",
      " 72  mfcc17_mean          12057 non-null  float64\n",
      " 73  mfcc17_var           12057 non-null  float64\n",
      " 74  mfcc18_mean          12057 non-null  float64\n",
      " 75  mfcc18_var           12057 non-null  float64\n",
      " 76  mfcc19_mean          12057 non-null  float64\n",
      " 77  mfcc19_var           12057 non-null  float64\n",
      "dtypes: float64(76), int64(1), object(1)\n",
      "memory usage: 7.2+ MB\n"
     ]
    }
   ],
   "source": [
    "df.info()"
   ]
  },
  {
   "cell_type": "code",
   "execution_count": 9,
   "metadata": {},
   "outputs": [
    {
     "name": "stdout",
     "output_type": "stream",
     "text": [
      "(8439, 77) (8439,)\n",
      "(3618, 77) (3618,)\n"
     ]
    }
   ],
   "source": [
    "print(X_train_scaled.shape, y_train.shape)\n",
    "print(X_test_scaled.shape, y_test.shape)"
   ]
  },
  {
   "cell_type": "code",
   "execution_count": 10,
   "metadata": {},
   "outputs": [
    {
     "data": {
      "text/plain": [
       "label\n",
       "1    6202\n",
       "0    5855\n",
       "Name: count, dtype: int64"
      ]
     },
     "execution_count": 10,
     "metadata": {},
     "output_type": "execute_result"
    }
   ],
   "source": [
    "df['label'].value_counts()"
   ]
  },
  {
   "cell_type": "markdown",
   "metadata": {},
   "source": [
    "#### Use the training dataset to train the model for 100 epochs. Use a mini-batch gradient descent with **‘Adam’** optimizer with learning rate of **0.001**, and **batch size = 128**. Implement early stopping with patience of **3**."
   ]
  },
  {
   "cell_type": "markdown",
   "metadata": {},
   "source": [
    "3.Define a Pytorch Dataset and Dataloaders.  "
   ]
  },
  {
   "cell_type": "code",
   "execution_count": 15,
   "metadata": {},
   "outputs": [],
   "source": [
    "class CustomDataset(Dataset):\n",
    "    # YOUR CODE HERE\n",
    "    def __init__(self, X, y):\n",
    "        self.X = torch.tensor(X, dtype=torch.float)\n",
    "        self.y =torch.tensor(y, dtype=torch.float).unsqueeze(1)\n",
    "    def __len__(self):\n",
    "        return len(self.y)\n",
    "\n",
    "    def __getitem__(self,idx):\n",
    "        return self.X[idx], self.y[idx]\n",
    "\n",
    "def intialise_loaders(X_train_scaled, y_train, X_test_scaled, y_test):\n",
    "    # YOUR CODE HERE\n",
    "    train_dataset = CustomDataset(X_train_scaled, y_train)\n",
    "    test_dataset = CustomDataset(X_test_scaled, y_test)\n",
    "    \n",
    "    # Creating Dataloader\n",
    "    train_dataloader = DataLoader(train_dataset, batch_size=256, shuffle=True)\n",
    "    test_dataloader = DataLoader(test_dataset, batch_size=256, shuffle=False)\n",
    "                              \n",
    "    return train_dataloader, test_dataloader\n",
    "\n",
    "train_dataloader, test_dataloader = intialise_loaders(X_train_scaled, y_train, X_test_scaled, y_test)"
   ]
  },
  {
   "cell_type": "code",
   "execution_count": null,
   "metadata": {},
   "outputs": [],
   "source": []
  },
  {
   "cell_type": "code",
   "execution_count": null,
   "metadata": {},
   "outputs": [],
   "source": []
  },
  {
   "cell_type": "code",
   "execution_count": null,
   "metadata": {},
   "outputs": [],
   "source": []
  },
  {
   "cell_type": "code",
   "execution_count": null,
   "metadata": {},
   "outputs": [],
   "source": []
  },
  {
   "cell_type": "markdown",
   "metadata": {},
   "source": [
    "4.Next, define the model, optimizer and loss function."
   ]
  },
  {
   "cell_type": "code",
   "execution_count": 17,
   "metadata": {},
   "outputs": [],
   "source": [
    "# YOUR CODE HERE\n",
    "no_features = X_train_scaled.shape[1]\n",
    "no_hidden = 128 #number of layers for the first hidden layer\n",
    "no_labels = 1\n",
    "learning_rate = 0.001\n",
    "\n",
    "model = MLP(no_features, no_hidden, no_labels)\n",
    "optimizer = torch.optim.Adam(model.parameters(), lr=learning_rate)\n",
    "loss_fn = nn.BCELoss()"
   ]
  },
  {
   "cell_type": "code",
   "execution_count": null,
   "metadata": {},
   "outputs": [],
   "source": []
  },
  {
   "cell_type": "code",
   "execution_count": null,
   "metadata": {},
   "outputs": [],
   "source": []
  },
  {
   "cell_type": "code",
   "execution_count": null,
   "metadata": {},
   "outputs": [],
   "source": []
  },
  {
   "cell_type": "markdown",
   "metadata": {},
   "source": [
    "5.Train model for 100 epochs. Record down train and test accuracies. Implement early stopping."
   ]
  },
  {
   "cell_type": "code",
   "execution_count": 59,
   "metadata": {},
   "outputs": [
    {
     "name": "stdout",
     "output_type": "stream",
     "text": [
      "Training Started...\n"
     ]
    },
    {
     "name": "stderr",
     "output_type": "stream",
     "text": [
      "\r",
      "  0%|                                                                                          | 0/100 [00:00<?, ?it/s]"
     ]
    },
    {
     "name": "stdout",
     "output_type": "stream",
     "text": [
      "\n"
     ]
    },
    {
     "name": "stderr",
     "output_type": "stream",
     "text": [
      "\r",
      "  1%|▊                                                                                 | 1/100 [00:00<00:31,  3.15it/s]"
     ]
    },
    {
     "name": "stdout",
     "output_type": "stream",
     "text": [
      "Epoch  1, Train Loss: 0.1621, Train Accuracy: 0.9376, Test Loss: 0.0028, Test Accuracy: 0.7601\n"
     ]
    },
    {
     "name": "stderr",
     "output_type": "stream",
     "text": [
      "\r",
      "  2%|█▋                                                                                | 2/100 [00:00<00:30,  3.26it/s]"
     ]
    },
    {
     "name": "stdout",
     "output_type": "stream",
     "text": [
      "Epoch  2, Train Loss: 0.1651, Train Accuracy: 0.9344, Test Loss: 0.0029, Test Accuracy: 0.7673\n"
     ]
    },
    {
     "name": "stderr",
     "output_type": "stream",
     "text": [
      "\r",
      "  3%|██▍                                                                               | 3/100 [00:00<00:28,  3.35it/s]"
     ]
    },
    {
     "name": "stdout",
     "output_type": "stream",
     "text": [
      "Epoch  3, Train Loss: 0.1632, Train Accuracy: 0.9373, Test Loss: 0.0029, Test Accuracy: 0.7557\n"
     ]
    },
    {
     "name": "stderr",
     "output_type": "stream",
     "text": [
      "\r",
      "  4%|███▎                                                                              | 4/100 [00:01<00:30,  3.17it/s]"
     ]
    },
    {
     "name": "stdout",
     "output_type": "stream",
     "text": [
      "Epoch  4, Train Loss: 0.1713, Train Accuracy: 0.9340, Test Loss: 0.0030, Test Accuracy: 0.7465\n"
     ]
    },
    {
     "name": "stderr",
     "output_type": "stream",
     "text": [
      "\r",
      "  5%|████                                                                              | 5/100 [00:01<00:31,  3.00it/s]"
     ]
    },
    {
     "name": "stdout",
     "output_type": "stream",
     "text": [
      "Epoch  5, Train Loss: 0.3323, Train Accuracy: 0.8665, Test Loss: 0.0024, Test Accuracy: 0.7568\n"
     ]
    },
    {
     "name": "stderr",
     "output_type": "stream",
     "text": [
      "\r",
      "  6%|████▉                                                                             | 6/100 [00:01<00:30,  3.09it/s]"
     ]
    },
    {
     "name": "stdout",
     "output_type": "stream",
     "text": [
      "Epoch  6, Train Loss: 0.3087, Train Accuracy: 0.8742, Test Loss: 0.0023, Test Accuracy: 0.7565\n"
     ]
    },
    {
     "name": "stderr",
     "output_type": "stream",
     "text": [
      "\r",
      "  7%|█████▋                                                                            | 7/100 [00:02<00:30,  3.06it/s]"
     ]
    },
    {
     "name": "stdout",
     "output_type": "stream",
     "text": [
      "Epoch  7, Train Loss: 0.3189, Train Accuracy: 0.8601, Test Loss: 0.0023, Test Accuracy: 0.7637\n"
     ]
    },
    {
     "name": "stderr",
     "output_type": "stream",
     "text": [
      "\r",
      "  8%|██████▌                                                                           | 8/100 [00:02<00:30,  3.06it/s]"
     ]
    },
    {
     "name": "stdout",
     "output_type": "stream",
     "text": [
      "Epoch  8, Train Loss: 0.2940, Train Accuracy: 0.8747, Test Loss: 0.0023, Test Accuracy: 0.7565\n"
     ]
    },
    {
     "name": "stderr",
     "output_type": "stream",
     "text": [
      "\r",
      "  9%|███████▍                                                                          | 9/100 [00:02<00:28,  3.14it/s]"
     ]
    },
    {
     "name": "stdout",
     "output_type": "stream",
     "text": [
      "Epoch  9, Train Loss: 0.2894, Train Accuracy: 0.8769, Test Loss: 0.0023, Test Accuracy: 0.7595\n"
     ]
    },
    {
     "name": "stderr",
     "output_type": "stream",
     "text": [
      "\r",
      " 10%|████████                                                                         | 10/100 [00:03<00:28,  3.16it/s]"
     ]
    },
    {
     "name": "stdout",
     "output_type": "stream",
     "text": [
      "Epoch 10, Train Loss: 0.2867, Train Accuracy: 0.8766, Test Loss: 0.0022, Test Accuracy: 0.7645\n"
     ]
    },
    {
     "name": "stderr",
     "output_type": "stream",
     "text": [
      "\r",
      " 11%|████████▉                                                                        | 11/100 [00:03<00:28,  3.14it/s]"
     ]
    },
    {
     "name": "stdout",
     "output_type": "stream",
     "text": [
      "Epoch 11, Train Loss: 0.2825, Train Accuracy: 0.8789, Test Loss: 0.0022, Test Accuracy: 0.7609\n"
     ]
    },
    {
     "name": "stderr",
     "output_type": "stream",
     "text": [
      "\r",
      " 12%|█████████▋                                                                       | 12/100 [00:03<00:27,  3.22it/s]"
     ]
    },
    {
     "name": "stdout",
     "output_type": "stream",
     "text": [
      "Epoch 12, Train Loss: 0.2834, Train Accuracy: 0.8798, Test Loss: 0.0022, Test Accuracy: 0.7606\n"
     ]
    },
    {
     "name": "stderr",
     "output_type": "stream",
     "text": [
      "\r",
      " 13%|██████████▌                                                                      | 13/100 [00:04<00:26,  3.25it/s]"
     ]
    },
    {
     "name": "stdout",
     "output_type": "stream",
     "text": [
      "Epoch 13, Train Loss: 0.2652, Train Accuracy: 0.8867, Test Loss: 0.0022, Test Accuracy: 0.7670\n"
     ]
    },
    {
     "name": "stderr",
     "output_type": "stream",
     "text": [
      "\r",
      " 14%|███████████▎                                                                     | 14/100 [00:04<00:26,  3.25it/s]"
     ]
    },
    {
     "name": "stdout",
     "output_type": "stream",
     "text": [
      "Epoch 14, Train Loss: 0.2640, Train Accuracy: 0.8855, Test Loss: 0.0023, Test Accuracy: 0.7634\n"
     ]
    },
    {
     "name": "stderr",
     "output_type": "stream",
     "text": [
      "\r",
      " 15%|████████████▏                                                                    | 15/100 [00:04<00:27,  3.12it/s]"
     ]
    },
    {
     "name": "stdout",
     "output_type": "stream",
     "text": [
      "Epoch 15, Train Loss: 0.2669, Train Accuracy: 0.8897, Test Loss: 0.0023, Test Accuracy: 0.7739\n"
     ]
    },
    {
     "name": "stderr",
     "output_type": "stream",
     "text": [
      "\r",
      " 16%|████████████▉                                                                    | 16/100 [00:05<00:26,  3.14it/s]"
     ]
    },
    {
     "name": "stdout",
     "output_type": "stream",
     "text": [
      "Epoch 16, Train Loss: 0.2668, Train Accuracy: 0.8892, Test Loss: 0.0023, Test Accuracy: 0.7651\n"
     ]
    },
    {
     "name": "stderr",
     "output_type": "stream",
     "text": [
      "\r",
      " 17%|█████████████▊                                                                   | 17/100 [00:05<00:30,  2.68it/s]"
     ]
    },
    {
     "name": "stdout",
     "output_type": "stream",
     "text": [
      "Epoch 17, Train Loss: 0.2584, Train Accuracy: 0.8906, Test Loss: 0.0023, Test Accuracy: 0.7612\n"
     ]
    },
    {
     "name": "stderr",
     "output_type": "stream",
     "text": [
      "\r",
      " 18%|██████████████▌                                                                  | 18/100 [00:05<00:29,  2.78it/s]"
     ]
    },
    {
     "name": "stdout",
     "output_type": "stream",
     "text": [
      "Epoch 18, Train Loss: 0.2573, Train Accuracy: 0.8922, Test Loss: 0.0023, Test Accuracy: 0.7728\n"
     ]
    },
    {
     "name": "stderr",
     "output_type": "stream",
     "text": [
      "\r",
      " 19%|███████████████▍                                                                 | 19/100 [00:06<00:28,  2.88it/s]"
     ]
    },
    {
     "name": "stdout",
     "output_type": "stream",
     "text": [
      "Epoch 19, Train Loss: 0.2511, Train Accuracy: 0.8949, Test Loss: 0.0023, Test Accuracy: 0.7673\n"
     ]
    },
    {
     "name": "stderr",
     "output_type": "stream",
     "text": [
      "\r",
      " 20%|████████████████▏                                                                | 20/100 [00:06<00:27,  2.94it/s]"
     ]
    },
    {
     "name": "stdout",
     "output_type": "stream",
     "text": [
      "Epoch 20, Train Loss: 0.2433, Train Accuracy: 0.9006, Test Loss: 0.0023, Test Accuracy: 0.7706\n"
     ]
    },
    {
     "name": "stderr",
     "output_type": "stream",
     "text": [
      "\r",
      " 21%|█████████████████                                                                | 21/100 [00:06<00:27,  2.93it/s]"
     ]
    },
    {
     "name": "stdout",
     "output_type": "stream",
     "text": [
      "Epoch 21, Train Loss: 0.2508, Train Accuracy: 0.8958, Test Loss: 0.0023, Test Accuracy: 0.7731\n"
     ]
    },
    {
     "name": "stderr",
     "output_type": "stream",
     "text": [
      "\r",
      " 22%|█████████████████▊                                                               | 22/100 [00:07<00:26,  2.97it/s]"
     ]
    },
    {
     "name": "stdout",
     "output_type": "stream",
     "text": [
      "Epoch 22, Train Loss: 0.2408, Train Accuracy: 0.9005, Test Loss: 0.0024, Test Accuracy: 0.7659\n"
     ]
    },
    {
     "name": "stderr",
     "output_type": "stream",
     "text": [
      "\r",
      " 23%|██████████████████▋                                                              | 23/100 [00:07<00:25,  3.05it/s]"
     ]
    },
    {
     "name": "stdout",
     "output_type": "stream",
     "text": [
      "Epoch 23, Train Loss: 0.2434, Train Accuracy: 0.9008, Test Loss: 0.0023, Test Accuracy: 0.7717\n"
     ]
    },
    {
     "name": "stderr",
     "output_type": "stream",
     "text": [
      "\r",
      " 24%|███████████████████▍                                                             | 24/100 [00:07<00:25,  3.00it/s]"
     ]
    },
    {
     "name": "stdout",
     "output_type": "stream",
     "text": [
      "Epoch 24, Train Loss: 0.2412, Train Accuracy: 0.9000, Test Loss: 0.0023, Test Accuracy: 0.7653\n"
     ]
    },
    {
     "name": "stderr",
     "output_type": "stream",
     "text": [
      "\r",
      " 25%|████████████████████▎                                                            | 25/100 [00:08<00:24,  3.06it/s]"
     ]
    },
    {
     "name": "stdout",
     "output_type": "stream",
     "text": [
      "Epoch 25, Train Loss: 0.2567, Train Accuracy: 0.8960, Test Loss: 0.0022, Test Accuracy: 0.7739\n"
     ]
    },
    {
     "name": "stderr",
     "output_type": "stream",
     "text": [
      "\r",
      " 26%|█████████████████████                                                            | 26/100 [00:08<00:23,  3.11it/s]"
     ]
    },
    {
     "name": "stdout",
     "output_type": "stream",
     "text": [
      "Epoch 26, Train Loss: 0.2423, Train Accuracy: 0.8982, Test Loss: 0.0023, Test Accuracy: 0.7725\n"
     ]
    },
    {
     "name": "stderr",
     "output_type": "stream",
     "text": [
      "\r",
      " 27%|█████████████████████▊                                                           | 27/100 [00:08<00:23,  3.06it/s]"
     ]
    },
    {
     "name": "stdout",
     "output_type": "stream",
     "text": [
      "Epoch 27, Train Loss: 0.2494, Train Accuracy: 0.8929, Test Loss: 0.0023, Test Accuracy: 0.7684\n"
     ]
    },
    {
     "name": "stderr",
     "output_type": "stream",
     "text": [
      "\r",
      " 28%|██████████████████████▋                                                          | 28/100 [00:09<00:23,  3.00it/s]"
     ]
    },
    {
     "name": "stdout",
     "output_type": "stream",
     "text": [
      "Epoch 28, Train Loss: 0.2374, Train Accuracy: 0.9030, Test Loss: 0.0023, Test Accuracy: 0.7612\n"
     ]
    },
    {
     "name": "stderr",
     "output_type": "stream",
     "text": [
      "\r",
      " 29%|███████████████████████▍                                                         | 29/100 [00:09<00:23,  2.99it/s]"
     ]
    },
    {
     "name": "stdout",
     "output_type": "stream",
     "text": [
      "Epoch 29, Train Loss: 0.2339, Train Accuracy: 0.9022, Test Loss: 0.0023, Test Accuracy: 0.7747\n"
     ]
    },
    {
     "name": "stderr",
     "output_type": "stream",
     "text": [
      "\r",
      " 30%|████████████████████████▎                                                        | 30/100 [00:09<00:23,  2.99it/s]"
     ]
    },
    {
     "name": "stdout",
     "output_type": "stream",
     "text": [
      "Epoch 30, Train Loss: 0.2356, Train Accuracy: 0.9025, Test Loss: 0.0023, Test Accuracy: 0.7750\n"
     ]
    },
    {
     "name": "stderr",
     "output_type": "stream",
     "text": [
      "\r",
      " 31%|█████████████████████████                                                        | 31/100 [00:10<00:23,  2.90it/s]"
     ]
    },
    {
     "name": "stdout",
     "output_type": "stream",
     "text": [
      "Epoch 31, Train Loss: 0.2424, Train Accuracy: 0.8961, Test Loss: 0.0023, Test Accuracy: 0.7750\n"
     ]
    },
    {
     "name": "stderr",
     "output_type": "stream",
     "text": [
      "\r",
      " 32%|█████████████████████████▉                                                       | 32/100 [00:10<00:23,  2.93it/s]"
     ]
    },
    {
     "name": "stdout",
     "output_type": "stream",
     "text": [
      "Epoch 32, Train Loss: 0.2467, Train Accuracy: 0.8964, Test Loss: 0.0023, Test Accuracy: 0.7742\n"
     ]
    },
    {
     "name": "stderr",
     "output_type": "stream",
     "text": [
      "\r",
      " 33%|██████████████████████████▋                                                      | 33/100 [00:10<00:22,  2.99it/s]"
     ]
    },
    {
     "name": "stdout",
     "output_type": "stream",
     "text": [
      "Epoch 33, Train Loss: 0.2420, Train Accuracy: 0.8998, Test Loss: 0.0023, Test Accuracy: 0.7714\n"
     ]
    },
    {
     "name": "stderr",
     "output_type": "stream",
     "text": [
      "\r",
      " 34%|███████████████████████████▌                                                     | 34/100 [00:11<00:23,  2.84it/s]"
     ]
    },
    {
     "name": "stdout",
     "output_type": "stream",
     "text": [
      "Epoch 34, Train Loss: 0.2334, Train Accuracy: 0.9064, Test Loss: 0.0023, Test Accuracy: 0.7709\n"
     ]
    },
    {
     "name": "stderr",
     "output_type": "stream",
     "text": [
      "\r",
      " 35%|████████████████████████████▎                                                    | 35/100 [00:11<00:22,  2.88it/s]"
     ]
    },
    {
     "name": "stdout",
     "output_type": "stream",
     "text": [
      "Epoch 35, Train Loss: 0.2252, Train Accuracy: 0.9069, Test Loss: 0.0023, Test Accuracy: 0.7769\n"
     ]
    },
    {
     "name": "stderr",
     "output_type": "stream",
     "text": [
      "\r",
      " 36%|█████████████████████████████▏                                                   | 36/100 [00:11<00:21,  2.93it/s]"
     ]
    },
    {
     "name": "stdout",
     "output_type": "stream",
     "text": [
      "Epoch 36, Train Loss: 0.2306, Train Accuracy: 0.9034, Test Loss: 0.0024, Test Accuracy: 0.7698\n"
     ]
    },
    {
     "name": "stderr",
     "output_type": "stream",
     "text": [
      "\r",
      " 37%|█████████████████████████████▉                                                   | 37/100 [00:12<00:21,  2.93it/s]"
     ]
    },
    {
     "name": "stdout",
     "output_type": "stream",
     "text": [
      "Epoch 37, Train Loss: 0.2330, Train Accuracy: 0.9041, Test Loss: 0.0023, Test Accuracy: 0.7678\n"
     ]
    },
    {
     "name": "stderr",
     "output_type": "stream",
     "text": [
      "\r",
      " 38%|██████████████████████████████▊                                                  | 38/100 [00:12<00:21,  2.95it/s]"
     ]
    },
    {
     "name": "stdout",
     "output_type": "stream",
     "text": [
      "Epoch 38, Train Loss: 0.2317, Train Accuracy: 0.9038, Test Loss: 0.0023, Test Accuracy: 0.7731\n"
     ]
    },
    {
     "name": "stderr",
     "output_type": "stream",
     "text": [
      "\r",
      " 39%|███████████████████████████████▌                                                 | 39/100 [00:12<00:20,  2.97it/s]"
     ]
    },
    {
     "name": "stdout",
     "output_type": "stream",
     "text": [
      "Epoch 39, Train Loss: 0.2184, Train Accuracy: 0.9115, Test Loss: 0.0023, Test Accuracy: 0.7775\n"
     ]
    },
    {
     "name": "stderr",
     "output_type": "stream",
     "text": [
      "\r",
      " 39%|███████████████████████████████▌                                                 | 39/100 [00:13<00:20,  2.93it/s]"
     ]
    },
    {
     "name": "stdout",
     "output_type": "stream",
     "text": [
      "Epoch 40, Train Loss: 0.2179, Train Accuracy: 0.9108, Test Loss: 0.0023, Test Accuracy: 0.7753\n",
      "Early stopping on epoch 40\n",
      "Epoch 40, Train Loss: 0.2179, Train Accuracy: 0.9108, Test Loss: 0.0023, Test Accuracy: 0.7753\n",
      "\n",
      "Done!\n"
     ]
    },
    {
     "name": "stderr",
     "output_type": "stream",
     "text": [
      "\n"
     ]
    }
   ],
   "source": [
    "# YOUR CODE HERE\n",
    "\n",
    "from common_utils import EarlyStopper\n",
    "from tqdm import tqdm\n",
    "\n",
    "# Function to run the training loop for each epoch\n",
    "def train_loop(train_dataloader, model, loss_fn, optimizer):\n",
    "    model.train()\n",
    "    total_loss = 0.0\n",
    "    correct_predictions = 0\n",
    "    total_samples = 0\n",
    "\n",
    "    for X, y in train_dataloader:\n",
    "        optimizer.zero_grad()\n",
    "        pred = model(X).squeeze()  # Predict with the model and squeeze to remove dimension of size 1\n",
    "        \n",
    "        # Adjust the shape of target tensor\n",
    "        y = y.float().squeeze(dim=1)  # Assuming y has shape (batch_size, 1)\n",
    "        \n",
    "        loss = loss_fn(pred, y)  # Compute the loss between prediction and true label\n",
    "        loss.backward()\n",
    "        optimizer.step()\n",
    "        \n",
    "        total_loss += loss.item() * X.size(0)\n",
    "        correct_predictions += torch.sum((pred > 0.5) == y).item()\n",
    "        total_samples += X.size(0)\n",
    "\n",
    "    # Calculate average loss and accuracy\n",
    "    avg_loss = total_loss / total_samples\n",
    "    accuracy = correct_predictions / total_samples\n",
    "\n",
    "    return avg_loss, accuracy\n",
    "\n",
    "# Function to run the test loop for each epoch\n",
    "def test_loop(test_dataloader, model, loss_fn):\n",
    "    model.eval()  # Set the model to evaluation mode\n",
    "    test_loss = 0.0\n",
    "    correct_predictions = 0\n",
    "    total_samples = 0\n",
    "\n",
    "    for X, y in test_dataloader:  # Iterate over batches of data in the test dataloader\n",
    "        pred = model(X).squeeze()  # Predict with the model and squeeze to remove dimension of size 1\n",
    "        \n",
    "        # Adjust the shape of target tensor\n",
    "        y = y.float().squeeze(dim=1)  # Assuming y has shape (batch_size, 1)\n",
    "        \n",
    "        # Calculate the loss\n",
    "        test_loss += loss_fn(pred, y).item()  # Accumulate the loss\n",
    "        \n",
    "        # Calculate the number of correct predictions for the current batch\n",
    "        predicted = (pred > 0.5).long()  # Threshold the prediction for binary classification\n",
    "        correct_predictions += (predicted == y).sum().item()  # Count the number of correct predictions\n",
    "        \n",
    "        total_samples += X.size(0)  # Increment the total number of samples\n",
    "\n",
    "    # Calculate average loss and accuracy\n",
    "    avg_loss = test_loss / total_samples\n",
    "    accuracy = correct_predictions / total_samples\n",
    "\n",
    "    return avg_loss, accuracy\n",
    "\n",
    "SEED = 0\n",
    "set_seed(SEED)\n",
    "\n",
    "train_loss_, test_loss_ = [], []\n",
    "train_acc_, test_acc_ = [], []\n",
    "best_test_accuracy = 0\n",
    "num_epochs = 100\n",
    "\n",
    "# Instantiate the EarlyStopper class\n",
    "early_stopper = EarlyStopper(patience=30, min_delta=0)\n",
    "\n",
    "print(\"Training Started...\", flush=True)\n",
    "print()\n",
    "\n",
    "# Start training for 100 epochs\n",
    "for epoch in tqdm(range(num_epochs)):\n",
    "    train_loss, train_accuracy = train_loop(train_dataloader, model, loss_fn, optimizer)\n",
    "    test_loss, test_accuracy = test_loop(test_dataloader, model, loss_fn)\n",
    "    \n",
    "    # Store results for later plotting\n",
    "    train_loss_.append(train_loss)\n",
    "    test_loss_.append(test_loss)\n",
    "    train_acc_.append(train_accuracy)\n",
    "    test_acc_.append(test_accuracy)\n",
    "\n",
    "    print(f\"Epoch {epoch+1:>2}, Train Loss: {train_loss:.4f}, Train Accuracy: {train_accuracy:.4f}, Test Loss: {test_loss:.4f}, Test Accuracy: {test_accuracy:.4f}\")\n",
    "\n",
    "    # Check for early stopping\n",
    "    if early_stopper.early_stop(test_loss):\n",
    "        print(f\"Early stopping on epoch {epoch+1}\")\n",
    "        print(f\"Epoch {epoch+1:>2}, Train Loss: {train_loss:.4f}, Train Accuracy: {train_accuracy:.4f}, Test Loss: {test_loss:.4f}, Test Accuracy: {test_accuracy:.4f}\")\n",
    "        break\n",
    "\n",
    "print()\n",
    "print(\"Done!\")"
   ]
  },
  {
   "cell_type": "markdown",
   "metadata": {},
   "source": [
    "#### Plot train and test accuracies and losses on training and test data against training epochs and comment on the line plots.\n"
   ]
  },
  {
   "cell_type": "code",
   "execution_count": 53,
   "metadata": {},
   "outputs": [
    {
     "name": "stdout",
     "output_type": "stream",
     "text": [
      "Length of train_loss_: 4\n",
      "Length of test_loss_: 4\n"
     ]
    },
    {
     "data": {
      "text/plain": [
       "4"
      ]
     },
     "execution_count": 53,
     "metadata": {},
     "output_type": "execute_result"
    }
   ],
   "source": [
    "# Check the lengths of train_loss_ and test_loss_ before plotting\n",
    "print(f\"Length of train_loss_: {len(train_loss_)}\")\n",
    "print(f\"Length of test_loss_: {len(test_loss_)}\")\n",
    "\n",
    "epochs = 1+epoch\n",
    "epochs"
   ]
  },
  {
   "cell_type": "code",
   "execution_count": 60,
   "metadata": {},
   "outputs": [
    {
     "data": {
      "image/png": "[encoded data removed]",
      "text/plain": [
       "<Figure size 640x480 with 1 Axes>"
      ]
     },
     "metadata": {},
     "output_type": "display_data"
    },
    {
     "data": {
      "image/png": "[encoded data removed]",
      "text/plain": [
       "<Figure size 640x480 with 1 Axes>"
      ]
     },
     "metadata": {},
     "output_type": "display_data"
    }
   ],
   "source": [
    "no_epochs = len(train_loss_) \n",
    "\n",
    "# Plotting the losses\n",
    "plt.figure(1)\n",
    "plt.plot(range(no_epochs), train_loss_, label='train loss')\n",
    "plt.plot(range(no_epochs), test_loss_, label='test loss')\n",
    "plt.title('Training and Test Loss')\n",
    "plt.xlabel('epochs')\n",
    "plt.ylabel('cross entropy loss')\n",
    "plt.legend()\n",
    "\n",
    "# Plotting the accuracies\n",
    "plt.figure(2)\n",
    "plt.plot(range(no_epochs), train_acc_, label='train accuracy')\n",
    "plt.plot(range(no_epochs), test_acc_, label='test accuracy')\n",
    "plt.title('Training and Test Accuracy')\n",
    "plt.xlabel('epochs')\n",
    "plt.ylabel('accuracy')\n",
    "plt.legend()\n",
    "\n",
    "plt.show()"
   ]
  },
  {
   "cell_type": "markdown",
   "metadata": {},
   "source": [
    "6.Comment on line plots."
   ]
  },
  {
   "cell_type": "code",
   "execution_count": 1,
   "metadata": {},
   "outputs": [
    {
     "name": "stdout",
     "output_type": "stream",
     "text": [
      "\n",
      "\n",
      "Epochs: 40\n",
      "Best Test Accuracy: 77.75% achieved at epoch 39\n",
      "Final Test Accuracy: 77.53% at epoch 40\n",
      "Training Loss: Generally decreasing throughout the epochs, indicating learning.\n",
      "Test Loss: Relatively stable, showing that the model is not overfitting.\n",
      "\n",
      "• Training Metrics: The training loss consistently decreased across epochs 5 to 40, starting from 0.3323 to 0.2184, and the training accuracy increased from 86.65% to 91.08%. This indicates that \n",
      "the model is effectively learning and adjusting its weights based on the training data. This consistent improvement in training metrics is expected as the model becomes better at fitting the \n",
      "training data over successive epochs.\n",
      "\n",
      "• Testing Metrics & Early Stopping: The testing accuracy increased from 75.68% to a peak of 77.53%. However, the testing loss decreased initially but then started to increase, which might \n",
      "suggest the beginning of overfitting. This is also supported by the observation that the training accuracy was continuously rising, but the test accuracy started to plateau. \n",
      "The early stopping mechanism proved beneficial by terminating the training process at epoch 40, before the model could overfit further. \n",
      "\n",
      "• General Observation: The divergence between training and testing metrics is indicative of a generalization gap. While the training metrics suggest the model is performing better with each \n",
      "epoch, the testing metrics show a different story. This disparity can be due to the model starting to memorize the training data and becoming less effective at generalizing to unseen data. \n",
      "\n",
      "• Potential Recommendations: The early stopping worked as intended, but if overfitting continues to be an issue, techniques like weight decay using L1 or L2 regularization\n",
      "might be beneficial. Additionally, gathering more diverse training data, if possible, or employing data augmentation techniques might help in improving the model's generalization capabilities. \n",
      "\n",
      "In summary, the model has shown decent learning capabilities. However, there is room for improvement, especially in bridging the gap between training and testing performances.\n",
      "\n"
     ]
    }
   ],
   "source": [
    "# YOUR CODE HERE\n",
    "answer = '''\n",
    "\n",
    "Epochs: 40\n",
    "Best Test Accuracy: 77.75% achieved at epoch 39\n",
    "Final Test Accuracy: 77.53% at epoch 40\n",
    "Training Loss: Generally decreasing throughout the epochs, indicating learning.\n",
    "Test Loss: Relatively stable, showing that the model is not overfitting.\n",
    "\n",
    "• Training Metrics: The training loss consistently decreased across epochs 5 to 40, starting from 0.3323 to 0.2184, and the training accuracy increased from 86.65% to 91.08%. This indicates that \n",
    "the model is effectively learning and adjusting its weights based on the training data. This consistent improvement in training metrics is expected as the model becomes better at fitting the \n",
    "training data over successive epochs.\n",
    "\n",
    "• Testing Metrics & Early Stopping: The testing accuracy increased from 75.68% to a peak of 77.53%. However, the testing loss decreased initially but then started to increase, which might \n",
    "suggest the beginning of overfitting. This is also supported by the observation that the training accuracy was continuously rising, but the test accuracy started to plateau. \n",
    "The early stopping mechanism proved beneficial by terminating the training process at epoch 40, before the model could overfit further. \n",
    "\n",
    "• General Observation: The divergence between training and testing metrics is indicative of a generalization gap. While the training metrics suggest the model is performing better with each \n",
    "epoch, the testing metrics show a different story. This disparity can be due to the model starting to memorize the training data and becoming less effective at generalizing to unseen data. \n",
    "\n",
    "• Potential Recommendations: The early stopping worked as intended, but if overfitting continues to be an issue, techniques like weight decay using L1 or L2 regularization\n",
    "might be beneficial. Additionally, gathering more diverse training data, if possible, or employing data augmentation techniques might help in improving the model's generalization capabilities. \n",
    "\n",
    "In summary, the model has shown decent learning capabilities. However, there is room for improvement, especially in bridging the gap between training and testing performances.\n",
    "'''\n",
    "print(answer)"
   ]
  },
  {
   "cell_type": "code",
   "execution_count": null,
   "metadata": {},
   "outputs": [],
   "source": []
  }
 ],
 "metadata": {
  "kernelspec": {
   "display_name": "Python 3 (ipykernel)",
   "language": "python",
   "name": "python3"
  },
  "language_info": {
   "codemirror_mode": {
    "name": "ipython",
    "version": 3
   },
   "file_extension": ".py",
   "mimetype": "text/x-python",
   "name": "python",
   "nbconvert_exporter": "python",
   "pygments_lexer": "ipython3",
   "version": "3.9.18"
  }
 },
 "nbformat": 4,
 "nbformat_minor": 4
}
