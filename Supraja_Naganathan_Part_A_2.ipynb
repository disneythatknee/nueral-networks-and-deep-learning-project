{
 "cells": [
  {
   "cell_type": "markdown",
   "metadata": {},
   "source": [
    "# Question A2 (10 marks)"
   ]
  },
  {
   "cell_type": "markdown",
   "metadata": {},
   "source": [
    "### In this question, we will determine the optimal batch size for mini-batch gradient descent. Find the optimal batch size for mini-batch gradient descent by training the neural network and evaluating the performances for different batch sizes. Note: Use 5-fold cross-validation on training partition to perform hyperparameter selection. You will have to reconsider the scaling of the dataset during the 5-fold cross validation.\n"
   ]
  },
  {
   "cell_type": "markdown",
   "metadata": {},
   "source": [
    "#### Plot mean cross-validation accuracies on the final epoch for different batch sizes as a scatter plot. Limit search space to batch sizes {64, 128, 256, 512, 1024}. Next, create a table of time taken to train the network on the last epoch against different batch sizes. Finally, select the optimal batch size and state a reason for your selection.\n",
    "\n",
    "This might take a while to run, so plan your time carefully."
   ]
  },
  {
   "cell_type": "code",
   "execution_count": 13,
   "metadata": {},
   "outputs": [],
   "source": [
    "import tqdm\n",
    "import time\n",
    "import random\n",
    "import numpy as np\n",
    "import pandas as pd\n",
    "import matplotlib.pyplot as plt\n",
    "import common_utils\n",
    "\n",
    "import torch\n",
    "from torch import nn\n",
    "from torch.utils.data import Dataset\n",
    "from torch.utils.data import DataLoader\n",
    "\n",
    "from scipy.io import wavfile as wav\n",
    "\n",
    "from sklearn import preprocessing\n",
    "from sklearn.preprocessing import StandardScaler\n",
    "from sklearn.model_selection import KFold\n",
    "from sklearn.model_selection import train_test_split\n",
    "from sklearn.metrics import f1_score, precision_score, recall_score, confusion_matrix\n",
    "\n",
    "from common_utils import set_seed\n",
    "\n",
    "# setting seed\n",
    "SEED = 0\n",
    "set_seed(SEED)"
   ]
  },
  {
   "cell_type": "markdown",
   "metadata": {},
   "source": [
    "1.To reduce repeated code, place your\n",
    "\n",
    "- network (MLP defined in QA1)\n",
    "\n",
    "- torch datasets (CustomDataset defined in QA1)\n",
    "- loss function (loss_fn defined in QA1)\n",
    "in a separate file called common_utils.py\n",
    "\n",
    "Import them into this file. You will not be repenalised for any error in QA1 here as the code in QA1 will not be remarked.\n",
    "\n",
    "The following code cell will not be marked."
   ]
  },
  {
   "cell_type": "code",
   "execution_count": 16,
   "metadata": {},
   "outputs": [
    {
     "data": {
      "text/html": [
       "<div>\n",
       "<style scoped>\n",
       "    .dataframe tbody tr th:only-of-type {\n",
       "        vertical-align: middle;\n",
       "    }\n",
       "\n",
       "    .dataframe tbody tr th {\n",
       "        vertical-align: top;\n",
       "    }\n",
       "\n",
       "    .dataframe thead th {\n",
       "        text-align: right;\n",
       "    }\n",
       "</style>\n",
       "<table border=\"1\" class=\"dataframe\">\n",
       "  <thead>\n",
       "    <tr style=\"text-align: right;\">\n",
       "      <th></th>\n",
       "      <th>filename</th>\n",
       "      <th>tempo</th>\n",
       "      <th>total_beats</th>\n",
       "      <th>average_beats</th>\n",
       "      <th>chroma_stft_mean</th>\n",
       "      <th>chroma_stft_var</th>\n",
       "      <th>chroma_cq_mean</th>\n",
       "      <th>chroma_cq_var</th>\n",
       "      <th>chroma_cens_mean</th>\n",
       "      <th>chroma_cens_var</th>\n",
       "      <th>...</th>\n",
       "      <th>mfcc15_mean</th>\n",
       "      <th>mfcc15_var</th>\n",
       "      <th>mfcc16_mean</th>\n",
       "      <th>mfcc16_var</th>\n",
       "      <th>mfcc17_mean</th>\n",
       "      <th>mfcc17_var</th>\n",
       "      <th>mfcc18_mean</th>\n",
       "      <th>mfcc18_var</th>\n",
       "      <th>mfcc19_mean</th>\n",
       "      <th>mfcc19_var</th>\n",
       "    </tr>\n",
       "  </thead>\n",
       "  <tbody>\n",
       "    <tr>\n",
       "      <th>0</th>\n",
       "      <td>app_3001_4001_phnd_neg_0000.wav</td>\n",
       "      <td>184.570312</td>\n",
       "      <td>623</td>\n",
       "      <td>69.222222</td>\n",
       "      <td>0.515281</td>\n",
       "      <td>0.093347</td>\n",
       "      <td>0.443441</td>\n",
       "      <td>0.082742</td>\n",
       "      <td>0.249143</td>\n",
       "      <td>0.021261</td>\n",
       "      <td>...</td>\n",
       "      <td>-10.669799</td>\n",
       "      <td>63.340282</td>\n",
       "      <td>1.811605</td>\n",
       "      <td>58.117188</td>\n",
       "      <td>-3.286546</td>\n",
       "      <td>54.268448</td>\n",
       "      <td>-2.719069</td>\n",
       "      <td>59.548176</td>\n",
       "      <td>-4.559987</td>\n",
       "      <td>70.774803</td>\n",
       "    </tr>\n",
       "    <tr>\n",
       "      <th>1</th>\n",
       "      <td>app_3001_4001_phnd_neg_0001.wav</td>\n",
       "      <td>151.999081</td>\n",
       "      <td>521</td>\n",
       "      <td>74.428571</td>\n",
       "      <td>0.487201</td>\n",
       "      <td>0.094461</td>\n",
       "      <td>0.542182</td>\n",
       "      <td>0.073359</td>\n",
       "      <td>0.274423</td>\n",
       "      <td>0.008025</td>\n",
       "      <td>...</td>\n",
       "      <td>-5.666375</td>\n",
       "      <td>90.256195</td>\n",
       "      <td>1.573594</td>\n",
       "      <td>105.070496</td>\n",
       "      <td>-0.742024</td>\n",
       "      <td>82.417496</td>\n",
       "      <td>-1.961745</td>\n",
       "      <td>119.312355</td>\n",
       "      <td>1.513660</td>\n",
       "      <td>101.014572</td>\n",
       "    </tr>\n",
       "    <tr>\n",
       "      <th>2</th>\n",
       "      <td>app_3001_4001_phnd_neg_0002.wav</td>\n",
       "      <td>112.347147</td>\n",
       "      <td>1614</td>\n",
       "      <td>146.727273</td>\n",
       "      <td>0.444244</td>\n",
       "      <td>0.099268</td>\n",
       "      <td>0.442014</td>\n",
       "      <td>0.083224</td>\n",
       "      <td>0.264430</td>\n",
       "      <td>0.013410</td>\n",
       "      <td>...</td>\n",
       "      <td>-5.502390</td>\n",
       "      <td>73.079750</td>\n",
       "      <td>0.202623</td>\n",
       "      <td>72.040550</td>\n",
       "      <td>-4.021009</td>\n",
       "      <td>73.844353</td>\n",
       "      <td>-5.916223</td>\n",
       "      <td>103.834824</td>\n",
       "      <td>-2.939086</td>\n",
       "      <td>113.598824</td>\n",
       "    </tr>\n",
       "    <tr>\n",
       "      <th>3</th>\n",
       "      <td>app_3001_4001_phnd_neg_0003.wav</td>\n",
       "      <td>107.666016</td>\n",
       "      <td>2060</td>\n",
       "      <td>158.461538</td>\n",
       "      <td>0.454156</td>\n",
       "      <td>0.100834</td>\n",
       "      <td>0.424370</td>\n",
       "      <td>0.084435</td>\n",
       "      <td>0.257672</td>\n",
       "      <td>0.016938</td>\n",
       "      <td>...</td>\n",
       "      <td>-8.812989</td>\n",
       "      <td>93.791893</td>\n",
       "      <td>-0.429413</td>\n",
       "      <td>60.002579</td>\n",
       "      <td>-4.013513</td>\n",
       "      <td>82.544540</td>\n",
       "      <td>-5.858006</td>\n",
       "      <td>84.402092</td>\n",
       "      <td>0.686969</td>\n",
       "      <td>90.126389</td>\n",
       "    </tr>\n",
       "    <tr>\n",
       "      <th>4</th>\n",
       "      <td>app_3001_4001_phnd_neg_0004.wav</td>\n",
       "      <td>75.999540</td>\n",
       "      <td>66</td>\n",
       "      <td>33.000000</td>\n",
       "      <td>0.478780</td>\n",
       "      <td>0.100000</td>\n",
       "      <td>0.414859</td>\n",
       "      <td>0.089313</td>\n",
       "      <td>0.252143</td>\n",
       "      <td>0.019757</td>\n",
       "      <td>...</td>\n",
       "      <td>-6.584204</td>\n",
       "      <td>64.973305</td>\n",
       "      <td>0.744403</td>\n",
       "      <td>68.908516</td>\n",
       "      <td>-6.354805</td>\n",
       "      <td>66.414391</td>\n",
       "      <td>-6.555534</td>\n",
       "      <td>47.852840</td>\n",
       "      <td>-4.809713</td>\n",
       "      <td>73.033966</td>\n",
       "    </tr>\n",
       "  </tbody>\n",
       "</table>\n",
       "<p>5 rows × 78 columns</p>\n",
       "</div>"
      ],
      "text/plain": [
       "                          filename       tempo  total_beats  average_beats  \\\n",
       "0  app_3001_4001_phnd_neg_0000.wav  184.570312          623      69.222222   \n",
       "1  app_3001_4001_phnd_neg_0001.wav  151.999081          521      74.428571   \n",
       "2  app_3001_4001_phnd_neg_0002.wav  112.347147         1614     146.727273   \n",
       "3  app_3001_4001_phnd_neg_0003.wav  107.666016         2060     158.461538   \n",
       "4  app_3001_4001_phnd_neg_0004.wav   75.999540           66      33.000000   \n",
       "\n",
       "   chroma_stft_mean  chroma_stft_var  chroma_cq_mean  chroma_cq_var  \\\n",
       "0          0.515281         0.093347        0.443441       0.082742   \n",
       "1          0.487201         0.094461        0.542182       0.073359   \n",
       "2          0.444244         0.099268        0.442014       0.083224   \n",
       "3          0.454156         0.100834        0.424370       0.084435   \n",
       "4          0.478780         0.100000        0.414859       0.089313   \n",
       "\n",
       "   chroma_cens_mean  chroma_cens_var  ...  mfcc15_mean  mfcc15_var  \\\n",
       "0          0.249143         0.021261  ...   -10.669799   63.340282   \n",
       "1          0.274423         0.008025  ...    -5.666375   90.256195   \n",
       "2          0.264430         0.013410  ...    -5.502390   73.079750   \n",
       "3          0.257672         0.016938  ...    -8.812989   93.791893   \n",
       "4          0.252143         0.019757  ...    -6.584204   64.973305   \n",
       "\n",
       "   mfcc16_mean  mfcc16_var  mfcc17_mean  mfcc17_var  mfcc18_mean  mfcc18_var  \\\n",
       "0     1.811605   58.117188    -3.286546   54.268448    -2.719069   59.548176   \n",
       "1     1.573594  105.070496    -0.742024   82.417496    -1.961745  119.312355   \n",
       "2     0.202623   72.040550    -4.021009   73.844353    -5.916223  103.834824   \n",
       "3    -0.429413   60.002579    -4.013513   82.544540    -5.858006   84.402092   \n",
       "4     0.744403   68.908516    -6.354805   66.414391    -6.555534   47.852840   \n",
       "\n",
       "   mfcc19_mean  mfcc19_var  \n",
       "0    -4.559987   70.774803  \n",
       "1     1.513660  101.014572  \n",
       "2    -2.939086  113.598824  \n",
       "3     0.686969   90.126389  \n",
       "4    -4.809713   73.033966  \n",
       "\n",
       "[5 rows x 78 columns]"
      ]
     },
     "execution_count": 16,
     "metadata": {},
     "output_type": "execute_result"
    }
   ],
   "source": [
    "# YOUR CODE HERE\n",
    "df = pd.read_csv('simplified.csv')\n",
    "df.head()"
   ]
  },
  {
   "cell_type": "code",
   "execution_count": 17,
   "metadata": {},
   "outputs": [
    {
     "name": "stdout",
     "output_type": "stream",
     "text": [
      "(8439, 77) (8439,)\n",
      "(3618, 77) (3618,)\n"
     ]
    }
   ],
   "source": [
    "print(X_train.shape, y_train.shape)\n",
    "print(X_test.shape, y_test.shape)"
   ]
  },
  {
   "cell_type": "markdown",
   "metadata": {},
   "source": [
    "2.Define different folds for different batch sizes to get a dictionary of training and validation datasets. Preprocess your datasets accordingly."
   ]
  },
  {
   "cell_type": "code",
   "execution_count": 18,
   "metadata": {},
   "outputs": [
    {
     "name": "stdout",
     "output_type": "stream",
     "text": [
      "label\n",
      "pos    6202\n",
      "neg    5855\n",
      "Name: count, dtype: int64\n"
     ]
    }
   ],
   "source": [
    "set_seed()\n",
    "\n",
    "# Extracting the 'label' from the 'filename' column.\n",
    "# It appears the label is embedded in the filename and is the penultimate (second last) item when split by '_'.\n",
    "df['label'] = df['filename'].str.split('_').str[-2]\n",
    "\n",
    "# Checking the distribution of the labels.\n",
    "print(df['label'].value_counts())\n",
    "\n",
    "# Dropping Unnecessary Columns and Splitting the Dataset:\n",
    "# The dataset column called filename is likely a unique identifier for each sample and not a feature we would use for modeling. Hence, we should remove it before feeding the data to our model. \n",
    "columns_to_drop = ['filename', 'label']  \n",
    "\n",
    "# Splitting the dataset into training and testing sets:\n",
    "# The split is done in a 70:30 ratio, and the random_state ensures reproducibility.\n",
    "# We still do train-test split here because the question specifies us to use 5-fold cross-validation on the training partition and not the whole dataset.\n",
    "X_train, y_train, X_test, y_test = split_dataset(df, columns_to_drop, test_size=0.3, random_state=SEED)\n",
    "\n",
    "\n",
    "def generate_cv_folds_for_batch_sizes(parameters, X_train, y_train):\n",
    "    \"\"\"\n",
    "    returns:\n",
    "    X_train_scaled_dict(dict) where X_train_scaled_dict[batch_size] is a list of the preprocessed training matrix for the different folds.\n",
    "    X_val_scaled_dict(dict) where X_val_scaled_dict[batch_size] is a list of the processed validation matrix for the different folds.\n",
    "    y_train_dict(dict) where y_train_dict[batch_size] is a list of labels for the different folds\n",
    "    y_val_dict(dict) where y_val_dict[batch_size] is a list of labels for the different folds\n",
    "    \"\"\"\n",
    "    # Dictionary Initializations\n",
    "    X_train_scaled_dict = {}  # Dictionary to store scaled training data\n",
    "    X_val_scaled_dict = {}    # Dictionary to store scaled validation data\n",
    "    y_train_dict = {}         # Dictionary to store training labels\n",
    "    y_val_dict = {}           # Dictionary to store validation labels\n",
    "\n",
    "    # Create a 5-fold cross-validation object with shuffling\n",
    "    cv = KFold(n_splits=5, shuffle=True, random_state=SEED)\n",
    "\n",
    "    # Loop through different batch sizes\n",
    "    for batch_size in parameters:\n",
    "        X_train_scaled_folds = []  # List to store scaled training data for each fold\n",
    "        X_val_scaled_folds = []    # List to store scaled validation data for each fold\n",
    "        y_train_folds = []         # List to store training labels for each fold\n",
    "        y_val_folds = []           # List to store validation labels for each fold\n",
    "\n",
    "        # Loop through each fold\n",
    "        for train_idx, val_idx in cv.split(X_train, y_train):\n",
    "            X_train_fold, y_train_fold = X_train[train_idx], y_train[train_idx]\n",
    "            X_val_fold, y_val_fold = X_train[val_idx], y_train[val_idx]\n",
    "\n",
    "            # Scaling the data using StandardScaler\n",
    "            scaler = StandardScaler()\n",
    "            X_train_fold_scaled = scaler.fit_transform(X_train_fold)\n",
    "            X_val_fold_scaled = scaler.transform(X_val_fold)\n",
    "\n",
    "            # Append data to respective lists\n",
    "            X_train_scaled_folds.append(X_train_fold_scaled)\n",
    "            X_val_scaled_folds.append(X_val_fold_scaled)\n",
    "            y_train_folds.append(y_train_fold)\n",
    "            y_val_folds.append(y_val_fold)\n",
    "\n",
    "        # Store data for this batch size in dictionaries\n",
    "        X_train_scaled_dict[batch_size] = X_train_scaled_folds\n",
    "        X_val_scaled_dict[batch_size] = X_val_scaled_folds\n",
    "        y_train_dict[batch_size] = y_train_folds\n",
    "        y_val_dict[batch_size] = y_val_folds\n",
    "\n",
    "    # Return the dictionaries containing data for different batch sizes\n",
    "    return X_train_scaled_dict, X_val_scaled_dict, y_train_dict, y_val_dict\n",
    "\n",
    "set_seed(SEED)  # Set a specific random seed for reproducibility\n",
    "batch_sizes = [128, 256, 512, 1024]  # List of batch sizes to generate folds for\n",
    "X_train_scaled_dict, X_val_scaled_dict, y_train_dict, y_val_dict = generate_cv_folds_for_batch_sizes(batch_sizes, X_train.to_numpy(), y_train)"
   ]
  },
  {
   "cell_type": "code",
   "execution_count": 26,
   "metadata": {},
   "outputs": [],
   "source": [
    "from common_utils import CustomDataset\n",
    "\n",
    "# Dictionaries to hold the DataLoaders for training and validation datasets for each batch size.\n",
    "set_seed(SEED)\n",
    "train_loaders_dict = {}\n",
    "val_loaders_dict = {}\n",
    "\n",
    "# Loop through each batch size we're considering\n",
    "for batch_size in batch_sizes:\n",
    "    \n",
    "    # Lists to store DataLoaders for the current batch size for each of the 5 folds\n",
    "    train_loaders = []\n",
    "    val_loaders = []\n",
    "\n",
    "    # Loop through each fold (0 through 4 for 5-fold CV)\n",
    "    for i in range(5):\n",
    "        \n",
    "        # Create a PyTorch Dataset for the training data for the current fold. The CustomDataset will convert our data into a format that PyTorch can work with.\n",
    "        train_dataset = CustomDataset(X_train_scaled_dict[batch_size][i], y_train_dict[batch_size][i])\n",
    "        \n",
    "        # Similarly, create a PyTorch Dataset for the validation data for the current fold.\n",
    "        val_dataset = CustomDataset(X_val_scaled_dict[batch_size][i], y_val_dict[batch_size][i])\n",
    "\n",
    "        # Create a DataLoader for the training dataset. This DataLoader will allow us to efficiently iterate over data in mini-batches of size 'batch_size'.\n",
    "        # We shuffle the training data to ensure the order is different each epoch.\n",
    "        train_loader = DataLoader(train_dataset, batch_size=batch_size, shuffle=True)\n",
    "        \n",
    "        # Create a DataLoader for the validation dataset. There's no need to shuffle validation data as we typically just evaluate performance on it.\n",
    "        val_loader = DataLoader(val_dataset, batch_size=batch_size, shuffle=False)\n",
    "        \n",
    "        # Append the created DataLoaders to our lists.\n",
    "        train_loaders.append(train_loader)\n",
    "        val_loaders.append(val_loader)\n",
    "\n",
    "    # Store the lists of DataLoaders in our dictionaries with the current batch size as the key. This way, when we need to access the DataLoader for a specific fold and batch size, we can easily retrieve it.\n",
    "    train_loaders_dict[batch_size] = train_loaders\n",
    "    val_loaders_dict[batch_size] = val_loaders"
   ]
  },
  {
   "cell_type": "code",
   "execution_count": null,
   "metadata": {},
   "outputs": [],
   "source": []
  },
  {
   "cell_type": "markdown",
   "metadata": {},
   "source": [
    "3.Perform hyperparameter tuning for the different batch sizes with 5-fold cross validation."
   ]
  },
  {
   "cell_type": "code",
   "execution_count": 29,
   "metadata": {},
   "outputs": [
    {
     "name": "stderr",
     "output_type": "stream",
     "text": [
      "\r",
      "  0%|                                                                                          | 0/100 [00:00<?, ?it/s]"
     ]
    },
    {
     "name": "stdout",
     "output_type": "stream",
     "text": [
      "========== Starting with batch_size: 128 ==========\n"
     ]
    },
    {
     "name": "stderr",
     "output_type": "stream",
     "text": [
      " 17%|█████████████▊                                                                   | 17/100 [00:06<00:33,  2.48it/s]\n",
      "  0%|                                                                                          | 0/100 [00:00<?, ?it/s]"
     ]
    },
    {
     "name": "stdout",
     "output_type": "stream",
     "text": [
      "Early stopping at epoch 18 during fold 1\n",
      "Fold 1 Last Epoch - Accuracy: 0.7079, Time: 0.3773 seconds\n"
     ]
    },
    {
     "name": "stderr",
     "output_type": "stream",
     "text": [
      " 29%|███████████████████████▍                                                         | 29/100 [00:11<00:27,  2.56it/s]\n",
      "  0%|                                                                                          | 0/100 [00:00<?, ?it/s]"
     ]
    },
    {
     "name": "stdout",
     "output_type": "stream",
     "text": [
      "Early stopping at epoch 30 during fold 2\n",
      "Fold 2 Last Epoch - Accuracy: 0.7618, Time: 0.3626 seconds\n"
     ]
    },
    {
     "name": "stderr",
     "output_type": "stream",
     "text": [
      " 23%|██████████████████▋                                                              | 23/100 [00:09<00:30,  2.52it/s]\n",
      "  0%|                                                                                          | 0/100 [00:00<?, ?it/s]"
     ]
    },
    {
     "name": "stdout",
     "output_type": "stream",
     "text": [
      "Early stopping at epoch 24 during fold 3\n",
      "Fold 3 Last Epoch - Accuracy: 0.7423, Time: 0.3779 seconds\n"
     ]
    },
    {
     "name": "stderr",
     "output_type": "stream",
     "text": [
      " 23%|██████████████████▋                                                              | 23/100 [00:09<00:30,  2.52it/s]\n",
      "  0%|                                                                                          | 0/100 [00:00<?, ?it/s]"
     ]
    },
    {
     "name": "stdout",
     "output_type": "stream",
     "text": [
      "Early stopping at epoch 24 during fold 4\n",
      "Fold 4 Last Epoch - Accuracy: 0.7222, Time: 0.3775 seconds\n"
     ]
    },
    {
     "name": "stderr",
     "output_type": "stream",
     "text": [
      " 27%|█████████████████████▊                                                           | 27/100 [00:10<00:28,  2.53it/s]\n",
      "  0%|                                                                                          | 0/100 [00:00<?, ?it/s]"
     ]
    },
    {
     "name": "stdout",
     "output_type": "stream",
     "text": [
      "Early stopping at epoch 28 during fold 5\n",
      "Fold 5 Last Epoch - Accuracy: 0.7338, Time: 0.3686 seconds\n",
      "\n",
      "Batch size 128's Last Epoch - Mean Accuracy: 0.7336, Mean Time: 0.3728 seconds\n",
      "\n",
      "========== Starting with batch_size: 256 ==========\n"
     ]
    },
    {
     "name": "stderr",
     "output_type": "stream",
     "text": [
      " 18%|██████████████▌                                                                  | 18/100 [00:05<00:24,  3.35it/s]\n",
      "  0%|                                                                                          | 0/100 [00:00<?, ?it/s]"
     ]
    },
    {
     "name": "stdout",
     "output_type": "stream",
     "text": [
      "Early stopping at epoch 19 during fold 1\n",
      "Fold 1 Last Epoch - Accuracy: 0.7115, Time: 0.2833 seconds\n"
     ]
    },
    {
     "name": "stderr",
     "output_type": "stream",
     "text": [
      " 26%|█████████████████████                                                            | 26/100 [00:07<00:22,  3.31it/s]\n",
      "  0%|                                                                                          | 0/100 [00:00<?, ?it/s]"
     ]
    },
    {
     "name": "stdout",
     "output_type": "stream",
     "text": [
      "Early stopping at epoch 27 during fold 2\n",
      "Fold 2 Last Epoch - Accuracy: 0.7382, Time: 0.2713 seconds\n"
     ]
    },
    {
     "name": "stderr",
     "output_type": "stream",
     "text": [
      " 34%|███████████████████████████▌                                                     | 34/100 [00:10<00:19,  3.35it/s]\n",
      "  0%|                                                                                          | 0/100 [00:00<?, ?it/s]"
     ]
    },
    {
     "name": "stdout",
     "output_type": "stream",
     "text": [
      "Early stopping at epoch 35 during fold 3\n",
      "Fold 3 Last Epoch - Accuracy: 0.7376, Time: 0.2822 seconds\n"
     ]
    },
    {
     "name": "stderr",
     "output_type": "stream",
     "text": [
      " 28%|██████████████████████▋                                                          | 28/100 [00:08<00:21,  3.38it/s]\n",
      "  0%|                                                                                          | 0/100 [00:00<?, ?it/s]"
     ]
    },
    {
     "name": "stdout",
     "output_type": "stream",
     "text": [
      "Early stopping at epoch 29 during fold 4\n",
      "Fold 4 Last Epoch - Accuracy: 0.718, Time: 0.2655 seconds\n"
     ]
    },
    {
     "name": "stderr",
     "output_type": "stream",
     "text": [
      " 24%|███████████████████▍                                                             | 24/100 [00:07<00:23,  3.27it/s]\n",
      "  0%|                                                                                          | 0/100 [00:00<?, ?it/s]"
     ]
    },
    {
     "name": "stdout",
     "output_type": "stream",
     "text": [
      "Early stopping at epoch 25 during fold 5\n",
      "Fold 5 Last Epoch - Accuracy: 0.7356, Time: 0.2789 seconds\n",
      "\n",
      "Batch size 256's Last Epoch - Mean Accuracy: 0.7282, Mean Time: 0.2762 seconds\n",
      "\n",
      "========== Starting with batch_size: 512 ==========\n"
     ]
    },
    {
     "name": "stderr",
     "output_type": "stream",
     "text": [
      " 35%|████████████████████████████▎                                                    | 35/100 [00:07<00:14,  4.43it/s]\n",
      "  0%|                                                                                          | 0/100 [00:00<?, ?it/s]"
     ]
    },
    {
     "name": "stdout",
     "output_type": "stream",
     "text": [
      "Early stopping at epoch 36 during fold 1\n",
      "Fold 1 Last Epoch - Accuracy: 0.7453, Time: 0.2181 seconds\n"
     ]
    },
    {
     "name": "stderr",
     "output_type": "stream",
     "text": [
      " 37%|█████████████████████████████▉                                                   | 37/100 [00:08<00:14,  4.38it/s]\n",
      "  0%|                                                                                          | 0/100 [00:00<?, ?it/s]"
     ]
    },
    {
     "name": "stdout",
     "output_type": "stream",
     "text": [
      "Early stopping at epoch 38 during fold 2\n",
      "Fold 2 Last Epoch - Accuracy: 0.7346, Time: 0.2162 seconds\n"
     ]
    },
    {
     "name": "stderr",
     "output_type": "stream",
     "text": [
      " 34%|███████████████████████████▌                                                     | 34/100 [00:07<00:15,  4.38it/s]\n",
      "  1%|▊                                                                                 | 1/100 [00:00<00:20,  4.78it/s]"
     ]
    },
    {
     "name": "stdout",
     "output_type": "stream",
     "text": [
      "Early stopping at epoch 35 during fold 3\n",
      "Fold 3 Last Epoch - Accuracy: 0.7281, Time: 0.2131 seconds\n"
     ]
    },
    {
     "name": "stderr",
     "output_type": "stream",
     "text": [
      " 24%|███████████████████▍                                                             | 24/100 [00:05<00:17,  4.36it/s]\n",
      "  1%|▊                                                                                 | 1/100 [00:00<00:20,  4.85it/s]"
     ]
    },
    {
     "name": "stdout",
     "output_type": "stream",
     "text": [
      "Early stopping at epoch 25 during fold 4\n",
      "Fold 4 Last Epoch - Accuracy: 0.6777, Time: 0.2017 seconds\n"
     ]
    },
    {
     "name": "stderr",
     "output_type": "stream",
     "text": [
      " 31%|█████████████████████████                                                        | 31/100 [00:06<00:15,  4.44it/s]\n",
      "  1%|▊                                                                                 | 1/100 [00:00<00:17,  5.56it/s]"
     ]
    },
    {
     "name": "stdout",
     "output_type": "stream",
     "text": [
      "Early stopping at epoch 32 during fold 5\n",
      "Fold 5 Last Epoch - Accuracy: 0.7137, Time: 0.2113 seconds\n",
      "\n",
      "Batch size 512's Last Epoch - Mean Accuracy: 0.7199, Mean Time: 0.2121 seconds\n",
      "\n",
      "========== Starting with batch_size: 1024 ==========\n"
     ]
    },
    {
     "name": "stderr",
     "output_type": "stream",
     "text": [
      " 43%|██████████████████████████████████▊                                              | 43/100 [00:08<00:11,  5.14it/s]\n",
      "  1%|▊                                                                                 | 1/100 [00:00<00:17,  5.62it/s]"
     ]
    },
    {
     "name": "stdout",
     "output_type": "stream",
     "text": [
      "Early stopping at epoch 44 during fold 1\n",
      "Fold 1 Last Epoch - Accuracy: 0.7186, Time: 0.3029 seconds\n"
     ]
    },
    {
     "name": "stderr",
     "output_type": "stream",
     "text": [
      " 38%|██████████████████████████████▊                                                  | 38/100 [00:07<00:11,  5.20it/s]\n",
      "  0%|                                                                                          | 0/100 [00:00<?, ?it/s]"
     ]
    },
    {
     "name": "stdout",
     "output_type": "stream",
     "text": [
      "Early stopping at epoch 39 during fold 2\n",
      "Fold 2 Last Epoch - Accuracy: 0.7233, Time: 0.1668 seconds\n"
     ]
    },
    {
     "name": "stderr",
     "output_type": "stream",
     "text": [
      " 42%|██████████████████████████████████                                               | 42/100 [00:08<00:11,  5.25it/s]\n",
      "  1%|▊                                                                                 | 1/100 [00:00<00:18,  5.49it/s]"
     ]
    },
    {
     "name": "stdout",
     "output_type": "stream",
     "text": [
      "Early stopping at epoch 43 during fold 3\n",
      "Fold 3 Last Epoch - Accuracy: 0.7382, Time: 0.1771 seconds\n"
     ]
    },
    {
     "name": "stderr",
     "output_type": "stream",
     "text": [
      " 37%|█████████████████████████████▉                                                   | 37/100 [00:07<00:12,  5.05it/s]\n",
      "  0%|                                                                                          | 0/100 [00:00<?, ?it/s]"
     ]
    },
    {
     "name": "stdout",
     "output_type": "stream",
     "text": [
      "Early stopping at epoch 38 during fold 4\n",
      "Fold 4 Last Epoch - Accuracy: 0.6955, Time: 0.1783 seconds\n"
     ]
    },
    {
     "name": "stderr",
     "output_type": "stream",
     "text": [
      " 28%|██████████████████████▋                                                          | 28/100 [00:05<00:14,  5.06it/s]\n"
     ]
    },
    {
     "name": "stdout",
     "output_type": "stream",
     "text": [
      "Early stopping at epoch 29 during fold 5\n",
      "Fold 5 Last Epoch - Accuracy: 0.7184, Time: 0.1762 seconds\n",
      "\n",
      "Batch size 1024's Last Epoch - Mean Accuracy: 0.7188, Mean Time: 0.2003 seconds\n",
      "\n",
      "Mean Cross-Validation Accuracy On Final Epoch Against Different Batch Sizes:\n",
      "\n"
     ]
    },
    {
     "data": {
      "text/html": [
       "<div>\n",
       "<style scoped>\n",
       "    .dataframe tbody tr th:only-of-type {\n",
       "        vertical-align: middle;\n",
       "    }\n",
       "\n",
       "    .dataframe tbody tr th {\n",
       "        vertical-align: top;\n",
       "    }\n",
       "\n",
       "    .dataframe thead th {\n",
       "        text-align: right;\n",
       "    }\n",
       "</style>\n",
       "<table border=\"1\" class=\"dataframe\">\n",
       "  <thead>\n",
       "    <tr style=\"text-align: right;\">\n",
       "      <th></th>\n",
       "      <th>Batch Size</th>\n",
       "      <th>Mean Cross-Validation Accuracy On Final Epoch</th>\n",
       "    </tr>\n",
       "  </thead>\n",
       "  <tbody>\n",
       "    <tr>\n",
       "      <th>0</th>\n",
       "      <td>128</td>\n",
       "      <td>0.7336</td>\n",
       "    </tr>\n",
       "    <tr>\n",
       "      <th>1</th>\n",
       "      <td>256</td>\n",
       "      <td>0.7282</td>\n",
       "    </tr>\n",
       "    <tr>\n",
       "      <th>2</th>\n",
       "      <td>512</td>\n",
       "      <td>0.7199</td>\n",
       "    </tr>\n",
       "    <tr>\n",
       "      <th>3</th>\n",
       "      <td>1024</td>\n",
       "      <td>0.7188</td>\n",
       "    </tr>\n",
       "  </tbody>\n",
       "</table>\n",
       "</div>"
      ],
      "text/plain": [
       "   Batch Size  Mean Cross-Validation Accuracy On Final Epoch\n",
       "0         128                                         0.7336\n",
       "1         256                                         0.7282\n",
       "2         512                                         0.7199\n",
       "3        1024                                         0.7188"
      ]
     },
     "metadata": {},
     "output_type": "display_data"
    }
   ],
   "source": [
    "# YOUR CODE HERE\n",
    "\n",
    "from common_utils import loss_fn, MLP, EarlyStopper, train_one_epoch, evaluate_model\n",
    "from tqdm import tqdm\n",
    "\n",
    "def find_optimal_hyperparameter(X_train_scaled_dict, X_val_scaled_dict, y_train_dict, y_val_dict, batch_sizes, hyperparameter_name):\n",
    "    \n",
    "    # Initialize dictionaries to store results\n",
    "    cross_validation_accuracies = {size: [] for size in batch_sizes}\n",
    "    cross_validation_times = {size: [] for size in batch_sizes}\n",
    "    \n",
    "    # Define the loss function for training\n",
    "    loss_function = loss_fn\n",
    "    \n",
    "    # Get the number of input features from the first batch of the first fold\n",
    "    no_features = X_train_scaled_dict[batch_sizes[0]][0].shape[1]\n",
    "    \n",
    "    # Define the number of hidden units in the neural network\n",
    "    no_hidden = 128\n",
    "    \n",
    "    # Define the number of output labels (binary classification)\n",
    "    no_labels = 1\n",
    "    \n",
    "    # Define other hyperparameters\n",
    "    num_folds = 5\n",
    "    num_epochs = 100\n",
    "    learning_rate = 0.001\n",
    "    \n",
    "    # Iterate through each batch size\n",
    "    for batch_size in batch_sizes:\n",
    "        print(f\"========== Starting with {hyperparameter_name}: {batch_size} ==========\")\n",
    "        \n",
    "        # Iterate through each fold (5-fold cross-validation)\n",
    "        for i in range(num_folds):\n",
    "            \n",
    "            # Create a neural network model\n",
    "            model = MLP(no_features, no_hidden, no_labels)\n",
    "            \n",
    "            # Define the optimizer with a specified learning rate\n",
    "            optimizer = torch.optim.Adam(model.parameters(), lr=learning_rate)\n",
    "            \n",
    "            # Get the training and validation data loaders for the current batch size and fold\n",
    "            train_loader = train_loaders_dict[batch_size][i]\n",
    "            val_loader = val_loaders_dict[batch_size][i]\n",
    "            \n",
    "            # Initialize an EarlyStopper object to monitor early stopping\n",
    "            early_stopper = EarlyStopper(patience=3)\n",
    "            \n",
    "            # Loop through the specified number of training epochs\n",
    "            for epoch in tqdm(range(num_epochs)):\n",
    "                start_time = time.time()\n",
    "                \n",
    "                # Train the model for one epoch and compute the training loss\n",
    "                train_loss = train_one_epoch(model, train_loader, optimizer, loss_function)\n",
    "                \n",
    "                # Evaluate the model on the validation set and compute accuracy AND loss\n",
    "                val_accuracy, val_loss = evaluate_model(model, val_loader, loss_function)\n",
    "                \n",
    "                # Calculate the time taken for this epoch\n",
    "                end_time = time.time()\n",
    "                last_epoch_time = end_time - start_time\n",
    "                \n",
    "                # Check for early stopping based on validation loss\n",
    "                if early_stopper.early_stop(val_loss):\n",
    "                    print(f\"Early stopping at epoch {epoch + 1} during fold {i + 1}\")\n",
    "                    break\n",
    "\n",
    "            \n",
    "            # Store the time taken for the last epoch for this fold\n",
    "            cross_validation_times[batch_size].append(last_epoch_time)\n",
    "            \n",
    "            # Store the validation accuracy for this fold\n",
    "            cross_validation_accuracies[batch_size].append(val_accuracy)\n",
    "            \n",
    "            # Print the results for this fold\n",
    "            print(f\"Fold {i + 1} Last Epoch - Accuracy: {round(val_accuracy,4)}, Time: {round(last_epoch_time,4)} seconds\")\n",
    "        \n",
    "        print()\n",
    "        # Calculate and print the mean cross-validation accuracy + mean time taken for last epoch for this batch size\n",
    "        mean_accuracy = sum(cross_validation_accuracies[batch_size]) / len(cross_validation_accuracies[batch_size])\n",
    "        mean_time = sum(cross_validation_times[batch_size]) / len(cross_validation_times[batch_size])\n",
    "        print(f\"Batch size {batch_size}'s Last Epoch - Mean Accuracy: {round(mean_accuracy,4)}, Mean Time: {round(mean_time,4)} seconds\")\n",
    "        print()\n",
    "        \n",
    "    return cross_validation_accuracies, cross_validation_times\n",
    "\n",
    "set_seed(SEED)\n",
    "\n",
    "batch_sizes = [128, 256, 512, 1024]\n",
    "cross_validation_accuracies, cross_validation_times = find_optimal_hyperparameter(X_train_scaled_dict, X_val_scaled_dict, y_train_dict, y_val_dict, batch_sizes, 'batch_size')\n",
    "\n",
    "# Prepare for plotting\n",
    "batch_sizes_list = list(cross_validation_accuracies.keys())\n",
    "mean_cv_accuracies = [round(sum(cross_validation_accuracies[batch_size]) / len(cross_validation_accuracies[batch_size]),4) for batch_size in batch_sizes_list]\n",
    "\n",
    "# Create a dataframe for mean cross validation accuracies against batch sizes\n",
    "cv_accuracies_df = pd.DataFrame({\n",
    "    'Batch Size': batch_sizes_list,\n",
    "    'Mean Cross-Validation Accuracy On Final Epoch': mean_cv_accuracies\n",
    "})\n",
    "\n",
    "print(\"Mean Cross-Validation Accuracy On Final Epoch Against Different Batch Sizes:\")\n",
    "print()\n",
    "display(cv_accuracies_df)"
   ]
  },
  {
   "cell_type": "code",
   "execution_count": null,
   "metadata": {},
   "outputs": [],
   "source": []
  },
  {
   "cell_type": "markdown",
   "metadata": {},
   "source": [
    "4.Plot scatterplot of mean cross validation accuracies for the different batch sizes."
   ]
  },
  {
   "cell_type": "code",
   "execution_count": 30,
   "metadata": {},
   "outputs": [
    {
     "data": {
      "image/png": "[encoded data removed]",
      "text/plain": [
       "<Figure size 640x480 with 1 Axes>"
      ]
     },
     "metadata": {},
     "output_type": "display_data"
    }
   ],
   "source": [
    "# YOUR CODE HERE\n",
    "# Plot mean cross-validation accuracies on the final epoch for different batch sizes\n",
    "plt.scatter(batch_sizes_list, mean_cv_accuracies, marker='x')\n",
    "plt.xlabel('Batch Sizes')\n",
    "plt.ylabel('Mean Cross-Validation Accuracy')\n",
    "plt.title('Mean Cross-Validation Accuracy On Final Epoch vs Batch Size')\n",
    "plt.xticks(batch_sizes_list)\n",
    "\n",
    "# Add labels to each data point\n",
    "for i, txt in enumerate(mean_cv_accuracies):\n",
    "    if i == 2 or i == 3:\n",
    "        plt.text(batch_sizes_list[i] - 10, mean_cv_accuracies[i] + 0.0012, round(txt, 4), ha='center')  \n",
    "    else:\n",
    "        plt.text(batch_sizes_list[i] + 10, mean_cv_accuracies[i] - 0.0012, round(txt, 4), ha='center')\n",
    "plt.show()"
   ]
  },
  {
   "cell_type": "markdown",
   "metadata": {},
   "source": [
    "4.Create a table of time taken to train the network on the last epoch against different batch sizes. Select the optimal batch size and state a reason for your selection."
   ]
  },
  {
   "cell_type": "code",
   "execution_count": 31,
   "metadata": {},
   "outputs": [
    {
     "name": "stdout",
     "output_type": "stream",
     "text": [
      "Mean Time Taken to Train the Network on the Last Epoch Across 5 Folds Against Different Batch Sizes:\n",
      "\n"
     ]
    },
    {
     "data": {
      "text/html": [
       "<div>\n",
       "<style scoped>\n",
       "    .dataframe tbody tr th:only-of-type {\n",
       "        vertical-align: middle;\n",
       "    }\n",
       "\n",
       "    .dataframe tbody tr th {\n",
       "        vertical-align: top;\n",
       "    }\n",
       "\n",
       "    .dataframe thead th {\n",
       "        text-align: right;\n",
       "    }\n",
       "</style>\n",
       "<table border=\"1\" class=\"dataframe\">\n",
       "  <thead>\n",
       "    <tr style=\"text-align: right;\">\n",
       "      <th></th>\n",
       "      <th>Batch Size</th>\n",
       "      <th>Mean Time Taken for Last Epoch Across 5 Folds (seconds)</th>\n",
       "    </tr>\n",
       "  </thead>\n",
       "  <tbody>\n",
       "    <tr>\n",
       "      <th>0</th>\n",
       "      <td>128</td>\n",
       "      <td>0.3728</td>\n",
       "    </tr>\n",
       "    <tr>\n",
       "      <th>1</th>\n",
       "      <td>256</td>\n",
       "      <td>0.2762</td>\n",
       "    </tr>\n",
       "    <tr>\n",
       "      <th>2</th>\n",
       "      <td>512</td>\n",
       "      <td>0.2121</td>\n",
       "    </tr>\n",
       "    <tr>\n",
       "      <th>3</th>\n",
       "      <td>1024</td>\n",
       "      <td>0.2003</td>\n",
       "    </tr>\n",
       "  </tbody>\n",
       "</table>\n",
       "</div>"
      ],
      "text/plain": [
       "   Batch Size  Mean Time Taken for Last Epoch Across 5 Folds (seconds)\n",
       "0         128                                             0.3728      \n",
       "1         256                                             0.2762      \n",
       "2         512                                             0.2121      \n",
       "3        1024                                             0.2003      "
      ]
     },
     "metadata": {},
     "output_type": "display_data"
    }
   ],
   "source": [
    "# Please note that the next time you run this notebook cell, the results will be different as time taken depends on CPU speed and other factors.\n",
    "\n",
    "# Calculate mean time for the last epoch for each batch size\n",
    "mean_last_epoch_times_list = [round(sum(cross_validation_times[batch_size]) / len(cross_validation_times[batch_size]),4) for batch_size in batch_sizes_list]\n",
    "\n",
    "# Create a table of time taken to train the network on the last epoch against different batch sizes\n",
    "time_df = pd.DataFrame({\n",
    "    'Batch Size': batch_sizes_list,\n",
    "    'Mean Time Taken for Last Epoch Across 5 Folds (seconds)': mean_last_epoch_times_list\n",
    "})\n",
    "\n",
    "print(\"Mean Time Taken to Train the Network on the Last Epoch Across 5 Folds Against Different Batch Sizes:\")\n",
    "print()\n",
    "display(time_df)"
   ]
  },
  {
   "cell_type": "code",
   "execution_count": null,
   "metadata": {},
   "outputs": [],
   "source": []
  },
  {
   "cell_type": "code",
   "execution_count": 32,
   "metadata": {},
   "outputs": [
    {
     "name": "stdout",
     "output_type": "stream",
     "text": [
      "Optimal batch size: 256\n",
      "\n",
      "Reason: \n",
      "\n",
      "Given the balance of accuracy and speed, the Batch Size of 256 emerges as the optimal choice.\n",
      "\n",
      "Selection of Optimal Batch Size:\n",
      "\n",
      "    • Selecting the appropriate batch size is a crucial step in the optimization of neural networks. The goal is to find an equilibrium that harmonizes both computational efficiency \n",
      "    and model accuracy. Intuitively, as batch size increases, training tends to be swifter due to enhanced parallelism and optimized matrix operations, resulting in a higher throughput \n",
      "    of computations. However, excessively large batch sizes may reduce the stochastic nature of gradient descent, potentially leading to a compromise in accuracy as we can see in the \n",
      "    results above. Additionally, it is also important to note that the trends are not definitive for the entire dataset as we are only calculating the mean values of the last epoch over the 5 folds\n",
      "    for each batch size. Thus, the results may vary if we take the mean values of all the epochs instead.\n",
      "\n",
      "From the data:\n",
      "\n",
      "    • Batch Size of 128: This size is the most accurate, coming in at 0.7336. However, this heightened accuracy comes at the cost of time, as it is the slowest,taking about 0.3686 seconds.\n",
      "\n",
      "    • Batch Size of 256: Presents itself as the optimal choice. Its accuracy is the second highest at 0.7282 by quite a large margin. Moreover, its efficiency shines through, clocking in a time of \n",
      "    0.2762 seconds. It offers the best trade-off between performance and speed.\n",
      "\n",
      "    • Batch Sizes of 512 and 1024: As the batch sizes increase, we note a clear decline in accuracy. The batch size of 512 is faster than the first two at 0.2121 seconds, but its \n",
      "    accuracy drops to 0.7186. Similarly, a batch size of 1024 is the fastest at 0.2003 seconds but has a lowest accuracy of 0.7188.\n",
      "\n",
      "Conclusion:\n",
      "\n",
      "    • While the batch size of 128 has a competitive accuracy, the performance of 256 with a higher accuracy and reasonable computation time stands out. The difference in accuracy \n",
      "    between 128 and 256 is quite large and the increase in efficiency with 256 is significant. Furthermore, as we increase the batch size beyond this point, the reductions in time do not \n",
      "    compensate for the drops in accuracy, particularly at 512 and 1024. Thus, the batch size of 256 provides the most balanced outcome in the context of our data, combining \n",
      "    together swift training with robust performance.\n",
      "\n"
     ]
    }
   ],
   "source": [
    "# YOUR CODE HERE\n",
    "optimal_batch_size = 256\n",
    "reason = '''\n",
    "\n",
    "Given the balance of accuracy and speed, the Batch Size of 256 emerges as the optimal choice.\n",
    "\n",
    "Selection of Optimal Batch Size:\n",
    "\n",
    "    • Selecting the appropriate batch size is a crucial step in the optimization of neural networks. The goal is to find an equilibrium that harmonizes both computational efficiency \n",
    "    and model accuracy. Intuitively, as batch size increases, training tends to be swifter due to enhanced parallelism and optimized matrix operations, resulting in a higher throughput \n",
    "    of computations. However, excessively large batch sizes may reduce the stochastic nature of gradient descent, potentially leading to a compromise in accuracy as we can see in the \n",
    "    results above. Additionally, it is also important to note that the trends are not definitive for the entire dataset as we are only calculating the mean values of the last epoch over the 5 folds\n",
    "    for each batch size. Thus, the results may vary if we take the mean values of all the epochs instead.\n",
    "\n",
    "From the data:\n",
    "\n",
    "    • Batch Size of 128: This size is the most accurate, coming in at 0.7336. However, this heightened accuracy comes at the cost of time, as it is the slowest,taking about 0.3686 seconds.\n",
    "\n",
    "    • Batch Size of 256: Presents itself as the optimal choice. Its accuracy is the second highest at 0.7282 by quite a large margin. Moreover, its efficiency shines through, clocking in a time of \n",
    "    0.2762 seconds. It offers the best trade-off between performance and speed.\n",
    "\n",
    "    • Batch Sizes of 512 and 1024: As the batch sizes increase, we note a clear decline in accuracy. The batch size of 512 is faster than the first two at 0.2121 seconds, but its \n",
    "    accuracy drops to 0.7186. Similarly, a batch size of 1024 is the fastest at 0.2003 seconds but has a lowest accuracy of 0.7188.\n",
    "\n",
    "Conclusion:\n",
    "\n",
    "    • While the batch size of 128 has a competitive accuracy, the performance of 256 with a higher accuracy and reasonable computation time stands out. The difference in accuracy \n",
    "    between 128 and 256 is quite large and the increase in efficiency with 256 is significant. Furthermore, as we increase the batch size beyond this point, the reductions in time do not \n",
    "    compensate for the drops in accuracy, particularly at 512 and 1024. Thus, the batch size of 256 provides the most balanced outcome in the context of our data, combining \n",
    "    together swift training with robust performance.\n",
    "'''\n",
    "\n",
    "print(f\"Optimal batch size: {optimal_batch_size}\")\n",
    "print()\n",
    "print(f\"Reason: {reason}\")"
   ]
  },
  {
   "cell_type": "code",
   "execution_count": null,
   "metadata": {},
   "outputs": [],
   "source": []
  }
 ],
 "metadata": {
  "kernelspec": {
   "display_name": "Python 3 (ipykernel)",
   "language": "python",
   "name": "python3"
  },
  "language_info": {
   "codemirror_mode": {
    "name": "ipython",
    "version": 3
   },
   "file_extension": ".py",
   "mimetype": "text/x-python",
   "name": "python",
   "nbconvert_exporter": "python",
   "pygments_lexer": "ipython3",
   "version": "3.8.18"
  }
 },
 "nbformat": 4,
 "nbformat_minor": 2
}
